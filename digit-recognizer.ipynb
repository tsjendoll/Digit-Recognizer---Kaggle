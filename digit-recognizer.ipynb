{
 "cells": [
  {
   "cell_type": "code",
   "execution_count": 1,
   "id": "8d279997",
   "metadata": {
    "_cell_guid": "b1076dfc-b9ad-4769-8c92-a6c4dae69d19",
    "_uuid": "8f2839f25d086af736a60e9eeb907d3b93b6e0e5",
    "execution": {
     "iopub.execute_input": "2024-02-11T21:25:26.005691Z",
     "iopub.status.busy": "2024-02-11T21:25:26.005328Z",
     "iopub.status.idle": "2024-02-11T21:25:39.409435Z",
     "shell.execute_reply": "2024-02-11T21:25:39.408418Z"
    },
    "papermill": {
     "duration": 13.417364,
     "end_time": "2024-02-11T21:25:39.411672",
     "exception": false,
     "start_time": "2024-02-11T21:25:25.994308",
     "status": "completed"
    },
    "tags": []
   },
   "outputs": [
    {
     "name": "stderr",
     "output_type": "stream",
     "text": [
      "2024-02-11 21:25:28.176865: E external/local_xla/xla/stream_executor/cuda/cuda_dnn.cc:9261] Unable to register cuDNN factory: Attempting to register factory for plugin cuDNN when one has already been registered\n",
      "2024-02-11 21:25:28.176970: E external/local_xla/xla/stream_executor/cuda/cuda_fft.cc:607] Unable to register cuFFT factory: Attempting to register factory for plugin cuFFT when one has already been registered\n",
      "2024-02-11 21:25:28.289239: E external/local_xla/xla/stream_executor/cuda/cuda_blas.cc:1515] Unable to register cuBLAS factory: Attempting to register factory for plugin cuBLAS when one has already been registered\n"
     ]
    },
    {
     "name": "stdout",
     "output_type": "stream",
     "text": [
      "/kaggle/input/digit-recognizer/sample_submission.csv\n",
      "/kaggle/input/digit-recognizer/train.csv\n",
      "/kaggle/input/digit-recognizer/test.csv\n"
     ]
    }
   ],
   "source": [
    "# This Python 3 environment comes with many helpful analytics libraries installed\n",
    "# It is defined by the kaggle/python Docker image: https://github.com/kaggle/docker-python\n",
    "# For example, here's several helpful packages to load\n",
    "\n",
    "import numpy as np # linear algebra\n",
    "import pandas as pd # data processing, CSV file I/O (e.g. pd.read_csv)\n",
    "import tensorflow as tf\n",
    "from tensorflow import keras\n",
    "from sklearn.preprocessing import StandardScaler, OneHotEncoder\n",
    "from sklearn.compose import make_column_transformer\n",
    "from sklearn.model_selection import train_test_split\n",
    "from tensorflow.keras import layers\n",
    "import matplotlib.pyplot as plt\n",
    "\n",
    "# Input data files are available in the read-only \"../input/\" directory\n",
    "# For example, running this (by clicking run or pressing Shift+Enter) will list all files under the input directory\n",
    "\n",
    "import os\n",
    "for dirname, _, filenames in os.walk('/kaggle/input'):\n",
    "    for filename in filenames:\n",
    "        print(os.path.join(dirname, filename))\n",
    "    \n",
    "# You can write up to 20GB to the current directory (/kaggle/working/) that gets preserved as output when you create a version using \"Save & Run All\" \n",
    "# You can also write temporary files to /kaggle/temp/, but they won't be saved outside of the current session"
   ]
  },
  {
   "cell_type": "code",
   "execution_count": 2,
   "id": "18e27390",
   "metadata": {
    "execution": {
     "iopub.execute_input": "2024-02-11T21:25:39.431921Z",
     "iopub.status.busy": "2024-02-11T21:25:39.431254Z",
     "iopub.status.idle": "2024-02-11T21:25:42.951944Z",
     "shell.execute_reply": "2024-02-11T21:25:42.951002Z"
    },
    "papermill": {
     "duration": 3.533407,
     "end_time": "2024-02-11T21:25:42.954192",
     "exception": false,
     "start_time": "2024-02-11T21:25:39.420785",
     "status": "completed"
    },
    "tags": []
   },
   "outputs": [
    {
     "name": "stdout",
     "output_type": "stream",
     "text": [
      "(42000, 785)\n"
     ]
    },
    {
     "data": {
      "text/html": [
       "<div>\n",
       "<style scoped>\n",
       "    .dataframe tbody tr th:only-of-type {\n",
       "        vertical-align: middle;\n",
       "    }\n",
       "\n",
       "    .dataframe tbody tr th {\n",
       "        vertical-align: top;\n",
       "    }\n",
       "\n",
       "    .dataframe thead th {\n",
       "        text-align: right;\n",
       "    }\n",
       "</style>\n",
       "<table border=\"1\" class=\"dataframe\">\n",
       "  <thead>\n",
       "    <tr style=\"text-align: right;\">\n",
       "      <th></th>\n",
       "      <th>label</th>\n",
       "      <th>pixel0</th>\n",
       "      <th>pixel1</th>\n",
       "      <th>pixel2</th>\n",
       "      <th>pixel3</th>\n",
       "      <th>pixel4</th>\n",
       "      <th>pixel5</th>\n",
       "      <th>pixel6</th>\n",
       "      <th>pixel7</th>\n",
       "      <th>pixel8</th>\n",
       "      <th>...</th>\n",
       "      <th>pixel774</th>\n",
       "      <th>pixel775</th>\n",
       "      <th>pixel776</th>\n",
       "      <th>pixel777</th>\n",
       "      <th>pixel778</th>\n",
       "      <th>pixel779</th>\n",
       "      <th>pixel780</th>\n",
       "      <th>pixel781</th>\n",
       "      <th>pixel782</th>\n",
       "      <th>pixel783</th>\n",
       "    </tr>\n",
       "  </thead>\n",
       "  <tbody>\n",
       "    <tr>\n",
       "      <th>0</th>\n",
       "      <td>1</td>\n",
       "      <td>0</td>\n",
       "      <td>0</td>\n",
       "      <td>0</td>\n",
       "      <td>0</td>\n",
       "      <td>0</td>\n",
       "      <td>0</td>\n",
       "      <td>0</td>\n",
       "      <td>0</td>\n",
       "      <td>0</td>\n",
       "      <td>...</td>\n",
       "      <td>0</td>\n",
       "      <td>0</td>\n",
       "      <td>0</td>\n",
       "      <td>0</td>\n",
       "      <td>0</td>\n",
       "      <td>0</td>\n",
       "      <td>0</td>\n",
       "      <td>0</td>\n",
       "      <td>0</td>\n",
       "      <td>0</td>\n",
       "    </tr>\n",
       "    <tr>\n",
       "      <th>1</th>\n",
       "      <td>0</td>\n",
       "      <td>0</td>\n",
       "      <td>0</td>\n",
       "      <td>0</td>\n",
       "      <td>0</td>\n",
       "      <td>0</td>\n",
       "      <td>0</td>\n",
       "      <td>0</td>\n",
       "      <td>0</td>\n",
       "      <td>0</td>\n",
       "      <td>...</td>\n",
       "      <td>0</td>\n",
       "      <td>0</td>\n",
       "      <td>0</td>\n",
       "      <td>0</td>\n",
       "      <td>0</td>\n",
       "      <td>0</td>\n",
       "      <td>0</td>\n",
       "      <td>0</td>\n",
       "      <td>0</td>\n",
       "      <td>0</td>\n",
       "    </tr>\n",
       "    <tr>\n",
       "      <th>2</th>\n",
       "      <td>1</td>\n",
       "      <td>0</td>\n",
       "      <td>0</td>\n",
       "      <td>0</td>\n",
       "      <td>0</td>\n",
       "      <td>0</td>\n",
       "      <td>0</td>\n",
       "      <td>0</td>\n",
       "      <td>0</td>\n",
       "      <td>0</td>\n",
       "      <td>...</td>\n",
       "      <td>0</td>\n",
       "      <td>0</td>\n",
       "      <td>0</td>\n",
       "      <td>0</td>\n",
       "      <td>0</td>\n",
       "      <td>0</td>\n",
       "      <td>0</td>\n",
       "      <td>0</td>\n",
       "      <td>0</td>\n",
       "      <td>0</td>\n",
       "    </tr>\n",
       "    <tr>\n",
       "      <th>3</th>\n",
       "      <td>4</td>\n",
       "      <td>0</td>\n",
       "      <td>0</td>\n",
       "      <td>0</td>\n",
       "      <td>0</td>\n",
       "      <td>0</td>\n",
       "      <td>0</td>\n",
       "      <td>0</td>\n",
       "      <td>0</td>\n",
       "      <td>0</td>\n",
       "      <td>...</td>\n",
       "      <td>0</td>\n",
       "      <td>0</td>\n",
       "      <td>0</td>\n",
       "      <td>0</td>\n",
       "      <td>0</td>\n",
       "      <td>0</td>\n",
       "      <td>0</td>\n",
       "      <td>0</td>\n",
       "      <td>0</td>\n",
       "      <td>0</td>\n",
       "    </tr>\n",
       "    <tr>\n",
       "      <th>4</th>\n",
       "      <td>0</td>\n",
       "      <td>0</td>\n",
       "      <td>0</td>\n",
       "      <td>0</td>\n",
       "      <td>0</td>\n",
       "      <td>0</td>\n",
       "      <td>0</td>\n",
       "      <td>0</td>\n",
       "      <td>0</td>\n",
       "      <td>0</td>\n",
       "      <td>...</td>\n",
       "      <td>0</td>\n",
       "      <td>0</td>\n",
       "      <td>0</td>\n",
       "      <td>0</td>\n",
       "      <td>0</td>\n",
       "      <td>0</td>\n",
       "      <td>0</td>\n",
       "      <td>0</td>\n",
       "      <td>0</td>\n",
       "      <td>0</td>\n",
       "    </tr>\n",
       "  </tbody>\n",
       "</table>\n",
       "<p>5 rows × 785 columns</p>\n",
       "</div>"
      ],
      "text/plain": [
       "   label  pixel0  pixel1  pixel2  pixel3  pixel4  pixel5  pixel6  pixel7  \\\n",
       "0      1       0       0       0       0       0       0       0       0   \n",
       "1      0       0       0       0       0       0       0       0       0   \n",
       "2      1       0       0       0       0       0       0       0       0   \n",
       "3      4       0       0       0       0       0       0       0       0   \n",
       "4      0       0       0       0       0       0       0       0       0   \n",
       "\n",
       "   pixel8  ...  pixel774  pixel775  pixel776  pixel777  pixel778  pixel779  \\\n",
       "0       0  ...         0         0         0         0         0         0   \n",
       "1       0  ...         0         0         0         0         0         0   \n",
       "2       0  ...         0         0         0         0         0         0   \n",
       "3       0  ...         0         0         0         0         0         0   \n",
       "4       0  ...         0         0         0         0         0         0   \n",
       "\n",
       "   pixel780  pixel781  pixel782  pixel783  \n",
       "0         0         0         0         0  \n",
       "1         0         0         0         0  \n",
       "2         0         0         0         0  \n",
       "3         0         0         0         0  \n",
       "4         0         0         0         0  \n",
       "\n",
       "[5 rows x 785 columns]"
      ]
     },
     "execution_count": 2,
     "metadata": {},
     "output_type": "execute_result"
    }
   ],
   "source": [
    "train_data = pd.read_csv(\"/kaggle/input/digit-recognizer/train.csv\")\n",
    "print(train_data.shape)\n",
    "train_data.head()"
   ]
  },
  {
   "cell_type": "code",
   "execution_count": 3,
   "id": "2f4ebe49",
   "metadata": {
    "execution": {
     "iopub.execute_input": "2024-02-11T21:25:42.973824Z",
     "iopub.status.busy": "2024-02-11T21:25:42.973518Z",
     "iopub.status.idle": "2024-02-11T21:25:45.005813Z",
     "shell.execute_reply": "2024-02-11T21:25:45.004879Z"
    },
    "papermill": {
     "duration": 2.044295,
     "end_time": "2024-02-11T21:25:45.007781",
     "exception": false,
     "start_time": "2024-02-11T21:25:42.963486",
     "status": "completed"
    },
    "tags": []
   },
   "outputs": [
    {
     "name": "stdout",
     "output_type": "stream",
     "text": [
      "(28000, 784)\n"
     ]
    },
    {
     "data": {
      "text/html": [
       "<div>\n",
       "<style scoped>\n",
       "    .dataframe tbody tr th:only-of-type {\n",
       "        vertical-align: middle;\n",
       "    }\n",
       "\n",
       "    .dataframe tbody tr th {\n",
       "        vertical-align: top;\n",
       "    }\n",
       "\n",
       "    .dataframe thead th {\n",
       "        text-align: right;\n",
       "    }\n",
       "</style>\n",
       "<table border=\"1\" class=\"dataframe\">\n",
       "  <thead>\n",
       "    <tr style=\"text-align: right;\">\n",
       "      <th></th>\n",
       "      <th>pixel0</th>\n",
       "      <th>pixel1</th>\n",
       "      <th>pixel2</th>\n",
       "      <th>pixel3</th>\n",
       "      <th>pixel4</th>\n",
       "      <th>pixel5</th>\n",
       "      <th>pixel6</th>\n",
       "      <th>pixel7</th>\n",
       "      <th>pixel8</th>\n",
       "      <th>pixel9</th>\n",
       "      <th>...</th>\n",
       "      <th>pixel774</th>\n",
       "      <th>pixel775</th>\n",
       "      <th>pixel776</th>\n",
       "      <th>pixel777</th>\n",
       "      <th>pixel778</th>\n",
       "      <th>pixel779</th>\n",
       "      <th>pixel780</th>\n",
       "      <th>pixel781</th>\n",
       "      <th>pixel782</th>\n",
       "      <th>pixel783</th>\n",
       "    </tr>\n",
       "  </thead>\n",
       "  <tbody>\n",
       "    <tr>\n",
       "      <th>0</th>\n",
       "      <td>0</td>\n",
       "      <td>0</td>\n",
       "      <td>0</td>\n",
       "      <td>0</td>\n",
       "      <td>0</td>\n",
       "      <td>0</td>\n",
       "      <td>0</td>\n",
       "      <td>0</td>\n",
       "      <td>0</td>\n",
       "      <td>0</td>\n",
       "      <td>...</td>\n",
       "      <td>0</td>\n",
       "      <td>0</td>\n",
       "      <td>0</td>\n",
       "      <td>0</td>\n",
       "      <td>0</td>\n",
       "      <td>0</td>\n",
       "      <td>0</td>\n",
       "      <td>0</td>\n",
       "      <td>0</td>\n",
       "      <td>0</td>\n",
       "    </tr>\n",
       "    <tr>\n",
       "      <th>1</th>\n",
       "      <td>0</td>\n",
       "      <td>0</td>\n",
       "      <td>0</td>\n",
       "      <td>0</td>\n",
       "      <td>0</td>\n",
       "      <td>0</td>\n",
       "      <td>0</td>\n",
       "      <td>0</td>\n",
       "      <td>0</td>\n",
       "      <td>0</td>\n",
       "      <td>...</td>\n",
       "      <td>0</td>\n",
       "      <td>0</td>\n",
       "      <td>0</td>\n",
       "      <td>0</td>\n",
       "      <td>0</td>\n",
       "      <td>0</td>\n",
       "      <td>0</td>\n",
       "      <td>0</td>\n",
       "      <td>0</td>\n",
       "      <td>0</td>\n",
       "    </tr>\n",
       "    <tr>\n",
       "      <th>2</th>\n",
       "      <td>0</td>\n",
       "      <td>0</td>\n",
       "      <td>0</td>\n",
       "      <td>0</td>\n",
       "      <td>0</td>\n",
       "      <td>0</td>\n",
       "      <td>0</td>\n",
       "      <td>0</td>\n",
       "      <td>0</td>\n",
       "      <td>0</td>\n",
       "      <td>...</td>\n",
       "      <td>0</td>\n",
       "      <td>0</td>\n",
       "      <td>0</td>\n",
       "      <td>0</td>\n",
       "      <td>0</td>\n",
       "      <td>0</td>\n",
       "      <td>0</td>\n",
       "      <td>0</td>\n",
       "      <td>0</td>\n",
       "      <td>0</td>\n",
       "    </tr>\n",
       "    <tr>\n",
       "      <th>3</th>\n",
       "      <td>0</td>\n",
       "      <td>0</td>\n",
       "      <td>0</td>\n",
       "      <td>0</td>\n",
       "      <td>0</td>\n",
       "      <td>0</td>\n",
       "      <td>0</td>\n",
       "      <td>0</td>\n",
       "      <td>0</td>\n",
       "      <td>0</td>\n",
       "      <td>...</td>\n",
       "      <td>0</td>\n",
       "      <td>0</td>\n",
       "      <td>0</td>\n",
       "      <td>0</td>\n",
       "      <td>0</td>\n",
       "      <td>0</td>\n",
       "      <td>0</td>\n",
       "      <td>0</td>\n",
       "      <td>0</td>\n",
       "      <td>0</td>\n",
       "    </tr>\n",
       "    <tr>\n",
       "      <th>4</th>\n",
       "      <td>0</td>\n",
       "      <td>0</td>\n",
       "      <td>0</td>\n",
       "      <td>0</td>\n",
       "      <td>0</td>\n",
       "      <td>0</td>\n",
       "      <td>0</td>\n",
       "      <td>0</td>\n",
       "      <td>0</td>\n",
       "      <td>0</td>\n",
       "      <td>...</td>\n",
       "      <td>0</td>\n",
       "      <td>0</td>\n",
       "      <td>0</td>\n",
       "      <td>0</td>\n",
       "      <td>0</td>\n",
       "      <td>0</td>\n",
       "      <td>0</td>\n",
       "      <td>0</td>\n",
       "      <td>0</td>\n",
       "      <td>0</td>\n",
       "    </tr>\n",
       "  </tbody>\n",
       "</table>\n",
       "<p>5 rows × 784 columns</p>\n",
       "</div>"
      ],
      "text/plain": [
       "   pixel0  pixel1  pixel2  pixel3  pixel4  pixel5  pixel6  pixel7  pixel8  \\\n",
       "0       0       0       0       0       0       0       0       0       0   \n",
       "1       0       0       0       0       0       0       0       0       0   \n",
       "2       0       0       0       0       0       0       0       0       0   \n",
       "3       0       0       0       0       0       0       0       0       0   \n",
       "4       0       0       0       0       0       0       0       0       0   \n",
       "\n",
       "   pixel9  ...  pixel774  pixel775  pixel776  pixel777  pixel778  pixel779  \\\n",
       "0       0  ...         0         0         0         0         0         0   \n",
       "1       0  ...         0         0         0         0         0         0   \n",
       "2       0  ...         0         0         0         0         0         0   \n",
       "3       0  ...         0         0         0         0         0         0   \n",
       "4       0  ...         0         0         0         0         0         0   \n",
       "\n",
       "   pixel780  pixel781  pixel782  pixel783  \n",
       "0         0         0         0         0  \n",
       "1         0         0         0         0  \n",
       "2         0         0         0         0  \n",
       "3         0         0         0         0  \n",
       "4         0         0         0         0  \n",
       "\n",
       "[5 rows x 784 columns]"
      ]
     },
     "execution_count": 3,
     "metadata": {},
     "output_type": "execute_result"
    }
   ],
   "source": [
    "test_data = pd.read_csv(\"/kaggle/input/digit-recognizer/test.csv\")\n",
    "print(test_data.shape)\n",
    "test_data.head()"
   ]
  },
  {
   "cell_type": "markdown",
   "id": "da501186",
   "metadata": {
    "papermill": {
     "duration": 0.009937,
     "end_time": "2024-02-11T21:25:45.027520",
     "exception": false,
     "start_time": "2024-02-11T21:25:45.017583",
     "status": "completed"
    },
    "tags": []
   },
   "source": [
    "Convert pixel values to floats."
   ]
  },
  {
   "cell_type": "code",
   "execution_count": 4,
   "id": "bc3f3290",
   "metadata": {
    "execution": {
     "iopub.execute_input": "2024-02-11T21:25:45.049245Z",
     "iopub.status.busy": "2024-02-11T21:25:45.048346Z",
     "iopub.status.idle": "2024-02-11T21:25:45.147827Z",
     "shell.execute_reply": "2024-02-11T21:25:45.147026Z"
    },
    "papermill": {
     "duration": 0.112862,
     "end_time": "2024-02-11T21:25:45.150257",
     "exception": false,
     "start_time": "2024-02-11T21:25:45.037395",
     "status": "completed"
    },
    "tags": []
   },
   "outputs": [],
   "source": [
    "X_train = (train_data.iloc[:,1:].values).astype('float32') # all pixel values\n",
    "y_train = train_data.iloc[:,0].values.astype('int16')\n",
    "X_test = test_data.values.astype('float32')"
   ]
  },
  {
   "cell_type": "markdown",
   "id": "0e261bd8",
   "metadata": {
    "papermill": {
     "duration": 0.009371,
     "end_time": "2024-02-11T21:25:45.169426",
     "exception": false,
     "start_time": "2024-02-11T21:25:45.160055",
     "status": "completed"
    },
    "tags": []
   },
   "source": [
    "# Reshaping the DaTa\n",
    "Since each image is 28x28 pixels, reshape to these dimensions.  We use a -1 to signify we want the dimension to be calculated for us."
   ]
  },
  {
   "cell_type": "code",
   "execution_count": 5,
   "id": "11762327",
   "metadata": {
    "execution": {
     "iopub.execute_input": "2024-02-11T21:25:45.191341Z",
     "iopub.status.busy": "2024-02-11T21:25:45.190617Z",
     "iopub.status.idle": "2024-02-11T21:25:45.195280Z",
     "shell.execute_reply": "2024-02-11T21:25:45.194296Z"
    },
    "papermill": {
     "duration": 0.017399,
     "end_time": "2024-02-11T21:25:45.197332",
     "exception": false,
     "start_time": "2024-02-11T21:25:45.179933",
     "status": "completed"
    },
    "tags": []
   },
   "outputs": [],
   "source": [
    "X_train = X_train.reshape(-1, 28, 28)\n",
    "X_test = X_test.reshape(-1,28,28)"
   ]
  },
  {
   "cell_type": "markdown",
   "id": "91a18f9e",
   "metadata": {
    "papermill": {
     "duration": 0.009757,
     "end_time": "2024-02-11T21:25:45.217308",
     "exception": false,
     "start_time": "2024-02-11T21:25:45.207551",
     "status": "completed"
    },
    "tags": []
   },
   "source": [
    "Let's see what some of the images look like."
   ]
  },
  {
   "cell_type": "code",
   "execution_count": 6,
   "id": "ed3a337b",
   "metadata": {
    "execution": {
     "iopub.execute_input": "2024-02-11T21:25:45.239068Z",
     "iopub.status.busy": "2024-02-11T21:25:45.238339Z",
     "iopub.status.idle": "2024-02-11T21:25:46.296977Z",
     "shell.execute_reply": "2024-02-11T21:25:46.296107Z"
    },
    "papermill": {
     "duration": 1.071809,
     "end_time": "2024-02-11T21:25:46.298985",
     "exception": false,
     "start_time": "2024-02-11T21:25:45.227176",
     "status": "completed"
    },
    "tags": []
   },
   "outputs": [
    {
     "data": {
      "image/png": "[encoded data removed]",
      "text/plain": [
       "<Figure size 640x480 with 9 Axes>"
      ]
     },
     "metadata": {},
     "output_type": "display_data"
    }
   ],
   "source": [
    "for i in range(0, 9):\n",
    "    plt.subplot(330 + (i+1))\n",
    "    plt.imshow(X_train[i], cmap=plt.get_cmap('gray'))"
   ]
  },
  {
   "cell_type": "markdown",
   "id": "9b97cf60",
   "metadata": {
    "papermill": {
     "duration": 0.010394,
     "end_time": "2024-02-11T21:25:46.319468",
     "exception": false,
     "start_time": "2024-02-11T21:25:46.309074",
     "status": "completed"
    },
    "tags": []
   },
   "source": [
    "Let's have a look at this data to see what we are working with.\n",
    "\n",
    "The training data has 42,000 images that are made up of 28x28pixels(784 in total)"
   ]
  },
  {
   "cell_type": "code",
   "execution_count": 7,
   "id": "ea96817c",
   "metadata": {
    "execution": {
     "iopub.execute_input": "2024-02-11T21:25:46.340918Z",
     "iopub.status.busy": "2024-02-11T21:25:46.340113Z",
     "iopub.status.idle": "2024-02-11T21:25:46.345237Z",
     "shell.execute_reply": "2024-02-11T21:25:46.344311Z"
    },
    "papermill": {
     "duration": 0.018018,
     "end_time": "2024-02-11T21:25:46.347207",
     "exception": false,
     "start_time": "2024-02-11T21:25:46.329189",
     "status": "completed"
    },
    "tags": []
   },
   "outputs": [
    {
     "name": "stdout",
     "output_type": "stream",
     "text": [
      "X_train shape:  (42000, 28, 28)\n"
     ]
    }
   ],
   "source": [
    "print('X_train shape: ', X_train.shape)"
   ]
  },
  {
   "cell_type": "markdown",
   "id": "98e00485",
   "metadata": {
    "papermill": {
     "duration": 0.00999,
     "end_time": "2024-02-11T21:25:46.367413",
     "exception": false,
     "start_time": "2024-02-11T21:25:46.357423",
     "status": "completed"
    },
    "tags": []
   },
   "source": [
    "# Data Preprocessing\n",
    "\n",
    "In this case we will simply scale all our greyscale pixel values (0-255) to be between 0 and 1. We can do this by dividing each value in the training and testing sets by 255.0. We do this because smaller values will make it easier for the model to process our values."
   ]
  },
  {
   "cell_type": "code",
   "execution_count": 8,
   "id": "e4d14e29",
   "metadata": {
    "execution": {
     "iopub.execute_input": "2024-02-11T21:25:46.390266Z",
     "iopub.status.busy": "2024-02-11T21:25:46.389423Z",
     "iopub.status.idle": "2024-02-11T21:25:46.459624Z",
     "shell.execute_reply": "2024-02-11T21:25:46.458802Z"
    },
    "papermill": {
     "duration": 0.084328,
     "end_time": "2024-02-11T21:25:46.461998",
     "exception": false,
     "start_time": "2024-02-11T21:25:46.377670",
     "status": "completed"
    },
    "tags": []
   },
   "outputs": [],
   "source": [
    "X_train = X_train / 255.0\n",
    "X_test = X_test / 255.0"
   ]
  },
  {
   "cell_type": "markdown",
   "id": "a503fa22",
   "metadata": {
    "papermill": {
     "duration": 0.009932,
     "end_time": "2024-02-11T21:25:46.482295",
     "exception": false,
     "start_time": "2024-02-11T21:25:46.472363",
     "status": "completed"
    },
    "tags": []
   },
   "source": [
    "# Split the data"
   ]
  },
  {
   "cell_type": "code",
   "execution_count": 9,
   "id": "eb826e4e",
   "metadata": {
    "execution": {
     "iopub.execute_input": "2024-02-11T21:25:46.503765Z",
     "iopub.status.busy": "2024-02-11T21:25:46.503171Z",
     "iopub.status.idle": "2024-02-11T21:25:46.857676Z",
     "shell.execute_reply": "2024-02-11T21:25:46.856854Z"
    },
    "papermill": {
     "duration": 0.367877,
     "end_time": "2024-02-11T21:25:46.859986",
     "exception": false,
     "start_time": "2024-02-11T21:25:46.492109",
     "status": "completed"
    },
    "tags": []
   },
   "outputs": [],
   "source": [
    "X=X_train\n",
    "y=y_train\n",
    "X_train, X_val, y_train, y_val = train_test_split(X,y,test_size=0.10, random_state=0)"
   ]
  },
  {
   "cell_type": "markdown",
   "id": "5b40e19a",
   "metadata": {
    "papermill": {
     "duration": 0.010081,
     "end_time": "2024-02-11T21:25:46.880401",
     "exception": false,
     "start_time": "2024-02-11T21:25:46.870320",
     "status": "completed"
    },
    "tags": []
   },
   "source": [
    "# Building the Model \n",
    "\n",
    "(This explanation is taken diretly from https://www.freecodecamp.org/learn/machine-learning-with-python/tensorflow/ course)\n",
    "\n",
    "We build a feed-forward neural network using keras sequential model.  This NN has 3 different layers.\n",
    "\n",
    "**Layer 1:** This is our input layer and it will conist of 784 neurons. We use the flatten layer with an input shape of (28,28) to denote that our input should come in in that shape. The flatten means that our layer will reshape the shape (28,28) array into a vector of 784 neurons so that each pixel will be associated with one neuron.\n",
    "\n",
    "**Layer 2:** This is our first and only hidden layer. The dense denotes that this layer will be fully connected and each neuron from the previous layer connects to each neuron of this layer. It has 128 neurons and uses the rectify linear unit activation function.\n",
    "\n",
    "**Layer 3:** This is our output later and is also a dense layer. It has 10 neurons that we will look at to determine our models output. Each neuron represnts the probabillity of a given image being one of the 10 different classes. The activation function softmax is used on this layer to calculate a probabillity distribution for each class. This means the value of any neuron in this layer will be between 0 and 1, where 1 represents a high probabillity of the image being that class."
   ]
  },
  {
   "cell_type": "code",
   "execution_count": 10,
   "id": "70b4ee3b",
   "metadata": {
    "execution": {
     "iopub.execute_input": "2024-02-11T21:25:46.902100Z",
     "iopub.status.busy": "2024-02-11T21:25:46.901764Z",
     "iopub.status.idle": "2024-02-11T21:25:47.615001Z",
     "shell.execute_reply": "2024-02-11T21:25:47.614202Z"
    },
    "papermill": {
     "duration": 0.727134,
     "end_time": "2024-02-11T21:25:47.617547",
     "exception": false,
     "start_time": "2024-02-11T21:25:46.890413",
     "status": "completed"
    },
    "tags": []
   },
   "outputs": [],
   "source": [
    "model = keras.Sequential([\n",
    "    keras.layers.Flatten(input_shape=(28, 28)),  # input layer (1)\n",
    "    keras.layers.Dense(128, activation='relu'),  # hidden layer (2)\n",
    "    keras.layers.Dense(10, activation='softmax') # output layer (3)\n",
    "])"
   ]
  },
  {
   "cell_type": "markdown",
   "id": "4e4f32a0",
   "metadata": {
    "papermill": {
     "duration": 0.009874,
     "end_time": "2024-02-11T21:25:47.637711",
     "exception": false,
     "start_time": "2024-02-11T21:25:47.627837",
     "status": "completed"
    },
    "tags": []
   },
   "source": [
    "# Compiling the Model.  \n",
    "\n",
    "We define a sparse categorical crossentropy loss function.\n",
    "\n",
    "When classifying digits, sparse categorical cross-entropy is often preferred for several reasons:\n",
    "\n",
    "**Sparse Labels:** In digit classification tasks, the labels are typically represented as integers (0 to 9 for digits), and each digit corresponds to a unique class. In such cases, the labels are sparse, meaning they are not one-hot encoded. Sparse categorical cross-entropy is designed to handle such sparse labels efficiently.\n",
    "\n",
    "**Efficiency:** Sparse categorical cross-entropy is computationally efficient compared to its counterpart, categorical cross-entropy, especially when dealing with large numbers of classes. Since the label is an integer index rather than a one-hot encoded vector, the computation is simplified.\n",
    "\n",
    "**Memory Efficiency:** Sparse categorical cross-entropy requires less memory to store the labels compared to one-hot encoded labels, which can be crucial when dealing with large datasets or models with a large number of classes.\n",
    "\n",
    "**Interpretability:** Using sparse categorical cross-entropy allows for more interpretable outputs. Instead of getting a one-hot encoded vector as output, you get a single integer representing the predicted class, which can be easier to interpret and work with, especially in applications where human readability is important.\n",
    "\n",
    "Overall, sparse categorical cross-entropy is well-suited for classification tasks where the labels are integers representing class indices, such as digit classification, and it offers computational and memory advantages over other loss functions like categorical cross-entropy.\n",
    "\n",
    "\"Why should you use a sparse categorical crossentropy loss function when classifying digits\" prompt. ChatGPT, 3.5, OpenAI, 11 Feb. 2024. https://chat.openai.com."
   ]
  },
  {
   "cell_type": "markdown",
   "id": "da8552bb",
   "metadata": {
    "papermill": {
     "duration": 0.009757,
     "end_time": "2024-02-11T21:25:47.657177",
     "exception": false,
     "start_time": "2024-02-11T21:25:47.647420",
     "status": "completed"
    },
    "tags": []
   },
   "source": [
    "# Early Stopping\n",
    "Add a callback function to prevent a model from eagerly learning noise.  We stop the training whenever it seems the validation loss isn't decreasing anymore.  Since the call back function determines the best stopping point, we set our epochs high.\n"
   ]
  },
  {
   "cell_type": "code",
   "execution_count": 11,
   "id": "8efd9250",
   "metadata": {
    "execution": {
     "iopub.execute_input": "2024-02-11T21:25:47.678841Z",
     "iopub.status.busy": "2024-02-11T21:25:47.678448Z",
     "iopub.status.idle": "2024-02-11T21:26:02.005003Z",
     "shell.execute_reply": "2024-02-11T21:26:02.003815Z"
    },
    "papermill": {
     "duration": 14.340347,
     "end_time": "2024-02-11T21:26:02.007265",
     "exception": false,
     "start_time": "2024-02-11T21:25:47.666918",
     "status": "completed"
    },
    "tags": []
   },
   "outputs": [
    {
     "name": "stdout",
     "output_type": "stream",
     "text": [
      "Epoch 1/1000\n"
     ]
    },
    {
     "name": "stderr",
     "output_type": "stream",
     "text": [
      "WARNING: All log messages before absl::InitializeLog() is called are written to STDERR\n",
      "I0000 00:00:1707686749.298115      66 device_compiler.h:186] Compiled cluster using XLA!  This line is logged at most once for the lifetime of the process.\n"
     ]
    },
    {
     "name": "stdout",
     "output_type": "stream",
     "text": [
      "74/74 [==============================] - 2s 6ms/step - loss: 0.7527 - accuracy: 0.7985 - val_loss: 0.3438 - val_accuracy: 0.9057\n",
      "Epoch 2/1000\n",
      "74/74 [==============================] - 0s 4ms/step - loss: 0.2911 - accuracy: 0.9193 - val_loss: 0.2710 - val_accuracy: 0.9269\n",
      "Epoch 3/1000\n",
      "74/74 [==============================] - 0s 4ms/step - loss: 0.2305 - accuracy: 0.9352 - val_loss: 0.2310 - val_accuracy: 0.9388\n",
      "Epoch 4/1000\n",
      "74/74 [==============================] - 0s 4ms/step - loss: 0.1924 - accuracy: 0.9458 - val_loss: 0.2079 - val_accuracy: 0.9443\n",
      "Epoch 5/1000\n",
      "74/74 [==============================] - 0s 4ms/step - loss: 0.1651 - accuracy: 0.9538 - val_loss: 0.1891 - val_accuracy: 0.9490\n",
      "Epoch 6/1000\n",
      "74/74 [==============================] - 0s 4ms/step - loss: 0.1455 - accuracy: 0.9589 - val_loss: 0.1742 - val_accuracy: 0.9529\n",
      "Epoch 7/1000\n",
      "74/74 [==============================] - 0s 4ms/step - loss: 0.1296 - accuracy: 0.9634 - val_loss: 0.1667 - val_accuracy: 0.9540\n",
      "Epoch 8/1000\n",
      "74/74 [==============================] - 0s 4ms/step - loss: 0.1155 - accuracy: 0.9679 - val_loss: 0.1537 - val_accuracy: 0.9595\n",
      "Epoch 9/1000\n",
      "74/74 [==============================] - 0s 4ms/step - loss: 0.1038 - accuracy: 0.9718 - val_loss: 0.1501 - val_accuracy: 0.9567\n",
      "Epoch 10/1000\n",
      "74/74 [==============================] - 0s 3ms/step - loss: 0.0947 - accuracy: 0.9740 - val_loss: 0.1435 - val_accuracy: 0.9598\n",
      "Epoch 11/1000\n",
      "74/74 [==============================] - 0s 4ms/step - loss: 0.0869 - accuracy: 0.9762 - val_loss: 0.1423 - val_accuracy: 0.9586\n",
      "Epoch 12/1000\n",
      "74/74 [==============================] - 0s 4ms/step - loss: 0.0804 - accuracy: 0.9781 - val_loss: 0.1328 - val_accuracy: 0.9626\n",
      "Epoch 13/1000\n",
      "74/74 [==============================] - 0s 3ms/step - loss: 0.0726 - accuracy: 0.9803 - val_loss: 0.1307 - val_accuracy: 0.9619\n",
      "Epoch 14/1000\n",
      "74/74 [==============================] - 0s 3ms/step - loss: 0.0665 - accuracy: 0.9820 - val_loss: 0.1312 - val_accuracy: 0.9636\n",
      "Epoch 15/1000\n",
      "74/74 [==============================] - 0s 4ms/step - loss: 0.0615 - accuracy: 0.9842 - val_loss: 0.1275 - val_accuracy: 0.9648\n",
      "Epoch 16/1000\n",
      "74/74 [==============================] - 0s 3ms/step - loss: 0.0559 - accuracy: 0.9855 - val_loss: 0.1238 - val_accuracy: 0.9679\n",
      "Epoch 17/1000\n",
      "74/74 [==============================] - 0s 3ms/step - loss: 0.0520 - accuracy: 0.9870 - val_loss: 0.1254 - val_accuracy: 0.9648\n",
      "Epoch 18/1000\n",
      "74/74 [==============================] - 0s 3ms/step - loss: 0.0492 - accuracy: 0.9868 - val_loss: 0.1218 - val_accuracy: 0.9676\n",
      "Epoch 19/1000\n",
      "74/74 [==============================] - 0s 3ms/step - loss: 0.0443 - accuracy: 0.9889 - val_loss: 0.1175 - val_accuracy: 0.9683\n",
      "Epoch 20/1000\n",
      "74/74 [==============================] - 0s 3ms/step - loss: 0.0413 - accuracy: 0.9900 - val_loss: 0.1203 - val_accuracy: 0.9686\n",
      "Epoch 21/1000\n",
      "74/74 [==============================] - 0s 4ms/step - loss: 0.0385 - accuracy: 0.9910 - val_loss: 0.1143 - val_accuracy: 0.9698\n",
      "Epoch 22/1000\n",
      "74/74 [==============================] - 0s 4ms/step - loss: 0.0356 - accuracy: 0.9920 - val_loss: 0.1162 - val_accuracy: 0.9700\n",
      "Epoch 23/1000\n",
      "74/74 [==============================] - 0s 4ms/step - loss: 0.0329 - accuracy: 0.9928 - val_loss: 0.1139 - val_accuracy: 0.9690\n",
      "Epoch 24/1000\n",
      "74/74 [==============================] - 0s 4ms/step - loss: 0.0305 - accuracy: 0.9938 - val_loss: 0.1120 - val_accuracy: 0.9712\n",
      "Epoch 25/1000\n",
      "74/74 [==============================] - 0s 3ms/step - loss: 0.0282 - accuracy: 0.9944 - val_loss: 0.1119 - val_accuracy: 0.9702\n",
      "Epoch 26/1000\n",
      "74/74 [==============================] - 0s 4ms/step - loss: 0.0260 - accuracy: 0.9954 - val_loss: 0.1136 - val_accuracy: 0.9702\n",
      "Epoch 27/1000\n",
      "74/74 [==============================] - 0s 4ms/step - loss: 0.0243 - accuracy: 0.9954 - val_loss: 0.1099 - val_accuracy: 0.9714\n",
      "Epoch 28/1000\n",
      "74/74 [==============================] - 0s 4ms/step - loss: 0.0230 - accuracy: 0.9960 - val_loss: 0.1112 - val_accuracy: 0.9724\n",
      "Epoch 29/1000\n",
      "74/74 [==============================] - 0s 4ms/step - loss: 0.0210 - accuracy: 0.9965 - val_loss: 0.1116 - val_accuracy: 0.9729\n",
      "Epoch 30/1000\n",
      "74/74 [==============================] - 0s 4ms/step - loss: 0.0197 - accuracy: 0.9968 - val_loss: 0.1144 - val_accuracy: 0.9714\n",
      "Epoch 31/1000\n",
      "74/74 [==============================] - 0s 4ms/step - loss: 0.0183 - accuracy: 0.9971 - val_loss: 0.1117 - val_accuracy: 0.9726\n",
      "Epoch 32/1000\n",
      "74/74 [==============================] - 0s 3ms/step - loss: 0.0173 - accuracy: 0.9974 - val_loss: 0.1111 - val_accuracy: 0.9712\n",
      "Epoch 33/1000\n",
      "74/74 [==============================] - 0s 4ms/step - loss: 0.0156 - accuracy: 0.9977 - val_loss: 0.1112 - val_accuracy: 0.9721\n",
      "Epoch 34/1000\n",
      "74/74 [==============================] - 0s 4ms/step - loss: 0.0148 - accuracy: 0.9979 - val_loss: 0.1109 - val_accuracy: 0.9731\n",
      "Epoch 35/1000\n",
      "74/74 [==============================] - 0s 3ms/step - loss: 0.0136 - accuracy: 0.9986 - val_loss: 0.1088 - val_accuracy: 0.9733\n",
      "Epoch 36/1000\n",
      "74/74 [==============================] - 0s 4ms/step - loss: 0.0128 - accuracy: 0.9984 - val_loss: 0.1129 - val_accuracy: 0.9731\n",
      "Epoch 37/1000\n",
      "74/74 [==============================] - 0s 4ms/step - loss: 0.0122 - accuracy: 0.9989 - val_loss: 0.1130 - val_accuracy: 0.9717\n",
      "Epoch 38/1000\n",
      "74/74 [==============================] - 0s 4ms/step - loss: 0.0110 - accuracy: 0.9989 - val_loss: 0.1125 - val_accuracy: 0.9714\n",
      "Epoch 39/1000\n",
      "74/74 [==============================] - 0s 4ms/step - loss: 0.0103 - accuracy: 0.9991 - val_loss: 0.1119 - val_accuracy: 0.9729\n",
      "Epoch 40/1000\n",
      "74/74 [==============================] - 0s 4ms/step - loss: 0.0096 - accuracy: 0.9993 - val_loss: 0.1130 - val_accuracy: 0.9717\n",
      "Epoch 41/1000\n",
      "74/74 [==============================] - 0s 4ms/step - loss: 0.0090 - accuracy: 0.9993 - val_loss: 0.1130 - val_accuracy: 0.9738\n",
      "Epoch 42/1000\n",
      "74/74 [==============================] - 0s 4ms/step - loss: 0.0086 - accuracy: 0.9994 - val_loss: 0.1139 - val_accuracy: 0.9748\n",
      "Epoch 43/1000\n",
      "74/74 [==============================] - 0s 4ms/step - loss: 0.0081 - accuracy: 0.9995 - val_loss: 0.1163 - val_accuracy: 0.9733\n",
      "Epoch 44/1000\n",
      "74/74 [==============================] - 0s 4ms/step - loss: 0.0076 - accuracy: 0.9997 - val_loss: 0.1154 - val_accuracy: 0.9743\n",
      "Epoch 45/1000\n",
      "74/74 [==============================] - 0s 4ms/step - loss: 0.0069 - accuracy: 0.9996 - val_loss: 0.1168 - val_accuracy: 0.9729\n"
     ]
    }
   ],
   "source": [
    "model.compile(\n",
    "    optimizer='adam',\n",
    "    loss='sparse_categorical_crossentropy',\n",
    "    metrics=['accuracy'])\n",
    "\n",
    "early_stopping = keras.callbacks.EarlyStopping(\n",
    "    patience=10,\n",
    "    min_delta=0.001,\n",
    "    restore_best_weights=True)\n",
    "\n",
    "history = model.fit(\n",
    "    X_train, y_train,\n",
    "    validation_data=(X_val,y_val),\n",
    "    batch_size=512,\n",
    "    epochs=1000,\n",
    "    callbacks=[early_stopping])"
   ]
  },
  {
   "cell_type": "code",
   "execution_count": 12,
   "id": "9da9b04d",
   "metadata": {
    "execution": {
     "iopub.execute_input": "2024-02-11T21:26:02.082734Z",
     "iopub.status.busy": "2024-02-11T21:26:02.082361Z",
     "iopub.status.idle": "2024-02-11T21:26:02.086680Z",
     "shell.execute_reply": "2024-02-11T21:26:02.085771Z"
    },
    "papermill": {
     "duration": 0.043415,
     "end_time": "2024-02-11T21:26:02.088778",
     "exception": false,
     "start_time": "2024-02-11T21:26:02.045363",
     "status": "completed"
    },
    "tags": []
   },
   "outputs": [],
   "source": [
    "# history_df = pd.DataFrame(history.history)\n",
    "# history_df.loc[:, ['loss', 'val_loss']].plot();\n",
    "# print(\"Minimum validation loss: {}\".format(history_df['val_loss'].min()))"
   ]
  },
  {
   "cell_type": "markdown",
   "id": "ab9a734f",
   "metadata": {
    "papermill": {
     "duration": 0.035419,
     "end_time": "2024-02-11T21:26:02.159817",
     "exception": false,
     "start_time": "2024-02-11T21:26:02.124398",
     "status": "completed"
    },
    "tags": []
   },
   "source": [
    "# The following graphs show how early stopping prevents overfitting"
   ]
  },
  {
   "attachments": {
    "837e222d-75c9-4d33-a73b-8f4e1b5fae1d.png": {
     "image/png": "[encoded data removed]"
    }
   },
   "cell_type": "markdown",
   "id": "a6202bf5",
   "metadata": {
    "papermill": {
     "duration": 0.034646,
     "end_time": "2024-02-11T21:26:02.229290",
     "exception": false,
     "start_time": "2024-02-11T21:26:02.194644",
     "status": "completed"
    },
    "tags": []
   },
   "source": [
    "![early stopping side by side.png](attachment:837e222d-75c9-4d33-a73b-8f4e1b5fae1d.png)"
   ]
  },
  {
   "cell_type": "markdown",
   "id": "474b3bb7",
   "metadata": {
    "papermill": {
     "duration": 0.036235,
     "end_time": "2024-02-11T21:26:02.300747",
     "exception": false,
     "start_time": "2024-02-11T21:26:02.264512",
     "status": "completed"
    },
    "tags": []
   },
   "source": [
    "# Making Predictions\n",
    "To make predictions we simply need to pass an array of data in the form we've specified in the input layer to ```.predict()``` method."
   ]
  },
  {
   "cell_type": "code",
   "execution_count": 13,
   "id": "abad8ffe",
   "metadata": {
    "execution": {
     "iopub.execute_input": "2024-02-11T21:26:02.372466Z",
     "iopub.status.busy": "2024-02-11T21:26:02.372053Z",
     "iopub.status.idle": "2024-02-11T21:26:02.798278Z",
     "shell.execute_reply": "2024-02-11T21:26:02.797347Z"
    },
    "papermill": {
     "duration": 0.464644,
     "end_time": "2024-02-11T21:26:02.800583",
     "exception": false,
     "start_time": "2024-02-11T21:26:02.335939",
     "status": "completed"
    },
    "tags": []
   },
   "outputs": [
    {
     "name": "stdout",
     "output_type": "stream",
     "text": [
      "132/132 [==============================] - 0s 1ms/step\n"
     ]
    }
   ],
   "source": [
    "predictions = model.predict(X_val)"
   ]
  },
  {
   "cell_type": "markdown",
   "id": "091b5554",
   "metadata": {
    "papermill": {
     "duration": 0.035009,
     "end_time": "2024-02-11T21:26:02.871733",
     "exception": false,
     "start_time": "2024-02-11T21:26:02.836724",
     "status": "completed"
    },
    "tags": []
   },
   "source": [
    "# Verifying predcitions\n",
    "\n",
    "The following script had to be commented out since no user input is permitted for Kaggle's submissions.\n",
    "Uncomment to input a item number and see an image of the data for that item , the model's prediction, and the actual value."
   ]
  },
  {
   "cell_type": "code",
   "execution_count": 14,
   "id": "7cb710ec",
   "metadata": {
    "execution": {
     "iopub.execute_input": "2024-02-11T21:26:02.994940Z",
     "iopub.status.busy": "2024-02-11T21:26:02.994044Z",
     "iopub.status.idle": "2024-02-11T21:26:02.998994Z",
     "shell.execute_reply": "2024-02-11T21:26:02.998121Z"
    },
    "papermill": {
     "duration": 0.094399,
     "end_time": "2024-02-11T21:26:03.001009",
     "exception": false,
     "start_time": "2024-02-11T21:26:02.906610",
     "status": "completed"
    },
    "tags": []
   },
   "outputs": [],
   "source": [
    "# def show_image(img):\n",
    "#   plt.figure()\n",
    "#   plt.imshow(img, cmap=plt.cm.binary)\n",
    "#   plt.grid(False)\n",
    "#   plt.show()\n",
    "  \n",
    "# def get_number():\n",
    "#   while True:\n",
    "#     num = input(\"Pick a number: \")\n",
    "#     if num.isdigit():\n",
    "#       num = int(num)\n",
    "#       if 0 <= num < 4200:\n",
    "#         return int(num)\n",
    "#       else:\n",
    "#         print(\"Try again...\")\n",
    "#     else:\n",
    "#         print(\"Try again...\")\n",
    "\n",
    "# num = get_number()\n",
    "# show_image(X_val[num])\n",
    "# print('Predicated value: ', np.argmax(predictions[num]))\n",
    "# print('Actual number: ', y_val[num])"
   ]
  },
  {
   "cell_type": "markdown",
   "id": "fab0fed3",
   "metadata": {
    "papermill": {
     "duration": 0.035096,
     "end_time": "2024-02-11T21:26:03.071474",
     "exception": false,
     "start_time": "2024-02-11T21:26:03.036378",
     "status": "completed"
    },
    "tags": []
   },
   "source": [
    "# A sample output of the previous script:"
   ]
  },
  {
   "attachments": {
    "14370fb3-0154-4a77-a5ff-d60a2ac156cb.png": {
     "image/png": "[encoded data removed]"
    }
   },
   "cell_type": "markdown",
   "id": "18b4881b",
   "metadata": {
    "papermill": {
     "duration": 0.035634,
     "end_time": "2024-02-11T21:26:03.146127",
     "exception": false,
     "start_time": "2024-02-11T21:26:03.110493",
     "status": "completed"
    },
    "tags": []
   },
   "source": [
    "![Screenshot 2024-02-11 131832.png](attachment:14370fb3-0154-4a77-a5ff-d60a2ac156cb.png)"
   ]
  },
  {
   "cell_type": "code",
   "execution_count": 15,
   "id": "b0ff8bb4",
   "metadata": {
    "execution": {
     "iopub.execute_input": "2024-02-11T21:26:03.220185Z",
     "iopub.status.busy": "2024-02-11T21:26:03.219292Z",
     "iopub.status.idle": "2024-02-11T21:26:05.249150Z",
     "shell.execute_reply": "2024-02-11T21:26:05.248148Z"
    },
    "papermill": {
     "duration": 2.069568,
     "end_time": "2024-02-11T21:26:05.251409",
     "exception": false,
     "start_time": "2024-02-11T21:26:03.181841",
     "status": "completed"
    },
    "tags": []
   },
   "outputs": [
    {
     "name": "stdout",
     "output_type": "stream",
     "text": [
      "875/875 [==============================] - 1s 1ms/step\n"
     ]
    },
    {
     "data": {
      "text/plain": [
       "(28000, 28, 28)"
      ]
     },
     "execution_count": 15,
     "metadata": {},
     "output_type": "execute_result"
    }
   ],
   "source": [
    "predictions = model.predict(X_test)\n",
    "X_test.shape"
   ]
  },
  {
   "cell_type": "code",
   "execution_count": 16,
   "id": "4a65137d",
   "metadata": {
    "execution": {
     "iopub.execute_input": "2024-02-11T21:26:05.328043Z",
     "iopub.status.busy": "2024-02-11T21:26:05.327709Z",
     "iopub.status.idle": "2024-02-11T21:26:05.333410Z",
     "shell.execute_reply": "2024-02-11T21:26:05.332588Z"
    },
    "papermill": {
     "duration": 0.046078,
     "end_time": "2024-02-11T21:26:05.335283",
     "exception": false,
     "start_time": "2024-02-11T21:26:05.289205",
     "status": "completed"
    },
    "tags": []
   },
   "outputs": [],
   "source": [
    "predictions = np.argmax(predictions, axis = 1)\n",
    "predictions = pd.Series(predictions,name = \"Label\")"
   ]
  },
  {
   "cell_type": "code",
   "execution_count": 17,
   "id": "a2c6f80c",
   "metadata": {
    "execution": {
     "iopub.execute_input": "2024-02-11T21:26:05.412590Z",
     "iopub.status.busy": "2024-02-11T21:26:05.412262Z",
     "iopub.status.idle": "2024-02-11T21:26:05.451212Z",
     "shell.execute_reply": "2024-02-11T21:26:05.450385Z"
    },
    "papermill": {
     "duration": 0.080268,
     "end_time": "2024-02-11T21:26:05.453563",
     "exception": false,
     "start_time": "2024-02-11T21:26:05.373295",
     "status": "completed"
    },
    "tags": []
   },
   "outputs": [],
   "source": [
    "submission = pd.concat([pd.Series(range(1,28001), name = \"ImageId\"),predictions],axis = 1)\n",
    "submission.to_csv(\"DR.csv\", index = False)"
   ]
  }
 ],
 "metadata": {
  "kaggle": {
   "accelerator": "gpu",
   "dataSources": [
    {
     "databundleVersionId": 861823,
     "sourceId": 3004,
     "sourceType": "competition"
    }
   ],
   "dockerImageVersionId": 30646,
   "isGpuEnabled": true,
   "isInternetEnabled": true,
   "language": "python",
   "sourceType": "notebook"
  },
  "kernelspec": {
   "display_name": "Python 3",
   "language": "python",
   "name": "python3"
  },
  "language_info": {
   "codemirror_mode": {
    "name": "ipython",
    "version": 3
   },
   "file_extension": ".py",
   "mimetype": "text/x-python",
   "name": "python",
   "nbconvert_exporter": "python",
   "pygments_lexer": "ipython3",
   "version": "3.10.13"
  },
  "papermill": {
   "default_parameters": {},
   "duration": 45.139694,
   "end_time": "2024-02-11T21:26:08.412581",
   "environment_variables": {},
   "exception": null,
   "input_path": "__notebook__.ipynb",
   "output_path": "__notebook__.ipynb",
   "parameters": {},
   "start_time": "2024-02-11T21:25:23.272887",
   "version": "2.5.0"
  }
 },
 "nbformat": 4,
 "nbformat_minor": 5
}
