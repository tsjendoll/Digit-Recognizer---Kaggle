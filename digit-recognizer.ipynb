{
 "cells": [
  {
   "cell_type": "code",
   "execution_count": 1,
   "id": "92822f25",
   "metadata": {
    "_cell_guid": "b1076dfc-b9ad-4769-8c92-a6c4dae69d19",
    "_uuid": "8f2839f25d086af736a60e9eeb907d3b93b6e0e5",
    "execution": {
     "iopub.execute_input": "2024-02-13T19:54:47.418589Z",
     "iopub.status.busy": "2024-02-13T19:54:47.418304Z",
     "iopub.status.idle": "2024-02-13T19:55:01.110740Z",
     "shell.execute_reply": "2024-02-13T19:55:01.109720Z"
    },
    "papermill": {
     "duration": 13.70582,
     "end_time": "2024-02-13T19:55:01.113219",
     "exception": false,
     "start_time": "2024-02-13T19:54:47.407399",
     "status": "completed"
    },
    "tags": []
   },
   "outputs": [
    {
     "name": "stderr",
     "output_type": "stream",
     "text": [
      "2024-02-13 19:54:49.831121: E external/local_xla/xla/stream_executor/cuda/cuda_dnn.cc:9261] Unable to register cuDNN factory: Attempting to register factory for plugin cuDNN when one has already been registered\n",
      "2024-02-13 19:54:49.831213: E external/local_xla/xla/stream_executor/cuda/cuda_fft.cc:607] Unable to register cuFFT factory: Attempting to register factory for plugin cuFFT when one has already been registered\n",
      "2024-02-13 19:54:49.957309: E external/local_xla/xla/stream_executor/cuda/cuda_blas.cc:1515] Unable to register cuBLAS factory: Attempting to register factory for plugin cuBLAS when one has already been registered\n"
     ]
    },
    {
     "name": "stdout",
     "output_type": "stream",
     "text": [
      "/kaggle/input/digit-recognizer/sample_submission.csv\n",
      "/kaggle/input/digit-recognizer/train.csv\n",
      "/kaggle/input/digit-recognizer/test.csv\n"
     ]
    }
   ],
   "source": [
    "# This Python 3 environment comes with many helpful analytics libraries installed\n",
    "# It is defined by the kaggle/python Docker image: https://github.com/kaggle/docker-python\n",
    "# For example, here's several helpful packages to load\n",
    "\n",
    "import numpy as np # linear algebra\n",
    "import pandas as pd # data processing, CSV file I/O (e.g. pd.read_csv)\n",
    "import tensorflow as tf\n",
    "from tensorflow import keras\n",
    "from sklearn.model_selection import train_test_split\n",
    "from tensorflow.keras import layers, Sequential\n",
    "import matplotlib.pyplot as plt\n",
    "\n",
    "# Input data files are available in the read-only \"../input/\" directory\n",
    "# For example, running this (by clicking run or pressing Shift+Enter) will list all files under the input directory\n",
    "\n",
    "import os\n",
    "for dirname, _, filenames in os.walk('/kaggle/input'):\n",
    "    for filename in filenames:\n",
    "        print(os.path.join(dirname, filename))\n",
    "    \n",
    "# You can write up to 20GB to the current directory (/kaggle/working/) that gets preserved as output when you create a version using \"Save & Run All\" \n",
    "# You can also write temporary files to /kaggle/temp/, but they won't be saved outside of the current session"
   ]
  },
  {
   "cell_type": "code",
   "execution_count": 2,
   "id": "044835c2",
   "metadata": {
    "execution": {
     "iopub.execute_input": "2024-02-13T19:55:01.136520Z",
     "iopub.status.busy": "2024-02-13T19:55:01.135739Z",
     "iopub.status.idle": "2024-02-13T19:55:04.633346Z",
     "shell.execute_reply": "2024-02-13T19:55:04.632310Z"
    },
    "papermill": {
     "duration": 3.511402,
     "end_time": "2024-02-13T19:55:04.635690",
     "exception": false,
     "start_time": "2024-02-13T19:55:01.124288",
     "status": "completed"
    },
    "tags": []
   },
   "outputs": [
    {
     "name": "stdout",
     "output_type": "stream",
     "text": [
      "(42000, 785)\n"
     ]
    },
    {
     "data": {
      "text/html": [
       "<div>\n",
       "<style scoped>\n",
       "    .dataframe tbody tr th:only-of-type {\n",
       "        vertical-align: middle;\n",
       "    }\n",
       "\n",
       "    .dataframe tbody tr th {\n",
       "        vertical-align: top;\n",
       "    }\n",
       "\n",
       "    .dataframe thead th {\n",
       "        text-align: right;\n",
       "    }\n",
       "</style>\n",
       "<table border=\"1\" class=\"dataframe\">\n",
       "  <thead>\n",
       "    <tr style=\"text-align: right;\">\n",
       "      <th></th>\n",
       "      <th>label</th>\n",
       "      <th>pixel0</th>\n",
       "      <th>pixel1</th>\n",
       "      <th>pixel2</th>\n",
       "      <th>pixel3</th>\n",
       "      <th>pixel4</th>\n",
       "      <th>pixel5</th>\n",
       "      <th>pixel6</th>\n",
       "      <th>pixel7</th>\n",
       "      <th>pixel8</th>\n",
       "      <th>...</th>\n",
       "      <th>pixel774</th>\n",
       "      <th>pixel775</th>\n",
       "      <th>pixel776</th>\n",
       "      <th>pixel777</th>\n",
       "      <th>pixel778</th>\n",
       "      <th>pixel779</th>\n",
       "      <th>pixel780</th>\n",
       "      <th>pixel781</th>\n",
       "      <th>pixel782</th>\n",
       "      <th>pixel783</th>\n",
       "    </tr>\n",
       "  </thead>\n",
       "  <tbody>\n",
       "    <tr>\n",
       "      <th>0</th>\n",
       "      <td>1</td>\n",
       "      <td>0</td>\n",
       "      <td>0</td>\n",
       "      <td>0</td>\n",
       "      <td>0</td>\n",
       "      <td>0</td>\n",
       "      <td>0</td>\n",
       "      <td>0</td>\n",
       "      <td>0</td>\n",
       "      <td>0</td>\n",
       "      <td>...</td>\n",
       "      <td>0</td>\n",
       "      <td>0</td>\n",
       "      <td>0</td>\n",
       "      <td>0</td>\n",
       "      <td>0</td>\n",
       "      <td>0</td>\n",
       "      <td>0</td>\n",
       "      <td>0</td>\n",
       "      <td>0</td>\n",
       "      <td>0</td>\n",
       "    </tr>\n",
       "    <tr>\n",
       "      <th>1</th>\n",
       "      <td>0</td>\n",
       "      <td>0</td>\n",
       "      <td>0</td>\n",
       "      <td>0</td>\n",
       "      <td>0</td>\n",
       "      <td>0</td>\n",
       "      <td>0</td>\n",
       "      <td>0</td>\n",
       "      <td>0</td>\n",
       "      <td>0</td>\n",
       "      <td>...</td>\n",
       "      <td>0</td>\n",
       "      <td>0</td>\n",
       "      <td>0</td>\n",
       "      <td>0</td>\n",
       "      <td>0</td>\n",
       "      <td>0</td>\n",
       "      <td>0</td>\n",
       "      <td>0</td>\n",
       "      <td>0</td>\n",
       "      <td>0</td>\n",
       "    </tr>\n",
       "    <tr>\n",
       "      <th>2</th>\n",
       "      <td>1</td>\n",
       "      <td>0</td>\n",
       "      <td>0</td>\n",
       "      <td>0</td>\n",
       "      <td>0</td>\n",
       "      <td>0</td>\n",
       "      <td>0</td>\n",
       "      <td>0</td>\n",
       "      <td>0</td>\n",
       "      <td>0</td>\n",
       "      <td>...</td>\n",
       "      <td>0</td>\n",
       "      <td>0</td>\n",
       "      <td>0</td>\n",
       "      <td>0</td>\n",
       "      <td>0</td>\n",
       "      <td>0</td>\n",
       "      <td>0</td>\n",
       "      <td>0</td>\n",
       "      <td>0</td>\n",
       "      <td>0</td>\n",
       "    </tr>\n",
       "    <tr>\n",
       "      <th>3</th>\n",
       "      <td>4</td>\n",
       "      <td>0</td>\n",
       "      <td>0</td>\n",
       "      <td>0</td>\n",
       "      <td>0</td>\n",
       "      <td>0</td>\n",
       "      <td>0</td>\n",
       "      <td>0</td>\n",
       "      <td>0</td>\n",
       "      <td>0</td>\n",
       "      <td>...</td>\n",
       "      <td>0</td>\n",
       "      <td>0</td>\n",
       "      <td>0</td>\n",
       "      <td>0</td>\n",
       "      <td>0</td>\n",
       "      <td>0</td>\n",
       "      <td>0</td>\n",
       "      <td>0</td>\n",
       "      <td>0</td>\n",
       "      <td>0</td>\n",
       "    </tr>\n",
       "    <tr>\n",
       "      <th>4</th>\n",
       "      <td>0</td>\n",
       "      <td>0</td>\n",
       "      <td>0</td>\n",
       "      <td>0</td>\n",
       "      <td>0</td>\n",
       "      <td>0</td>\n",
       "      <td>0</td>\n",
       "      <td>0</td>\n",
       "      <td>0</td>\n",
       "      <td>0</td>\n",
       "      <td>...</td>\n",
       "      <td>0</td>\n",
       "      <td>0</td>\n",
       "      <td>0</td>\n",
       "      <td>0</td>\n",
       "      <td>0</td>\n",
       "      <td>0</td>\n",
       "      <td>0</td>\n",
       "      <td>0</td>\n",
       "      <td>0</td>\n",
       "      <td>0</td>\n",
       "    </tr>\n",
       "  </tbody>\n",
       "</table>\n",
       "<p>5 rows × 785 columns</p>\n",
       "</div>"
      ],
      "text/plain": [
       "   label  pixel0  pixel1  pixel2  pixel3  pixel4  pixel5  pixel6  pixel7  \\\n",
       "0      1       0       0       0       0       0       0       0       0   \n",
       "1      0       0       0       0       0       0       0       0       0   \n",
       "2      1       0       0       0       0       0       0       0       0   \n",
       "3      4       0       0       0       0       0       0       0       0   \n",
       "4      0       0       0       0       0       0       0       0       0   \n",
       "\n",
       "   pixel8  ...  pixel774  pixel775  pixel776  pixel777  pixel778  pixel779  \\\n",
       "0       0  ...         0         0         0         0         0         0   \n",
       "1       0  ...         0         0         0         0         0         0   \n",
       "2       0  ...         0         0         0         0         0         0   \n",
       "3       0  ...         0         0         0         0         0         0   \n",
       "4       0  ...         0         0         0         0         0         0   \n",
       "\n",
       "   pixel780  pixel781  pixel782  pixel783  \n",
       "0         0         0         0         0  \n",
       "1         0         0         0         0  \n",
       "2         0         0         0         0  \n",
       "3         0         0         0         0  \n",
       "4         0         0         0         0  \n",
       "\n",
       "[5 rows x 785 columns]"
      ]
     },
     "execution_count": 2,
     "metadata": {},
     "output_type": "execute_result"
    }
   ],
   "source": [
    "train_data = pd.read_csv(\"/kaggle/input/digit-recognizer/train.csv\")\n",
    "print(train_data.shape)\n",
    "train_data.head()"
   ]
  },
  {
   "cell_type": "code",
   "execution_count": 3,
   "id": "5328334d",
   "metadata": {
    "execution": {
     "iopub.execute_input": "2024-02-13T19:55:04.656879Z",
     "iopub.status.busy": "2024-02-13T19:55:04.656596Z",
     "iopub.status.idle": "2024-02-13T19:55:06.756204Z",
     "shell.execute_reply": "2024-02-13T19:55:06.755211Z"
    },
    "papermill": {
     "duration": 2.112999,
     "end_time": "2024-02-13T19:55:06.758644",
     "exception": false,
     "start_time": "2024-02-13T19:55:04.645645",
     "status": "completed"
    },
    "tags": []
   },
   "outputs": [
    {
     "name": "stdout",
     "output_type": "stream",
     "text": [
      "(28000, 784)\n"
     ]
    },
    {
     "data": {
      "text/html": [
       "<div>\n",
       "<style scoped>\n",
       "    .dataframe tbody tr th:only-of-type {\n",
       "        vertical-align: middle;\n",
       "    }\n",
       "\n",
       "    .dataframe tbody tr th {\n",
       "        vertical-align: top;\n",
       "    }\n",
       "\n",
       "    .dataframe thead th {\n",
       "        text-align: right;\n",
       "    }\n",
       "</style>\n",
       "<table border=\"1\" class=\"dataframe\">\n",
       "  <thead>\n",
       "    <tr style=\"text-align: right;\">\n",
       "      <th></th>\n",
       "      <th>pixel0</th>\n",
       "      <th>pixel1</th>\n",
       "      <th>pixel2</th>\n",
       "      <th>pixel3</th>\n",
       "      <th>pixel4</th>\n",
       "      <th>pixel5</th>\n",
       "      <th>pixel6</th>\n",
       "      <th>pixel7</th>\n",
       "      <th>pixel8</th>\n",
       "      <th>pixel9</th>\n",
       "      <th>...</th>\n",
       "      <th>pixel774</th>\n",
       "      <th>pixel775</th>\n",
       "      <th>pixel776</th>\n",
       "      <th>pixel777</th>\n",
       "      <th>pixel778</th>\n",
       "      <th>pixel779</th>\n",
       "      <th>pixel780</th>\n",
       "      <th>pixel781</th>\n",
       "      <th>pixel782</th>\n",
       "      <th>pixel783</th>\n",
       "    </tr>\n",
       "  </thead>\n",
       "  <tbody>\n",
       "    <tr>\n",
       "      <th>0</th>\n",
       "      <td>0</td>\n",
       "      <td>0</td>\n",
       "      <td>0</td>\n",
       "      <td>0</td>\n",
       "      <td>0</td>\n",
       "      <td>0</td>\n",
       "      <td>0</td>\n",
       "      <td>0</td>\n",
       "      <td>0</td>\n",
       "      <td>0</td>\n",
       "      <td>...</td>\n",
       "      <td>0</td>\n",
       "      <td>0</td>\n",
       "      <td>0</td>\n",
       "      <td>0</td>\n",
       "      <td>0</td>\n",
       "      <td>0</td>\n",
       "      <td>0</td>\n",
       "      <td>0</td>\n",
       "      <td>0</td>\n",
       "      <td>0</td>\n",
       "    </tr>\n",
       "    <tr>\n",
       "      <th>1</th>\n",
       "      <td>0</td>\n",
       "      <td>0</td>\n",
       "      <td>0</td>\n",
       "      <td>0</td>\n",
       "      <td>0</td>\n",
       "      <td>0</td>\n",
       "      <td>0</td>\n",
       "      <td>0</td>\n",
       "      <td>0</td>\n",
       "      <td>0</td>\n",
       "      <td>...</td>\n",
       "      <td>0</td>\n",
       "      <td>0</td>\n",
       "      <td>0</td>\n",
       "      <td>0</td>\n",
       "      <td>0</td>\n",
       "      <td>0</td>\n",
       "      <td>0</td>\n",
       "      <td>0</td>\n",
       "      <td>0</td>\n",
       "      <td>0</td>\n",
       "    </tr>\n",
       "    <tr>\n",
       "      <th>2</th>\n",
       "      <td>0</td>\n",
       "      <td>0</td>\n",
       "      <td>0</td>\n",
       "      <td>0</td>\n",
       "      <td>0</td>\n",
       "      <td>0</td>\n",
       "      <td>0</td>\n",
       "      <td>0</td>\n",
       "      <td>0</td>\n",
       "      <td>0</td>\n",
       "      <td>...</td>\n",
       "      <td>0</td>\n",
       "      <td>0</td>\n",
       "      <td>0</td>\n",
       "      <td>0</td>\n",
       "      <td>0</td>\n",
       "      <td>0</td>\n",
       "      <td>0</td>\n",
       "      <td>0</td>\n",
       "      <td>0</td>\n",
       "      <td>0</td>\n",
       "    </tr>\n",
       "    <tr>\n",
       "      <th>3</th>\n",
       "      <td>0</td>\n",
       "      <td>0</td>\n",
       "      <td>0</td>\n",
       "      <td>0</td>\n",
       "      <td>0</td>\n",
       "      <td>0</td>\n",
       "      <td>0</td>\n",
       "      <td>0</td>\n",
       "      <td>0</td>\n",
       "      <td>0</td>\n",
       "      <td>...</td>\n",
       "      <td>0</td>\n",
       "      <td>0</td>\n",
       "      <td>0</td>\n",
       "      <td>0</td>\n",
       "      <td>0</td>\n",
       "      <td>0</td>\n",
       "      <td>0</td>\n",
       "      <td>0</td>\n",
       "      <td>0</td>\n",
       "      <td>0</td>\n",
       "    </tr>\n",
       "    <tr>\n",
       "      <th>4</th>\n",
       "      <td>0</td>\n",
       "      <td>0</td>\n",
       "      <td>0</td>\n",
       "      <td>0</td>\n",
       "      <td>0</td>\n",
       "      <td>0</td>\n",
       "      <td>0</td>\n",
       "      <td>0</td>\n",
       "      <td>0</td>\n",
       "      <td>0</td>\n",
       "      <td>...</td>\n",
       "      <td>0</td>\n",
       "      <td>0</td>\n",
       "      <td>0</td>\n",
       "      <td>0</td>\n",
       "      <td>0</td>\n",
       "      <td>0</td>\n",
       "      <td>0</td>\n",
       "      <td>0</td>\n",
       "      <td>0</td>\n",
       "      <td>0</td>\n",
       "    </tr>\n",
       "  </tbody>\n",
       "</table>\n",
       "<p>5 rows × 784 columns</p>\n",
       "</div>"
      ],
      "text/plain": [
       "   pixel0  pixel1  pixel2  pixel3  pixel4  pixel5  pixel6  pixel7  pixel8  \\\n",
       "0       0       0       0       0       0       0       0       0       0   \n",
       "1       0       0       0       0       0       0       0       0       0   \n",
       "2       0       0       0       0       0       0       0       0       0   \n",
       "3       0       0       0       0       0       0       0       0       0   \n",
       "4       0       0       0       0       0       0       0       0       0   \n",
       "\n",
       "   pixel9  ...  pixel774  pixel775  pixel776  pixel777  pixel778  pixel779  \\\n",
       "0       0  ...         0         0         0         0         0         0   \n",
       "1       0  ...         0         0         0         0         0         0   \n",
       "2       0  ...         0         0         0         0         0         0   \n",
       "3       0  ...         0         0         0         0         0         0   \n",
       "4       0  ...         0         0         0         0         0         0   \n",
       "\n",
       "   pixel780  pixel781  pixel782  pixel783  \n",
       "0         0         0         0         0  \n",
       "1         0         0         0         0  \n",
       "2         0         0         0         0  \n",
       "3         0         0         0         0  \n",
       "4         0         0         0         0  \n",
       "\n",
       "[5 rows x 784 columns]"
      ]
     },
     "execution_count": 3,
     "metadata": {},
     "output_type": "execute_result"
    }
   ],
   "source": [
    "test_data = pd.read_csv(\"/kaggle/input/digit-recognizer/test.csv\")\n",
    "print(test_data.shape)\n",
    "test_data.head()"
   ]
  },
  {
   "cell_type": "markdown",
   "id": "a01c1dec",
   "metadata": {
    "papermill": {
     "duration": 0.009755,
     "end_time": "2024-02-13T19:55:06.778688",
     "exception": false,
     "start_time": "2024-02-13T19:55:06.768933",
     "status": "completed"
    },
    "tags": []
   },
   "source": [
    "Convert pixel values to floats."
   ]
  },
  {
   "cell_type": "code",
   "execution_count": 4,
   "id": "b5db9906",
   "metadata": {
    "execution": {
     "iopub.execute_input": "2024-02-13T19:55:06.799439Z",
     "iopub.status.busy": "2024-02-13T19:55:06.799136Z",
     "iopub.status.idle": "2024-02-13T19:55:07.097029Z",
     "shell.execute_reply": "2024-02-13T19:55:07.095976Z"
    },
    "papermill": {
     "duration": 0.310988,
     "end_time": "2024-02-13T19:55:07.099496",
     "exception": false,
     "start_time": "2024-02-13T19:55:06.788508",
     "status": "completed"
    },
    "tags": []
   },
   "outputs": [],
   "source": [
    "X_train = pd.get_dummies(train_data.iloc[:,1:])\n",
    "X_train = X_train.values.astype('float32')\n",
    "\n",
    "y_train = pd.get_dummies(train_data.iloc[:,0])\n",
    "y_train = y_train.values.astype('int16')\n",
    "\n",
    "X_test = test_data.values.astype('float32')"
   ]
  },
  {
   "cell_type": "markdown",
   "id": "b37c7370",
   "metadata": {
    "papermill": {
     "duration": 0.009597,
     "end_time": "2024-02-13T19:55:07.119283",
     "exception": false,
     "start_time": "2024-02-13T19:55:07.109686",
     "status": "completed"
    },
    "tags": []
   },
   "source": [
    "# Reshaping the Data\n",
    "Since each image is 28x28 pixels and one color channel, reshape to these dimensions.  We use a -1 to signify we want the dimension to be calculated for us."
   ]
  },
  {
   "cell_type": "code",
   "execution_count": 5,
   "id": "8ed100aa",
   "metadata": {
    "execution": {
     "iopub.execute_input": "2024-02-13T19:55:07.140913Z",
     "iopub.status.busy": "2024-02-13T19:55:07.140612Z",
     "iopub.status.idle": "2024-02-13T19:55:07.145000Z",
     "shell.execute_reply": "2024-02-13T19:55:07.144138Z"
    },
    "papermill": {
     "duration": 0.016895,
     "end_time": "2024-02-13T19:55:07.146881",
     "exception": false,
     "start_time": "2024-02-13T19:55:07.129986",
     "status": "completed"
    },
    "tags": []
   },
   "outputs": [],
   "source": [
    "X_train = X_train.reshape(-1, 28, 28,1)\n",
    "X_test = X_test.reshape(-1,28,28,1)"
   ]
  },
  {
   "cell_type": "markdown",
   "id": "3f513b76",
   "metadata": {
    "papermill": {
     "duration": 0.009445,
     "end_time": "2024-02-13T19:55:07.166071",
     "exception": false,
     "start_time": "2024-02-13T19:55:07.156626",
     "status": "completed"
    },
    "tags": []
   },
   "source": [
    "Let's have a look at this data to see what we are working with."
   ]
  },
  {
   "cell_type": "code",
   "execution_count": 6,
   "id": "7e97e36b",
   "metadata": {
    "execution": {
     "iopub.execute_input": "2024-02-13T19:55:07.186938Z",
     "iopub.status.busy": "2024-02-13T19:55:07.186410Z",
     "iopub.status.idle": "2024-02-13T19:55:07.190732Z",
     "shell.execute_reply": "2024-02-13T19:55:07.189915Z"
    },
    "papermill": {
     "duration": 0.017039,
     "end_time": "2024-02-13T19:55:07.192816",
     "exception": false,
     "start_time": "2024-02-13T19:55:07.175777",
     "status": "completed"
    },
    "tags": []
   },
   "outputs": [
    {
     "name": "stdout",
     "output_type": "stream",
     "text": [
      "X_train shape:  (42000, 28, 28, 1)\n"
     ]
    }
   ],
   "source": [
    "print('X_train shape: ', X_train.shape)"
   ]
  },
  {
   "cell_type": "markdown",
   "id": "bac0d498",
   "metadata": {
    "papermill": {
     "duration": 0.009559,
     "end_time": "2024-02-13T19:55:07.212107",
     "exception": false,
     "start_time": "2024-02-13T19:55:07.202548",
     "status": "completed"
    },
    "tags": []
   },
   "source": [
    "The training data has 42,000 images that are made up of 28x28pixels(784 in total) with 1 color channel"
   ]
  },
  {
   "cell_type": "markdown",
   "id": "1782e576",
   "metadata": {
    "papermill": {
     "duration": 0.009644,
     "end_time": "2024-02-13T19:55:07.231810",
     "exception": false,
     "start_time": "2024-02-13T19:55:07.222166",
     "status": "completed"
    },
    "tags": []
   },
   "source": [
    "Let's see what some of the images look like."
   ]
  },
  {
   "cell_type": "code",
   "execution_count": 7,
   "id": "0db00f7f",
   "metadata": {
    "execution": {
     "iopub.execute_input": "2024-02-13T19:55:07.253339Z",
     "iopub.status.busy": "2024-02-13T19:55:07.252688Z",
     "iopub.status.idle": "2024-02-13T19:55:08.260797Z",
     "shell.execute_reply": "2024-02-13T19:55:08.259922Z"
    },
    "papermill": {
     "duration": 1.020833,
     "end_time": "2024-02-13T19:55:08.262734",
     "exception": false,
     "start_time": "2024-02-13T19:55:07.241901",
     "status": "completed"
    },
    "tags": []
   },
   "outputs": [
    {
     "data": {
      "image/png": "[encoded data removed]",
      "text/plain": [
       "<Figure size 640x480 with 9 Axes>"
      ]
     },
     "metadata": {},
     "output_type": "display_data"
    }
   ],
   "source": [
    "for i in range(0, 9):\n",
    "    plt.subplot(330 + (i+1))\n",
    "    plt.imshow(X_train[i], cmap=plt.get_cmap('gray'))"
   ]
  },
  {
   "cell_type": "markdown",
   "id": "8004820c",
   "metadata": {
    "papermill": {
     "duration": 0.010393,
     "end_time": "2024-02-13T19:55:08.283662",
     "exception": false,
     "start_time": "2024-02-13T19:55:08.273269",
     "status": "completed"
    },
    "tags": []
   },
   "source": [
    "# Data Preprocessing\n",
    "\n",
    "In this case we will simply scale all our greyscale pixel values (0-255) to be between 0 and 1. We can do this by dividing each value in the training and testing sets by 255.0. We do this because smaller values will make it easier for the model to process our values."
   ]
  },
  {
   "cell_type": "code",
   "execution_count": 8,
   "id": "4df6a702",
   "metadata": {
    "execution": {
     "iopub.execute_input": "2024-02-13T19:55:08.307751Z",
     "iopub.status.busy": "2024-02-13T19:55:08.306905Z",
     "iopub.status.idle": "2024-02-13T19:55:08.377034Z",
     "shell.execute_reply": "2024-02-13T19:55:08.376207Z"
    },
    "papermill": {
     "duration": 0.084228,
     "end_time": "2024-02-13T19:55:08.379433",
     "exception": false,
     "start_time": "2024-02-13T19:55:08.295205",
     "status": "completed"
    },
    "tags": []
   },
   "outputs": [],
   "source": [
    "X_train = X_train / 255.0\n",
    "X_test = X_test / 255.0"
   ]
  },
  {
   "cell_type": "markdown",
   "id": "04e0571e",
   "metadata": {
    "papermill": {
     "duration": 0.009912,
     "end_time": "2024-02-13T19:55:08.399924",
     "exception": false,
     "start_time": "2024-02-13T19:55:08.390012",
     "status": "completed"
    },
    "tags": []
   },
   "source": [
    "# Split the data"
   ]
  },
  {
   "cell_type": "code",
   "execution_count": 9,
   "id": "43553df4",
   "metadata": {
    "execution": {
     "iopub.execute_input": "2024-02-13T19:55:08.421667Z",
     "iopub.status.busy": "2024-02-13T19:55:08.421355Z",
     "iopub.status.idle": "2024-02-13T19:55:08.740878Z",
     "shell.execute_reply": "2024-02-13T19:55:08.739774Z"
    },
    "papermill": {
     "duration": 0.333482,
     "end_time": "2024-02-13T19:55:08.743416",
     "exception": false,
     "start_time": "2024-02-13T19:55:08.409934",
     "status": "completed"
    },
    "tags": []
   },
   "outputs": [],
   "source": [
    "X=X_train\n",
    "y=y_train\n",
    "X_train, X_val, y_train, y_val = train_test_split(X,y,test_size=0.10, random_state=0)"
   ]
  },
  {
   "cell_type": "markdown",
   "id": "f8db45be",
   "metadata": {
    "papermill": {
     "duration": 0.010406,
     "end_time": "2024-02-13T19:55:08.764499",
     "exception": false,
     "start_time": "2024-02-13T19:55:08.754093",
     "status": "completed"
    },
    "tags": []
   },
   "source": [
    "# CNN Architecture\n",
    "\n",
    "(This explanation is taken diretly from Machine Learning with Python course at https://www.freecodecamp.org/learn/machine-learning-with-python/tensorflow/)\n",
    "\n",
    "A common architecture for a CNN is a stack of Conv2D and MaxPooling2D layers followed by a few denesly connected layers. To idea is that the stack of convolutional and maxPooling layers extract the features from the image. Then these features are flattened and fed to densly connected layers that determine the class of an image based on the presence of features.\n",
    "\n",
    "We will start by building the **Convolutional Base**."
   ]
  },
  {
   "cell_type": "code",
   "execution_count": 10,
   "id": "81419121",
   "metadata": {
    "execution": {
     "iopub.execute_input": "2024-02-13T19:55:08.786424Z",
     "iopub.status.busy": "2024-02-13T19:55:08.786081Z",
     "iopub.status.idle": "2024-02-13T19:55:09.535815Z",
     "shell.execute_reply": "2024-02-13T19:55:09.534934Z"
    },
    "papermill": {
     "duration": 0.763345,
     "end_time": "2024-02-13T19:55:09.538155",
     "exception": false,
     "start_time": "2024-02-13T19:55:08.774810",
     "status": "completed"
    },
    "tags": []
   },
   "outputs": [],
   "source": [
    "model = keras.models.Sequential()\n",
    "model.add(layers.Conv2D(32, (3, 3), activation='relu', input_shape=(28,28,1)))\n",
    "model.add(layers.MaxPooling2D((2, 2)))\n",
    "model.add(layers.Conv2D(64, (3, 3), activation='relu'))\n",
    "model.add(layers.MaxPooling2D((2, 2)))\n",
    "model.add(layers.Conv2D(64, (3, 3), activation='relu'))\n",
    "\n",
    "\n",
    "# # we'll use categorical xent for the loss, and RMSprop as the optimizer\n",
    "# model.compile(loss='categorical_crossentropy', optimizer='rmsprop', metrics=['accuracy'])"
   ]
  },
  {
   "cell_type": "markdown",
   "id": "df243968",
   "metadata": {
    "papermill": {
     "duration": 0.010117,
     "end_time": "2024-02-13T19:55:09.558963",
     "exception": false,
     "start_time": "2024-02-13T19:55:09.548846",
     "status": "completed"
    },
    "tags": []
   },
   "source": [
    "**Layer 1**\n",
    "\n",
    "The input shape of our data will be 28, 28 and we will process 32 filters of size 3x3 over our input data. We will also apply the activation function relu to the output of each convolution operation.\n",
    "\n",
    "**Layer 2**\n",
    "\n",
    "This layer will perform the max pooling operation using 2x2 samples and a stride of 2.\n",
    "\n",
    "**Other Layers**\n",
    "\n",
    "The next set of layers do very similar things but take as input the feature map from the previous layer. They also increase the frequency of filters from 32 to 64. We can do this as our data shrinks in spacial dimensions as it passed through the layers, meaning we can afford (computationally) to add more depth."
   ]
  },
  {
   "cell_type": "code",
   "execution_count": 11,
   "id": "8715ca17",
   "metadata": {
    "execution": {
     "iopub.execute_input": "2024-02-13T19:55:09.580854Z",
     "iopub.status.busy": "2024-02-13T19:55:09.580349Z",
     "iopub.status.idle": "2024-02-13T19:55:09.600956Z",
     "shell.execute_reply": "2024-02-13T19:55:09.599888Z"
    },
    "papermill": {
     "duration": 0.041791,
     "end_time": "2024-02-13T19:55:09.610844",
     "exception": false,
     "start_time": "2024-02-13T19:55:09.569053",
     "status": "completed"
    },
    "tags": []
   },
   "outputs": [
    {
     "name": "stdout",
     "output_type": "stream",
     "text": [
      "Model: \"sequential\"\n",
      "_________________________________________________________________\n",
      " Layer (type)                Output Shape              Param #   \n",
      "=================================================================\n",
      " conv2d (Conv2D)             (None, 26, 26, 32)        320       \n",
      "                                                                 \n",
      " max_pooling2d (MaxPooling2  (None, 13, 13, 32)        0         \n",
      " D)                                                              \n",
      "                                                                 \n",
      " conv2d_1 (Conv2D)           (None, 11, 11, 64)        18496     \n",
      "                                                                 \n",
      " max_pooling2d_1 (MaxPoolin  (None, 5, 5, 64)          0         \n",
      " g2D)                                                            \n",
      "                                                                 \n",
      " conv2d_2 (Conv2D)           (None, 3, 3, 64)          36928     \n",
      "                                                                 \n",
      "=================================================================\n",
      "Total params: 55744 (217.75 KB)\n",
      "Trainable params: 55744 (217.75 KB)\n",
      "Non-trainable params: 0 (0.00 Byte)\n",
      "_________________________________________________________________\n"
     ]
    }
   ],
   "source": [
    "model.summary() "
   ]
  },
  {
   "cell_type": "markdown",
   "id": "e6d73e1f",
   "metadata": {
    "papermill": {
     "duration": 0.011906,
     "end_time": "2024-02-13T19:55:09.634567",
     "exception": false,
     "start_time": "2024-02-13T19:55:09.622661",
     "status": "completed"
    },
    "tags": []
   },
   "source": [
    "# Adding Dense Layers\n",
    "So far, we have just completed the **convolutional base**. Now we need to take these extracted features and add a way to classify them. This is why we add the following layers to our model.\n"
   ]
  },
  {
   "cell_type": "code",
   "execution_count": 12,
   "id": "176deb3c",
   "metadata": {
    "execution": {
     "iopub.execute_input": "2024-02-13T19:55:09.666470Z",
     "iopub.status.busy": "2024-02-13T19:55:09.665729Z",
     "iopub.status.idle": "2024-02-13T19:55:09.717908Z",
     "shell.execute_reply": "2024-02-13T19:55:09.716694Z"
    },
    "papermill": {
     "duration": 0.070873,
     "end_time": "2024-02-13T19:55:09.720851",
     "exception": false,
     "start_time": "2024-02-13T19:55:09.649978",
     "status": "completed"
    },
    "tags": []
   },
   "outputs": [],
   "source": [
    "model.add(layers.Flatten())\n",
    "model.add(layers.Dense(64, activation='relu'))\n",
    "model.add(layers.Dense(10, activation='softmax'))"
   ]
  },
  {
   "cell_type": "code",
   "execution_count": 13,
   "id": "e8c5fe04",
   "metadata": {
    "execution": {
     "iopub.execute_input": "2024-02-13T19:55:09.746020Z",
     "iopub.status.busy": "2024-02-13T19:55:09.745725Z",
     "iopub.status.idle": "2024-02-13T19:55:09.768628Z",
     "shell.execute_reply": "2024-02-13T19:55:09.767218Z"
    },
    "papermill": {
     "duration": 0.053336,
     "end_time": "2024-02-13T19:55:09.786364",
     "exception": false,
     "start_time": "2024-02-13T19:55:09.733028",
     "status": "completed"
    },
    "tags": []
   },
   "outputs": [
    {
     "name": "stdout",
     "output_type": "stream",
     "text": [
      "Model: \"sequential\"\n",
      "_________________________________________________________________\n",
      " Layer (type)                Output Shape              Param #   \n",
      "=================================================================\n",
      " conv2d (Conv2D)             (None, 26, 26, 32)        320       \n",
      "                                                                 \n",
      " max_pooling2d (MaxPooling2  (None, 13, 13, 32)        0         \n",
      " D)                                                              \n",
      "                                                                 \n",
      " conv2d_1 (Conv2D)           (None, 11, 11, 64)        18496     \n",
      "                                                                 \n",
      " max_pooling2d_1 (MaxPoolin  (None, 5, 5, 64)          0         \n",
      " g2D)                                                            \n",
      "                                                                 \n",
      " conv2d_2 (Conv2D)           (None, 3, 3, 64)          36928     \n",
      "                                                                 \n",
      " flatten (Flatten)           (None, 576)               0         \n",
      "                                                                 \n",
      " dense (Dense)               (None, 64)                36928     \n",
      "                                                                 \n",
      " dense_1 (Dense)             (None, 10)                650       \n",
      "                                                                 \n",
      "=================================================================\n",
      "Total params: 93322 (364.54 KB)\n",
      "Trainable params: 93322 (364.54 KB)\n",
      "Non-trainable params: 0 (0.00 Byte)\n",
      "_________________________________________________________________\n"
     ]
    }
   ],
   "source": [
    "model.summary()"
   ]
  },
  {
   "cell_type": "markdown",
   "id": "2e062f2f",
   "metadata": {
    "papermill": {
     "duration": 0.01741,
     "end_time": "2024-02-13T19:55:09.822425",
     "exception": false,
     "start_time": "2024-02-13T19:55:09.805015",
     "status": "completed"
    },
    "tags": []
   },
   "source": [
    "We can see that the flatten layer changes the shape of our data so that we can feed it to the 64-node dense layer, follwed by the final output layer of 10 neurons (one for each class).\n"
   ]
  },
  {
   "cell_type": "markdown",
   "id": "d3170c87",
   "metadata": {
    "papermill": {
     "duration": 0.013844,
     "end_time": "2024-02-13T19:55:09.850307",
     "exception": false,
     "start_time": "2024-02-13T19:55:09.836463",
     "status": "completed"
    },
    "tags": []
   },
   "source": [
    "# Compiling the Model.  \n",
    "\n",
    "Here's why you might choose this configuration:\n",
    "\n",
    "**Simplicity:** Using categorical crossentropy without logits simplifies the output layer of your model. Instead of dealing with raw logits, the model outputs probabilities directly, which can be easier to interpret and work with in many cases.\n",
    "\n",
    "**Compatibility:** Many models and tutorials use categorical crossentropy with probabilities rather than logits. By using this configuration, your code might align more closely with existing examples and documentation.\n",
    "\n",
    "**Standard Practice:** For many multi-class classification tasks, using categorical crossentropy with probabilities is a standard practice. It's a well-established method that has been proven effective in a wide range of applications.\n",
    "\n",
    "**Ease of Use:** Specifying the loss function as 'categorical_crossentropy' without logits is straightforward and requires less customization compared to handling logits directly. This simplicity can be advantageous, especially for users who are new to deep learning or want to minimize complexity in their code.\n",
    "\n",
    "Overall, if your model's output is already in the form of probabilities (after passing through a softmax activation), using categorical crossentropy without logits is a natural choice for measuring the discrepancy between predicted probabilities and true class labels.\n",
    "\n",
    "\"List reasons to use this model: model.compile(optimizer='adam', loss=tf.keras.losses.CategoricalCrossentropy(), metrics=['accuracy'])\" prompt. ChatGPT, 3.5, OpenAI, 13 Feb. 2024. https://chat.openai.com."
   ]
  },
  {
   "cell_type": "code",
   "execution_count": 14,
   "id": "ea9ace7b",
   "metadata": {
    "execution": {
     "iopub.execute_input": "2024-02-13T19:55:09.880317Z",
     "iopub.status.busy": "2024-02-13T19:55:09.879526Z",
     "iopub.status.idle": "2024-02-13T19:55:09.903353Z",
     "shell.execute_reply": "2024-02-13T19:55:09.902449Z"
    },
    "papermill": {
     "duration": 0.041588,
     "end_time": "2024-02-13T19:55:09.906014",
     "exception": false,
     "start_time": "2024-02-13T19:55:09.864426",
     "status": "completed"
    },
    "tags": []
   },
   "outputs": [],
   "source": [
    "model.compile(optimizer='adam',\n",
    "              loss=tf.keras.losses.CategoricalCrossentropy(),\n",
    "              metrics=['accuracy'])"
   ]
  },
  {
   "cell_type": "code",
   "execution_count": 15,
   "id": "b93dad8c",
   "metadata": {
    "execution": {
     "iopub.execute_input": "2024-02-13T19:55:09.943508Z",
     "iopub.status.busy": "2024-02-13T19:55:09.942730Z",
     "iopub.status.idle": "2024-02-13T19:55:27.515221Z",
     "shell.execute_reply": "2024-02-13T19:55:27.514319Z"
    },
    "papermill": {
     "duration": 17.592734,
     "end_time": "2024-02-13T19:55:27.517364",
     "exception": false,
     "start_time": "2024-02-13T19:55:09.924630",
     "status": "completed"
    },
    "tags": []
   },
   "outputs": [
    {
     "name": "stdout",
     "output_type": "stream",
     "text": [
      "Epoch 1/3\n"
     ]
    },
    {
     "name": "stderr",
     "output_type": "stream",
     "text": [
      "WARNING: All log messages before absl::InitializeLog() is called are written to STDERR\n",
      "I0000 00:00:1707854112.690221      69 device_compiler.h:186] Compiled cluster using XLA!  This line is logged at most once for the lifetime of the process.\n"
     ]
    },
    {
     "name": "stdout",
     "output_type": "stream",
     "text": [
      "1182/1182 [==============================] - 8s 4ms/step - loss: 0.1934 - accuracy: 0.9412 - val_loss: 0.0726 - val_accuracy: 0.9774\n",
      "Epoch 2/3\n",
      "1182/1182 [==============================] - 4s 4ms/step - loss: 0.0558 - accuracy: 0.9826 - val_loss: 0.0611 - val_accuracy: 0.9807\n",
      "Epoch 3/3\n",
      "1182/1182 [==============================] - 4s 4ms/step - loss: 0.0416 - accuracy: 0.9865 - val_loss: 0.0494 - val_accuracy: 0.9843\n"
     ]
    }
   ],
   "source": [
    "history = model.fit(\n",
    "    X_train, y_train,\n",
    "    validation_data=(X_val,y_val),\n",
    "    epochs=3)"
   ]
  },
  {
   "cell_type": "code",
   "execution_count": 16,
   "id": "af55d167",
   "metadata": {
    "execution": {
     "iopub.execute_input": "2024-02-13T19:55:27.587807Z",
     "iopub.status.busy": "2024-02-13T19:55:27.587478Z",
     "iopub.status.idle": "2024-02-13T19:55:27.859945Z",
     "shell.execute_reply": "2024-02-13T19:55:27.859019Z"
    },
    "papermill": {
     "duration": 0.308707,
     "end_time": "2024-02-13T19:55:27.861990",
     "exception": false,
     "start_time": "2024-02-13T19:55:27.553283",
     "status": "completed"
    },
    "tags": []
   },
   "outputs": [
    {
     "name": "stdout",
     "output_type": "stream",
     "text": [
      "                  Minimum validation loss: 0.04943187162280083\n",
      "                   Ending validation loss: 0.04943187162280083\n"
     ]
    },
    {
     "data": {
      "image/png": "[encoded data removed]",
      "text/plain": [
       "<Figure size 640x480 with 1 Axes>"
      ]
     },
     "metadata": {},
     "output_type": "display_data"
    }
   ],
   "source": [
    "history_df = pd.DataFrame(history.history)\n",
    "history_df.loc[:, ['loss', 'val_loss']].plot();\n",
    "min_val_loss = history_df['val_loss'].min()\n",
    "ending_val_loss = history_df['val_loss'].iloc[-1]  # Fetching the last val_loss value\n",
    "print(\"                  Minimum validation loss: {}\".format(min_val_loss))\n",
    "print(\"                   Ending validation loss: {}\".format(ending_val_loss))"
   ]
  },
  {
   "cell_type": "markdown",
   "id": "2e31f025",
   "metadata": {
    "papermill": {
     "duration": 0.033688,
     "end_time": "2024-02-13T19:55:27.931083",
     "exception": false,
     "start_time": "2024-02-13T19:55:27.897395",
     "status": "completed"
    },
    "tags": []
   },
   "source": [
    "# Making Predictions\n",
    "To make predictions we simply need to pass an array of data in the form we've specified in the input layer to ```.predict()``` method."
   ]
  },
  {
   "cell_type": "code",
   "execution_count": 17,
   "id": "bc88e924",
   "metadata": {
    "execution": {
     "iopub.execute_input": "2024-02-13T19:55:28.000509Z",
     "iopub.status.busy": "2024-02-13T19:55:28.000137Z",
     "iopub.status.idle": "2024-02-13T19:55:28.469778Z",
     "shell.execute_reply": "2024-02-13T19:55:28.468767Z"
    },
    "papermill": {
     "duration": 0.506689,
     "end_time": "2024-02-13T19:55:28.472137",
     "exception": false,
     "start_time": "2024-02-13T19:55:27.965448",
     "status": "completed"
    },
    "tags": []
   },
   "outputs": [
    {
     "name": "stdout",
     "output_type": "stream",
     "text": [
      "132/132 [==============================] - 0s 2ms/step\n"
     ]
    }
   ],
   "source": [
    "predictions = model.predict(X_val)"
   ]
  },
  {
   "cell_type": "markdown",
   "id": "a25f09dc",
   "metadata": {
    "papermill": {
     "duration": 0.034838,
     "end_time": "2024-02-13T19:55:28.541788",
     "exception": false,
     "start_time": "2024-02-13T19:55:28.506950",
     "status": "completed"
    },
    "tags": []
   },
   "source": [
    "# Verifying predcitions\n",
    "\n",
    "The following script had to be commented out since no user input is permitted for Kaggle's submissions.\n",
    "Uncomment to input a item number and see an image of the data for that item , the model's prediction, and the actual value."
   ]
  },
  {
   "cell_type": "code",
   "execution_count": 18,
   "id": "5cf70458",
   "metadata": {
    "execution": {
     "iopub.execute_input": "2024-02-13T19:55:28.654168Z",
     "iopub.status.busy": "2024-02-13T19:55:28.653343Z",
     "iopub.status.idle": "2024-02-13T19:55:28.658043Z",
     "shell.execute_reply": "2024-02-13T19:55:28.657172Z"
    },
    "jupyter": {
     "source_hidden": true
    },
    "papermill": {
     "duration": 0.04229,
     "end_time": "2024-02-13T19:55:28.660099",
     "exception": false,
     "start_time": "2024-02-13T19:55:28.617809",
     "status": "completed"
    },
    "tags": []
   },
   "outputs": [],
   "source": [
    "# def show_image(img):\n",
    "#   plt.figure()\n",
    "#   plt.imshow(img, cmap=plt.cm.binary)\n",
    "#   plt.grid(False)\n",
    "#   plt.show()\n",
    "  \n",
    "# def get_number():\n",
    "#   while True:\n",
    "#     num = input(\"Pick a number: \")\n",
    "#     if num.isdigit():\n",
    "#       num = int(num)\n",
    "#       if 0 <= num < 4200:\n",
    "#         return int(num)\n",
    "#       else:\n",
    "#         print(\"Try again...\")\n",
    "#     else:\n",
    "#         print(\"Try again...\")\n",
    "\n",
    "# num = get_number()\n",
    "# show_image(X_val[num])\n",
    "# print('Predicated value: ', np.argmax(predictions[num]))\n",
    "# print('Actual number: ', list(y_val[num]).index(1))"
   ]
  },
  {
   "cell_type": "markdown",
   "id": "40e2e204",
   "metadata": {
    "papermill": {
     "duration": 0.035023,
     "end_time": "2024-02-13T19:55:28.730005",
     "exception": false,
     "start_time": "2024-02-13T19:55:28.694982",
     "status": "completed"
    },
    "tags": []
   },
   "source": [
    "# A sample output of the previous script:"
   ]
  },
  {
   "attachments": {
    "14370fb3-0154-4a77-a5ff-d60a2ac156cb.png": {
     "image/png": "[encoded data removed]"
    }
   },
   "cell_type": "markdown",
   "id": "9c7e1836",
   "metadata": {
    "papermill": {
     "duration": 0.035121,
     "end_time": "2024-02-13T19:55:28.800480",
     "exception": false,
     "start_time": "2024-02-13T19:55:28.765359",
     "status": "completed"
    },
    "tags": []
   },
   "source": [
    "![Screenshot 2024-02-11 131832.png](attachment:14370fb3-0154-4a77-a5ff-d60a2ac156cb.png)"
   ]
  },
  {
   "cell_type": "code",
   "execution_count": 19,
   "id": "625dc286",
   "metadata": {
    "execution": {
     "iopub.execute_input": "2024-02-13T19:55:28.873107Z",
     "iopub.status.busy": "2024-02-13T19:55:28.872220Z",
     "iopub.status.idle": "2024-02-13T19:55:30.991399Z",
     "shell.execute_reply": "2024-02-13T19:55:30.990309Z"
    },
    "papermill": {
     "duration": 2.157399,
     "end_time": "2024-02-13T19:55:30.993565",
     "exception": false,
     "start_time": "2024-02-13T19:55:28.836166",
     "status": "completed"
    },
    "tags": []
   },
   "outputs": [
    {
     "name": "stdout",
     "output_type": "stream",
     "text": [
      "875/875 [==============================] - 1s 2ms/step\n"
     ]
    },
    {
     "data": {
      "text/plain": [
       "(28000, 28, 28, 1)"
      ]
     },
     "execution_count": 19,
     "metadata": {},
     "output_type": "execute_result"
    }
   ],
   "source": [
    "predictions = model.predict(X_test)\n",
    "X_test.shape"
   ]
  },
  {
   "cell_type": "code",
   "execution_count": 20,
   "id": "0c10f86a",
   "metadata": {
    "execution": {
     "iopub.execute_input": "2024-02-13T19:55:31.069974Z",
     "iopub.status.busy": "2024-02-13T19:55:31.069656Z",
     "iopub.status.idle": "2024-02-13T19:55:31.075001Z",
     "shell.execute_reply": "2024-02-13T19:55:31.074047Z"
    },
    "papermill": {
     "duration": 0.044565,
     "end_time": "2024-02-13T19:55:31.076874",
     "exception": false,
     "start_time": "2024-02-13T19:55:31.032309",
     "status": "completed"
    },
    "tags": []
   },
   "outputs": [],
   "source": [
    "predictions = np.argmax(predictions, axis = 1)\n",
    "predictions = pd.Series(predictions,name = \"Label\")"
   ]
  },
  {
   "cell_type": "code",
   "execution_count": 21,
   "id": "8c395718",
   "metadata": {
    "execution": {
     "iopub.execute_input": "2024-02-13T19:55:31.151120Z",
     "iopub.status.busy": "2024-02-13T19:55:31.150628Z",
     "iopub.status.idle": "2024-02-13T19:55:31.188359Z",
     "shell.execute_reply": "2024-02-13T19:55:31.187519Z"
    },
    "papermill": {
     "duration": 0.076903,
     "end_time": "2024-02-13T19:55:31.190181",
     "exception": false,
     "start_time": "2024-02-13T19:55:31.113278",
     "status": "completed"
    },
    "tags": []
   },
   "outputs": [],
   "source": [
    "submission = pd.concat([pd.Series(range(1,28001), name = \"ImageId\"),predictions],axis = 1)\n",
    "submission.to_csv(\"DR.csv\", index = False)"
   ]
  }
 ],
 "metadata": {
  "kaggle": {
   "accelerator": "gpu",
   "dataSources": [
    {
     "databundleVersionId": 861823,
     "sourceId": 3004,
     "sourceType": "competition"
    }
   ],
   "dockerImageVersionId": 30646,
   "isGpuEnabled": true,
   "isInternetEnabled": true,
   "language": "python",
   "sourceType": "notebook"
  },
  "kernelspec": {
   "display_name": "Python 3",
   "language": "python",
   "name": "python3"
  },
  "language_info": {
   "codemirror_mode": {
    "name": "ipython",
    "version": 3
   },
   "file_extension": ".py",
   "mimetype": "text/x-python",
   "name": "python",
   "nbconvert_exporter": "python",
   "pygments_lexer": "ipython3",
   "version": "3.10.13"
  },
  "papermill": {
   "default_parameters": {},
   "duration": 49.162022,
   "end_time": "2024-02-13T19:55:33.838154",
   "environment_variables": {},
   "exception": null,
   "input_path": "__notebook__.ipynb",
   "output_path": "__notebook__.ipynb",
   "parameters": {},
   "start_time": "2024-02-13T19:54:44.676132",
   "version": "2.5.0"
  }
 },
 "nbformat": 4,
 "nbformat_minor": 5
}
