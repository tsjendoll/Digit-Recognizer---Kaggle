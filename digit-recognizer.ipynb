{
 "cells": [
  {
   "cell_type": "code",
   "execution_count": 1,
   "id": "7b2caa14",
   "metadata": {
    "_cell_guid": "b1076dfc-b9ad-4769-8c92-a6c4dae69d19",
    "_uuid": "8f2839f25d086af736a60e9eeb907d3b93b6e0e5",
    "execution": {
     "iopub.execute_input": "2024-02-13T19:29:25.916022Z",
     "iopub.status.busy": "2024-02-13T19:29:25.914952Z",
     "iopub.status.idle": "2024-02-13T19:29:39.558393Z",
     "shell.execute_reply": "2024-02-13T19:29:39.557320Z"
    },
    "papermill": {
     "duration": 13.656857,
     "end_time": "2024-02-13T19:29:39.560405",
     "exception": false,
     "start_time": "2024-02-13T19:29:25.903548",
     "status": "completed"
    },
    "tags": []
   },
   "outputs": [
    {
     "name": "stderr",
     "output_type": "stream",
     "text": [
      "2024-02-13 19:29:28.350830: E external/local_xla/xla/stream_executor/cuda/cuda_dnn.cc:9261] Unable to register cuDNN factory: Attempting to register factory for plugin cuDNN when one has already been registered\n",
      "2024-02-13 19:29:28.350922: E external/local_xla/xla/stream_executor/cuda/cuda_fft.cc:607] Unable to register cuFFT factory: Attempting to register factory for plugin cuFFT when one has already been registered\n",
      "2024-02-13 19:29:28.479998: E external/local_xla/xla/stream_executor/cuda/cuda_blas.cc:1515] Unable to register cuBLAS factory: Attempting to register factory for plugin cuBLAS when one has already been registered\n"
     ]
    },
    {
     "name": "stdout",
     "output_type": "stream",
     "text": [
      "/kaggle/input/digit-recognizer/sample_submission.csv\n",
      "/kaggle/input/digit-recognizer/train.csv\n",
      "/kaggle/input/digit-recognizer/test.csv\n"
     ]
    }
   ],
   "source": [
    "# This Python 3 environment comes with many helpful analytics libraries installed\n",
    "# It is defined by the kaggle/python Docker image: https://github.com/kaggle/docker-python\n",
    "# For example, here's several helpful packages to load\n",
    "\n",
    "import numpy as np # linear algebra\n",
    "import pandas as pd # data processing, CSV file I/O (e.g. pd.read_csv)\n",
    "import tensorflow as tf\n",
    "from tensorflow import keras\n",
    "from sklearn.model_selection import train_test_split\n",
    "from tensorflow.keras import layers, Sequential\n",
    "import matplotlib.pyplot as plt\n",
    "\n",
    "# Input data files are available in the read-only \"../input/\" directory\n",
    "# For example, running this (by clicking run or pressing Shift+Enter) will list all files under the input directory\n",
    "\n",
    "import os\n",
    "for dirname, _, filenames in os.walk('/kaggle/input'):\n",
    "    for filename in filenames:\n",
    "        print(os.path.join(dirname, filename))\n",
    "    \n",
    "# You can write up to 20GB to the current directory (/kaggle/working/) that gets preserved as output when you create a version using \"Save & Run All\" \n",
    "# You can also write temporary files to /kaggle/temp/, but they won't be saved outside of the current session"
   ]
  },
  {
   "cell_type": "code",
   "execution_count": 2,
   "id": "ca81e3a4",
   "metadata": {
    "execution": {
     "iopub.execute_input": "2024-02-13T19:29:39.580311Z",
     "iopub.status.busy": "2024-02-13T19:29:39.579709Z",
     "iopub.status.idle": "2024-02-13T19:29:43.103983Z",
     "shell.execute_reply": "2024-02-13T19:29:43.103045Z"
    },
    "papermill": {
     "duration": 3.5363,
     "end_time": "2024-02-13T19:29:43.106158",
     "exception": false,
     "start_time": "2024-02-13T19:29:39.569858",
     "status": "completed"
    },
    "tags": []
   },
   "outputs": [
    {
     "name": "stdout",
     "output_type": "stream",
     "text": [
      "(42000, 785)\n"
     ]
    },
    {
     "data": {
      "text/html": [
       "<div>\n",
       "<style scoped>\n",
       "    .dataframe tbody tr th:only-of-type {\n",
       "        vertical-align: middle;\n",
       "    }\n",
       "\n",
       "    .dataframe tbody tr th {\n",
       "        vertical-align: top;\n",
       "    }\n",
       "\n",
       "    .dataframe thead th {\n",
       "        text-align: right;\n",
       "    }\n",
       "</style>\n",
       "<table border=\"1\" class=\"dataframe\">\n",
       "  <thead>\n",
       "    <tr style=\"text-align: right;\">\n",
       "      <th></th>\n",
       "      <th>label</th>\n",
       "      <th>pixel0</th>\n",
       "      <th>pixel1</th>\n",
       "      <th>pixel2</th>\n",
       "      <th>pixel3</th>\n",
       "      <th>pixel4</th>\n",
       "      <th>pixel5</th>\n",
       "      <th>pixel6</th>\n",
       "      <th>pixel7</th>\n",
       "      <th>pixel8</th>\n",
       "      <th>...</th>\n",
       "      <th>pixel774</th>\n",
       "      <th>pixel775</th>\n",
       "      <th>pixel776</th>\n",
       "      <th>pixel777</th>\n",
       "      <th>pixel778</th>\n",
       "      <th>pixel779</th>\n",
       "      <th>pixel780</th>\n",
       "      <th>pixel781</th>\n",
       "      <th>pixel782</th>\n",
       "      <th>pixel783</th>\n",
       "    </tr>\n",
       "  </thead>\n",
       "  <tbody>\n",
       "    <tr>\n",
       "      <th>0</th>\n",
       "      <td>1</td>\n",
       "      <td>0</td>\n",
       "      <td>0</td>\n",
       "      <td>0</td>\n",
       "      <td>0</td>\n",
       "      <td>0</td>\n",
       "      <td>0</td>\n",
       "      <td>0</td>\n",
       "      <td>0</td>\n",
       "      <td>0</td>\n",
       "      <td>...</td>\n",
       "      <td>0</td>\n",
       "      <td>0</td>\n",
       "      <td>0</td>\n",
       "      <td>0</td>\n",
       "      <td>0</td>\n",
       "      <td>0</td>\n",
       "      <td>0</td>\n",
       "      <td>0</td>\n",
       "      <td>0</td>\n",
       "      <td>0</td>\n",
       "    </tr>\n",
       "    <tr>\n",
       "      <th>1</th>\n",
       "      <td>0</td>\n",
       "      <td>0</td>\n",
       "      <td>0</td>\n",
       "      <td>0</td>\n",
       "      <td>0</td>\n",
       "      <td>0</td>\n",
       "      <td>0</td>\n",
       "      <td>0</td>\n",
       "      <td>0</td>\n",
       "      <td>0</td>\n",
       "      <td>...</td>\n",
       "      <td>0</td>\n",
       "      <td>0</td>\n",
       "      <td>0</td>\n",
       "      <td>0</td>\n",
       "      <td>0</td>\n",
       "      <td>0</td>\n",
       "      <td>0</td>\n",
       "      <td>0</td>\n",
       "      <td>0</td>\n",
       "      <td>0</td>\n",
       "    </tr>\n",
       "    <tr>\n",
       "      <th>2</th>\n",
       "      <td>1</td>\n",
       "      <td>0</td>\n",
       "      <td>0</td>\n",
       "      <td>0</td>\n",
       "      <td>0</td>\n",
       "      <td>0</td>\n",
       "      <td>0</td>\n",
       "      <td>0</td>\n",
       "      <td>0</td>\n",
       "      <td>0</td>\n",
       "      <td>...</td>\n",
       "      <td>0</td>\n",
       "      <td>0</td>\n",
       "      <td>0</td>\n",
       "      <td>0</td>\n",
       "      <td>0</td>\n",
       "      <td>0</td>\n",
       "      <td>0</td>\n",
       "      <td>0</td>\n",
       "      <td>0</td>\n",
       "      <td>0</td>\n",
       "    </tr>\n",
       "    <tr>\n",
       "      <th>3</th>\n",
       "      <td>4</td>\n",
       "      <td>0</td>\n",
       "      <td>0</td>\n",
       "      <td>0</td>\n",
       "      <td>0</td>\n",
       "      <td>0</td>\n",
       "      <td>0</td>\n",
       "      <td>0</td>\n",
       "      <td>0</td>\n",
       "      <td>0</td>\n",
       "      <td>...</td>\n",
       "      <td>0</td>\n",
       "      <td>0</td>\n",
       "      <td>0</td>\n",
       "      <td>0</td>\n",
       "      <td>0</td>\n",
       "      <td>0</td>\n",
       "      <td>0</td>\n",
       "      <td>0</td>\n",
       "      <td>0</td>\n",
       "      <td>0</td>\n",
       "    </tr>\n",
       "    <tr>\n",
       "      <th>4</th>\n",
       "      <td>0</td>\n",
       "      <td>0</td>\n",
       "      <td>0</td>\n",
       "      <td>0</td>\n",
       "      <td>0</td>\n",
       "      <td>0</td>\n",
       "      <td>0</td>\n",
       "      <td>0</td>\n",
       "      <td>0</td>\n",
       "      <td>0</td>\n",
       "      <td>...</td>\n",
       "      <td>0</td>\n",
       "      <td>0</td>\n",
       "      <td>0</td>\n",
       "      <td>0</td>\n",
       "      <td>0</td>\n",
       "      <td>0</td>\n",
       "      <td>0</td>\n",
       "      <td>0</td>\n",
       "      <td>0</td>\n",
       "      <td>0</td>\n",
       "    </tr>\n",
       "  </tbody>\n",
       "</table>\n",
       "<p>5 rows × 785 columns</p>\n",
       "</div>"
      ],
      "text/plain": [
       "   label  pixel0  pixel1  pixel2  pixel3  pixel4  pixel5  pixel6  pixel7  \\\n",
       "0      1       0       0       0       0       0       0       0       0   \n",
       "1      0       0       0       0       0       0       0       0       0   \n",
       "2      1       0       0       0       0       0       0       0       0   \n",
       "3      4       0       0       0       0       0       0       0       0   \n",
       "4      0       0       0       0       0       0       0       0       0   \n",
       "\n",
       "   pixel8  ...  pixel774  pixel775  pixel776  pixel777  pixel778  pixel779  \\\n",
       "0       0  ...         0         0         0         0         0         0   \n",
       "1       0  ...         0         0         0         0         0         0   \n",
       "2       0  ...         0         0         0         0         0         0   \n",
       "3       0  ...         0         0         0         0         0         0   \n",
       "4       0  ...         0         0         0         0         0         0   \n",
       "\n",
       "   pixel780  pixel781  pixel782  pixel783  \n",
       "0         0         0         0         0  \n",
       "1         0         0         0         0  \n",
       "2         0         0         0         0  \n",
       "3         0         0         0         0  \n",
       "4         0         0         0         0  \n",
       "\n",
       "[5 rows x 785 columns]"
      ]
     },
     "execution_count": 2,
     "metadata": {},
     "output_type": "execute_result"
    }
   ],
   "source": [
    "train_data = pd.read_csv(\"/kaggle/input/digit-recognizer/train.csv\")\n",
    "print(train_data.shape)\n",
    "train_data.head()"
   ]
  },
  {
   "cell_type": "code",
   "execution_count": 3,
   "id": "89953152",
   "metadata": {
    "execution": {
     "iopub.execute_input": "2024-02-13T19:29:43.126555Z",
     "iopub.status.busy": "2024-02-13T19:29:43.126259Z",
     "iopub.status.idle": "2024-02-13T19:29:45.366017Z",
     "shell.execute_reply": "2024-02-13T19:29:45.365113Z"
    },
    "papermill": {
     "duration": 2.252095,
     "end_time": "2024-02-13T19:29:45.367923",
     "exception": false,
     "start_time": "2024-02-13T19:29:43.115828",
     "status": "completed"
    },
    "tags": []
   },
   "outputs": [
    {
     "name": "stdout",
     "output_type": "stream",
     "text": [
      "(28000, 784)\n"
     ]
    },
    {
     "data": {
      "text/html": [
       "<div>\n",
       "<style scoped>\n",
       "    .dataframe tbody tr th:only-of-type {\n",
       "        vertical-align: middle;\n",
       "    }\n",
       "\n",
       "    .dataframe tbody tr th {\n",
       "        vertical-align: top;\n",
       "    }\n",
       "\n",
       "    .dataframe thead th {\n",
       "        text-align: right;\n",
       "    }\n",
       "</style>\n",
       "<table border=\"1\" class=\"dataframe\">\n",
       "  <thead>\n",
       "    <tr style=\"text-align: right;\">\n",
       "      <th></th>\n",
       "      <th>pixel0</th>\n",
       "      <th>pixel1</th>\n",
       "      <th>pixel2</th>\n",
       "      <th>pixel3</th>\n",
       "      <th>pixel4</th>\n",
       "      <th>pixel5</th>\n",
       "      <th>pixel6</th>\n",
       "      <th>pixel7</th>\n",
       "      <th>pixel8</th>\n",
       "      <th>pixel9</th>\n",
       "      <th>...</th>\n",
       "      <th>pixel774</th>\n",
       "      <th>pixel775</th>\n",
       "      <th>pixel776</th>\n",
       "      <th>pixel777</th>\n",
       "      <th>pixel778</th>\n",
       "      <th>pixel779</th>\n",
       "      <th>pixel780</th>\n",
       "      <th>pixel781</th>\n",
       "      <th>pixel782</th>\n",
       "      <th>pixel783</th>\n",
       "    </tr>\n",
       "  </thead>\n",
       "  <tbody>\n",
       "    <tr>\n",
       "      <th>0</th>\n",
       "      <td>0</td>\n",
       "      <td>0</td>\n",
       "      <td>0</td>\n",
       "      <td>0</td>\n",
       "      <td>0</td>\n",
       "      <td>0</td>\n",
       "      <td>0</td>\n",
       "      <td>0</td>\n",
       "      <td>0</td>\n",
       "      <td>0</td>\n",
       "      <td>...</td>\n",
       "      <td>0</td>\n",
       "      <td>0</td>\n",
       "      <td>0</td>\n",
       "      <td>0</td>\n",
       "      <td>0</td>\n",
       "      <td>0</td>\n",
       "      <td>0</td>\n",
       "      <td>0</td>\n",
       "      <td>0</td>\n",
       "      <td>0</td>\n",
       "    </tr>\n",
       "    <tr>\n",
       "      <th>1</th>\n",
       "      <td>0</td>\n",
       "      <td>0</td>\n",
       "      <td>0</td>\n",
       "      <td>0</td>\n",
       "      <td>0</td>\n",
       "      <td>0</td>\n",
       "      <td>0</td>\n",
       "      <td>0</td>\n",
       "      <td>0</td>\n",
       "      <td>0</td>\n",
       "      <td>...</td>\n",
       "      <td>0</td>\n",
       "      <td>0</td>\n",
       "      <td>0</td>\n",
       "      <td>0</td>\n",
       "      <td>0</td>\n",
       "      <td>0</td>\n",
       "      <td>0</td>\n",
       "      <td>0</td>\n",
       "      <td>0</td>\n",
       "      <td>0</td>\n",
       "    </tr>\n",
       "    <tr>\n",
       "      <th>2</th>\n",
       "      <td>0</td>\n",
       "      <td>0</td>\n",
       "      <td>0</td>\n",
       "      <td>0</td>\n",
       "      <td>0</td>\n",
       "      <td>0</td>\n",
       "      <td>0</td>\n",
       "      <td>0</td>\n",
       "      <td>0</td>\n",
       "      <td>0</td>\n",
       "      <td>...</td>\n",
       "      <td>0</td>\n",
       "      <td>0</td>\n",
       "      <td>0</td>\n",
       "      <td>0</td>\n",
       "      <td>0</td>\n",
       "      <td>0</td>\n",
       "      <td>0</td>\n",
       "      <td>0</td>\n",
       "      <td>0</td>\n",
       "      <td>0</td>\n",
       "    </tr>\n",
       "    <tr>\n",
       "      <th>3</th>\n",
       "      <td>0</td>\n",
       "      <td>0</td>\n",
       "      <td>0</td>\n",
       "      <td>0</td>\n",
       "      <td>0</td>\n",
       "      <td>0</td>\n",
       "      <td>0</td>\n",
       "      <td>0</td>\n",
       "      <td>0</td>\n",
       "      <td>0</td>\n",
       "      <td>...</td>\n",
       "      <td>0</td>\n",
       "      <td>0</td>\n",
       "      <td>0</td>\n",
       "      <td>0</td>\n",
       "      <td>0</td>\n",
       "      <td>0</td>\n",
       "      <td>0</td>\n",
       "      <td>0</td>\n",
       "      <td>0</td>\n",
       "      <td>0</td>\n",
       "    </tr>\n",
       "    <tr>\n",
       "      <th>4</th>\n",
       "      <td>0</td>\n",
       "      <td>0</td>\n",
       "      <td>0</td>\n",
       "      <td>0</td>\n",
       "      <td>0</td>\n",
       "      <td>0</td>\n",
       "      <td>0</td>\n",
       "      <td>0</td>\n",
       "      <td>0</td>\n",
       "      <td>0</td>\n",
       "      <td>...</td>\n",
       "      <td>0</td>\n",
       "      <td>0</td>\n",
       "      <td>0</td>\n",
       "      <td>0</td>\n",
       "      <td>0</td>\n",
       "      <td>0</td>\n",
       "      <td>0</td>\n",
       "      <td>0</td>\n",
       "      <td>0</td>\n",
       "      <td>0</td>\n",
       "    </tr>\n",
       "  </tbody>\n",
       "</table>\n",
       "<p>5 rows × 784 columns</p>\n",
       "</div>"
      ],
      "text/plain": [
       "   pixel0  pixel1  pixel2  pixel3  pixel4  pixel5  pixel6  pixel7  pixel8  \\\n",
       "0       0       0       0       0       0       0       0       0       0   \n",
       "1       0       0       0       0       0       0       0       0       0   \n",
       "2       0       0       0       0       0       0       0       0       0   \n",
       "3       0       0       0       0       0       0       0       0       0   \n",
       "4       0       0       0       0       0       0       0       0       0   \n",
       "\n",
       "   pixel9  ...  pixel774  pixel775  pixel776  pixel777  pixel778  pixel779  \\\n",
       "0       0  ...         0         0         0         0         0         0   \n",
       "1       0  ...         0         0         0         0         0         0   \n",
       "2       0  ...         0         0         0         0         0         0   \n",
       "3       0  ...         0         0         0         0         0         0   \n",
       "4       0  ...         0         0         0         0         0         0   \n",
       "\n",
       "   pixel780  pixel781  pixel782  pixel783  \n",
       "0         0         0         0         0  \n",
       "1         0         0         0         0  \n",
       "2         0         0         0         0  \n",
       "3         0         0         0         0  \n",
       "4         0         0         0         0  \n",
       "\n",
       "[5 rows x 784 columns]"
      ]
     },
     "execution_count": 3,
     "metadata": {},
     "output_type": "execute_result"
    }
   ],
   "source": [
    "test_data = pd.read_csv(\"/kaggle/input/digit-recognizer/test.csv\")\n",
    "print(test_data.shape)\n",
    "test_data.head()"
   ]
  },
  {
   "cell_type": "markdown",
   "id": "3a689b59",
   "metadata": {
    "papermill": {
     "duration": 0.009555,
     "end_time": "2024-02-13T19:29:45.387986",
     "exception": false,
     "start_time": "2024-02-13T19:29:45.378431",
     "status": "completed"
    },
    "tags": []
   },
   "source": [
    "Convert pixel values to floats."
   ]
  },
  {
   "cell_type": "code",
   "execution_count": 4,
   "id": "3680ed71",
   "metadata": {
    "execution": {
     "iopub.execute_input": "2024-02-13T19:29:45.409365Z",
     "iopub.status.busy": "2024-02-13T19:29:45.408641Z",
     "iopub.status.idle": "2024-02-13T19:29:45.704164Z",
     "shell.execute_reply": "2024-02-13T19:29:45.703108Z"
    },
    "papermill": {
     "duration": 0.308654,
     "end_time": "2024-02-13T19:29:45.706607",
     "exception": false,
     "start_time": "2024-02-13T19:29:45.397953",
     "status": "completed"
    },
    "tags": []
   },
   "outputs": [],
   "source": [
    "X_train = pd.get_dummies(train_data.iloc[:,1:])\n",
    "X_train = X_train.values.astype('float32')\n",
    "\n",
    "y_train = pd.get_dummies(train_data.iloc[:,0])\n",
    "y_train = y_train.values.astype('int16')\n",
    "\n",
    "X_test = test_data.values.astype('float32')"
   ]
  },
  {
   "cell_type": "markdown",
   "id": "3f33e1c4",
   "metadata": {
    "papermill": {
     "duration": 0.00959,
     "end_time": "2024-02-13T19:29:45.726332",
     "exception": false,
     "start_time": "2024-02-13T19:29:45.716742",
     "status": "completed"
    },
    "tags": []
   },
   "source": [
    "# Reshaping the Data\n",
    "Since each image is 28x28 pixels and one color channel, reshape to these dimensions.  We use a -1 to signify we want the dimension to be calculated for us."
   ]
  },
  {
   "cell_type": "code",
   "execution_count": 5,
   "id": "4d0d5a69",
   "metadata": {
    "execution": {
     "iopub.execute_input": "2024-02-13T19:29:45.747979Z",
     "iopub.status.busy": "2024-02-13T19:29:45.747580Z",
     "iopub.status.idle": "2024-02-13T19:29:45.751944Z",
     "shell.execute_reply": "2024-02-13T19:29:45.751104Z"
    },
    "papermill": {
     "duration": 0.01673,
     "end_time": "2024-02-13T19:29:45.753753",
     "exception": false,
     "start_time": "2024-02-13T19:29:45.737023",
     "status": "completed"
    },
    "tags": []
   },
   "outputs": [],
   "source": [
    "X_train = X_train.reshape(-1, 28, 28,1)\n",
    "X_test = X_test.reshape(-1,28,28,1)"
   ]
  },
  {
   "cell_type": "markdown",
   "id": "2334436d",
   "metadata": {
    "papermill": {
     "duration": 0.009532,
     "end_time": "2024-02-13T19:29:45.773001",
     "exception": false,
     "start_time": "2024-02-13T19:29:45.763469",
     "status": "completed"
    },
    "tags": []
   },
   "source": [
    "Let's have a look at this data to see what we are working with."
   ]
  },
  {
   "cell_type": "code",
   "execution_count": 6,
   "id": "2b0ae45f",
   "metadata": {
    "execution": {
     "iopub.execute_input": "2024-02-13T19:29:45.793716Z",
     "iopub.status.busy": "2024-02-13T19:29:45.793219Z",
     "iopub.status.idle": "2024-02-13T19:29:45.797642Z",
     "shell.execute_reply": "2024-02-13T19:29:45.796805Z"
    },
    "papermill": {
     "duration": 0.016857,
     "end_time": "2024-02-13T19:29:45.799583",
     "exception": false,
     "start_time": "2024-02-13T19:29:45.782726",
     "status": "completed"
    },
    "tags": []
   },
   "outputs": [
    {
     "name": "stdout",
     "output_type": "stream",
     "text": [
      "X_train shape:  (42000, 28, 28, 1)\n"
     ]
    }
   ],
   "source": [
    "print('X_train shape: ', X_train.shape)"
   ]
  },
  {
   "cell_type": "markdown",
   "id": "3fe96dfc",
   "metadata": {
    "papermill": {
     "duration": 0.009566,
     "end_time": "2024-02-13T19:29:45.818876",
     "exception": false,
     "start_time": "2024-02-13T19:29:45.809310",
     "status": "completed"
    },
    "tags": []
   },
   "source": [
    "The training data has 42,000 images that are made up of 28x28pixels(784 in total) with 1 color channel"
   ]
  },
  {
   "cell_type": "markdown",
   "id": "70d7aad5",
   "metadata": {
    "papermill": {
     "duration": 0.009583,
     "end_time": "2024-02-13T19:29:45.838249",
     "exception": false,
     "start_time": "2024-02-13T19:29:45.828666",
     "status": "completed"
    },
    "tags": []
   },
   "source": [
    "Let's see what some of the images look like."
   ]
  },
  {
   "cell_type": "code",
   "execution_count": 7,
   "id": "b8158f95",
   "metadata": {
    "execution": {
     "iopub.execute_input": "2024-02-13T19:29:45.859192Z",
     "iopub.status.busy": "2024-02-13T19:29:45.858475Z",
     "iopub.status.idle": "2024-02-13T19:29:46.782407Z",
     "shell.execute_reply": "2024-02-13T19:29:46.781542Z"
    },
    "papermill": {
     "duration": 0.936266,
     "end_time": "2024-02-13T19:29:46.784290",
     "exception": false,
     "start_time": "2024-02-13T19:29:45.848024",
     "status": "completed"
    },
    "tags": []
   },
   "outputs": [
    {
     "data": {
      "image/png": "[encoded data removed]",
      "text/plain": [
       "<Figure size 640x480 with 9 Axes>"
      ]
     },
     "metadata": {},
     "output_type": "display_data"
    }
   ],
   "source": [
    "for i in range(0, 9):\n",
    "    plt.subplot(330 + (i+1))\n",
    "    plt.imshow(X_train[i], cmap=plt.get_cmap('gray'))"
   ]
  },
  {
   "cell_type": "markdown",
   "id": "2be72d5c",
   "metadata": {
    "papermill": {
     "duration": 0.009974,
     "end_time": "2024-02-13T19:29:46.804630",
     "exception": false,
     "start_time": "2024-02-13T19:29:46.794656",
     "status": "completed"
    },
    "tags": []
   },
   "source": [
    "# Data Preprocessing\n",
    "\n",
    "In this case we will simply scale all our greyscale pixel values (0-255) to be between 0 and 1. We can do this by dividing each value in the training and testing sets by 255.0. We do this because smaller values will make it easier for the model to process our values."
   ]
  },
  {
   "cell_type": "code",
   "execution_count": 8,
   "id": "0edf123c",
   "metadata": {
    "execution": {
     "iopub.execute_input": "2024-02-13T19:29:46.826592Z",
     "iopub.status.busy": "2024-02-13T19:29:46.826017Z",
     "iopub.status.idle": "2024-02-13T19:29:46.892356Z",
     "shell.execute_reply": "2024-02-13T19:29:46.891559Z"
    },
    "papermill": {
     "duration": 0.079685,
     "end_time": "2024-02-13T19:29:46.894680",
     "exception": false,
     "start_time": "2024-02-13T19:29:46.814995",
     "status": "completed"
    },
    "tags": []
   },
   "outputs": [],
   "source": [
    "X_train = X_train / 255.0\n",
    "X_test = X_test / 255.0"
   ]
  },
  {
   "cell_type": "markdown",
   "id": "f272958d",
   "metadata": {
    "papermill": {
     "duration": 0.010004,
     "end_time": "2024-02-13T19:29:46.915415",
     "exception": false,
     "start_time": "2024-02-13T19:29:46.905411",
     "status": "completed"
    },
    "tags": []
   },
   "source": [
    "# Split the data"
   ]
  },
  {
   "cell_type": "code",
   "execution_count": 9,
   "id": "dcb1b0d8",
   "metadata": {
    "execution": {
     "iopub.execute_input": "2024-02-13T19:29:46.937289Z",
     "iopub.status.busy": "2024-02-13T19:29:46.936789Z",
     "iopub.status.idle": "2024-02-13T19:29:47.265602Z",
     "shell.execute_reply": "2024-02-13T19:29:47.264812Z"
    },
    "papermill": {
     "duration": 0.342299,
     "end_time": "2024-02-13T19:29:47.267950",
     "exception": false,
     "start_time": "2024-02-13T19:29:46.925651",
     "status": "completed"
    },
    "tags": []
   },
   "outputs": [],
   "source": [
    "X=X_train\n",
    "y=y_train\n",
    "X_train, X_val, y_train, y_val = train_test_split(X,y,test_size=0.10, random_state=0)"
   ]
  },
  {
   "cell_type": "markdown",
   "id": "e3c614b7",
   "metadata": {
    "papermill": {
     "duration": 0.009921,
     "end_time": "2024-02-13T19:29:47.288286",
     "exception": false,
     "start_time": "2024-02-13T19:29:47.278365",
     "status": "completed"
    },
    "tags": []
   },
   "source": [
    "# CNN Architecture\n",
    "\n",
    "(This explanation is taken diretly from Machine Learning with Python course at https://www.freecodecamp.org/learn/machine-learning-with-python/tensorflow/)\n",
    "\n",
    "A common architecture for a CNN is a stack of Conv2D and MaxPooling2D layers followed by a few denesly connected layers. To idea is that the stack of convolutional and maxPooling layers extract the features from the image. Then these features are flattened and fed to densly connected layers that determine the class of an image based on the presence of features.\n",
    "\n",
    "We will start by building the **Convolutional Base**."
   ]
  },
  {
   "cell_type": "code",
   "execution_count": 10,
   "id": "607e368a",
   "metadata": {
    "execution": {
     "iopub.execute_input": "2024-02-13T19:29:47.309959Z",
     "iopub.status.busy": "2024-02-13T19:29:47.309423Z",
     "iopub.status.idle": "2024-02-13T19:29:48.045600Z",
     "shell.execute_reply": "2024-02-13T19:29:48.044693Z"
    },
    "papermill": {
     "duration": 0.749387,
     "end_time": "2024-02-13T19:29:48.047845",
     "exception": false,
     "start_time": "2024-02-13T19:29:47.298458",
     "status": "completed"
    },
    "tags": []
   },
   "outputs": [],
   "source": [
    "model = keras.models.Sequential()\n",
    "model.add(layers.Conv2D(32, (3, 3), activation='relu', input_shape=(28,28,1)))\n",
    "model.add(layers.MaxPooling2D((2, 2)))\n",
    "model.add(layers.Conv2D(64, (3, 3), activation='relu'))\n",
    "model.add(layers.MaxPooling2D((2, 2)))\n",
    "model.add(layers.Conv2D(64, (3, 3), activation='relu'))\n",
    "\n",
    "\n",
    "# # we'll use categorical xent for the loss, and RMSprop as the optimizer\n",
    "# model.compile(loss='categorical_crossentropy', optimizer='rmsprop', metrics=['accuracy'])"
   ]
  },
  {
   "cell_type": "markdown",
   "id": "066e80bb",
   "metadata": {
    "papermill": {
     "duration": 0.01,
     "end_time": "2024-02-13T19:29:48.068313",
     "exception": false,
     "start_time": "2024-02-13T19:29:48.058313",
     "status": "completed"
    },
    "tags": []
   },
   "source": [
    "**Layer 1**\n",
    "\n",
    "The input shape of our data will be 28, 28 and we will process 32 filters of size 3x3 over our input data. We will also apply the activation function relu to the output of each convolution operation.\n",
    "\n",
    "**Layer 2**\n",
    "\n",
    "This layer will perform the max pooling operation using 2x2 samples and a stride of 2.\n",
    "\n",
    "**Other Layers**\n",
    "\n",
    "The next set of layers do very similar things but take as input the feature map from the previous layer. They also increase the frequency of filters from 32 to 64. We can do this as our data shrinks in spacial dimensions as it passed through the layers, meaning we can afford (computationally) to add more depth."
   ]
  },
  {
   "cell_type": "code",
   "execution_count": 11,
   "id": "f3c8a35e",
   "metadata": {
    "execution": {
     "iopub.execute_input": "2024-02-13T19:29:48.089939Z",
     "iopub.status.busy": "2024-02-13T19:29:48.089330Z",
     "iopub.status.idle": "2024-02-13T19:29:48.110412Z",
     "shell.execute_reply": "2024-02-13T19:29:48.109501Z"
    },
    "papermill": {
     "duration": 0.040044,
     "end_time": "2024-02-13T19:29:48.118367",
     "exception": false,
     "start_time": "2024-02-13T19:29:48.078323",
     "status": "completed"
    },
    "tags": []
   },
   "outputs": [
    {
     "name": "stdout",
     "output_type": "stream",
     "text": [
      "Model: \"sequential\"\n",
      "_________________________________________________________________\n",
      " Layer (type)                Output Shape              Param #   \n",
      "=================================================================\n",
      " conv2d (Conv2D)             (None, 26, 26, 32)        320       \n",
      "                                                                 \n",
      " max_pooling2d (MaxPooling2  (None, 13, 13, 32)        0         \n",
      " D)                                                              \n",
      "                                                                 \n",
      " conv2d_1 (Conv2D)           (None, 11, 11, 64)        18496     \n",
      "                                                                 \n",
      " max_pooling2d_1 (MaxPoolin  (None, 5, 5, 64)          0         \n",
      " g2D)                                                            \n",
      "                                                                 \n",
      " conv2d_2 (Conv2D)           (None, 3, 3, 64)          36928     \n",
      "                                                                 \n",
      "=================================================================\n",
      "Total params: 55744 (217.75 KB)\n",
      "Trainable params: 55744 (217.75 KB)\n",
      "Non-trainable params: 0 (0.00 Byte)\n",
      "_________________________________________________________________\n"
     ]
    }
   ],
   "source": [
    "model.summary() "
   ]
  },
  {
   "cell_type": "markdown",
   "id": "8c90a1d4",
   "metadata": {
    "papermill": {
     "duration": 0.011488,
     "end_time": "2024-02-13T19:29:48.141472",
     "exception": false,
     "start_time": "2024-02-13T19:29:48.129984",
     "status": "completed"
    },
    "tags": []
   },
   "source": [
    "# Adding Dense Layers\n",
    "So far, we have just completed the **convolutional base**. Now we need to take these extracted features and add a way to classify them. This is why we add the following layers to our model.\n"
   ]
  },
  {
   "cell_type": "code",
   "execution_count": 12,
   "id": "a1646556",
   "metadata": {
    "execution": {
     "iopub.execute_input": "2024-02-13T19:29:48.166050Z",
     "iopub.status.busy": "2024-02-13T19:29:48.165802Z",
     "iopub.status.idle": "2024-02-13T19:29:48.199819Z",
     "shell.execute_reply": "2024-02-13T19:29:48.199015Z"
    },
    "papermill": {
     "duration": 0.048551,
     "end_time": "2024-02-13T19:29:48.201634",
     "exception": false,
     "start_time": "2024-02-13T19:29:48.153083",
     "status": "completed"
    },
    "tags": []
   },
   "outputs": [],
   "source": [
    "model.add(layers.Flatten())\n",
    "model.add(layers.Dense(64, activation='relu'))\n",
    "model.add(layers.Dense(10, activation='softmax'))"
   ]
  },
  {
   "cell_type": "code",
   "execution_count": 13,
   "id": "f677953b",
   "metadata": {
    "execution": {
     "iopub.execute_input": "2024-02-13T19:29:48.226002Z",
     "iopub.status.busy": "2024-02-13T19:29:48.225722Z",
     "iopub.status.idle": "2024-02-13T19:29:48.251121Z",
     "shell.execute_reply": "2024-02-13T19:29:48.250220Z"
    },
    "papermill": {
     "duration": 0.046065,
     "end_time": "2024-02-13T19:29:48.259312",
     "exception": false,
     "start_time": "2024-02-13T19:29:48.213247",
     "status": "completed"
    },
    "tags": []
   },
   "outputs": [
    {
     "name": "stdout",
     "output_type": "stream",
     "text": [
      "Model: \"sequential\"\n",
      "_________________________________________________________________\n",
      " Layer (type)                Output Shape              Param #   \n",
      "=================================================================\n",
      " conv2d (Conv2D)             (None, 26, 26, 32)        320       \n",
      "                                                                 \n",
      " max_pooling2d (MaxPooling2  (None, 13, 13, 32)        0         \n",
      " D)                                                              \n",
      "                                                                 \n",
      " conv2d_1 (Conv2D)           (None, 11, 11, 64)        18496     \n",
      "                                                                 \n",
      " max_pooling2d_1 (MaxPoolin  (None, 5, 5, 64)          0         \n",
      " g2D)                                                            \n",
      "                                                                 \n",
      " conv2d_2 (Conv2D)           (None, 3, 3, 64)          36928     \n",
      "                                                                 \n",
      " flatten (Flatten)           (None, 576)               0         \n",
      "                                                                 \n",
      " dense (Dense)               (None, 64)                36928     \n",
      "                                                                 \n",
      " dense_1 (Dense)             (None, 10)                650       \n",
      "                                                                 \n",
      "=================================================================\n",
      "Total params: 93322 (364.54 KB)\n",
      "Trainable params: 93322 (364.54 KB)\n",
      "Non-trainable params: 0 (0.00 Byte)\n",
      "_________________________________________________________________\n"
     ]
    }
   ],
   "source": [
    "model.summary()"
   ]
  },
  {
   "cell_type": "markdown",
   "id": "fd9801d0",
   "metadata": {
    "papermill": {
     "duration": 0.013544,
     "end_time": "2024-02-13T19:29:48.286635",
     "exception": false,
     "start_time": "2024-02-13T19:29:48.273091",
     "status": "completed"
    },
    "tags": []
   },
   "source": [
    "We can see that the flatten layer changes the shape of our data so that we can feed it to the 64-node dense layer, follwed by the final output layer of 10 neurons (one for each class).\n"
   ]
  },
  {
   "cell_type": "markdown",
   "id": "5176c7bb",
   "metadata": {
    "papermill": {
     "duration": 0.013557,
     "end_time": "2024-02-13T19:29:48.313972",
     "exception": false,
     "start_time": "2024-02-13T19:29:48.300415",
     "status": "completed"
    },
    "tags": []
   },
   "source": [
    "# Compiling the Model.  \n",
    "\n",
    "Here's why you might choose this configuration:\n",
    "\n",
    "**Simplicity:** Using categorical crossentropy without logits simplifies the output layer of your model. Instead of dealing with raw logits, the model outputs probabilities directly, which can be easier to interpret and work with in many cases.\n",
    "\n",
    "**Compatibility:** Many models and tutorials use categorical crossentropy with probabilities rather than logits. By using this configuration, your code might align more closely with existing examples and documentation.\n",
    "\n",
    "**Standard Practice:** For many multi-class classification tasks, using categorical crossentropy with probabilities is a standard practice. It's a well-established method that has been proven effective in a wide range of applications.\n",
    "\n",
    "**Ease of Use:** Specifying the loss function as 'categorical_crossentropy' without logits is straightforward and requires less customization compared to handling logits directly. This simplicity can be advantageous, especially for users who are new to deep learning or want to minimize complexity in their code.\n",
    "\n",
    "Overall, if your model's output is already in the form of probabilities (after passing through a softmax activation), using categorical crossentropy without logits is a natural choice for measuring the discrepancy between predicted probabilities and true class labels.\n",
    "\n",
    "\"List reasons to use this model: model.compile(optimizer='adam', loss=tf.keras.losses.CategoricalCrossentropy(), metrics=['accuracy'])\" prompt. ChatGPT, 3.5, OpenAI, 13 Feb. 2024. https://chat.openai.com."
   ]
  },
  {
   "cell_type": "code",
   "execution_count": 14,
   "id": "2ccc8a68",
   "metadata": {
    "execution": {
     "iopub.execute_input": "2024-02-13T19:29:48.342599Z",
     "iopub.status.busy": "2024-02-13T19:29:48.342346Z",
     "iopub.status.idle": "2024-02-13T19:29:48.358611Z",
     "shell.execute_reply": "2024-02-13T19:29:48.357950Z"
    },
    "papermill": {
     "duration": 0.032595,
     "end_time": "2024-02-13T19:29:48.360440",
     "exception": false,
     "start_time": "2024-02-13T19:29:48.327845",
     "status": "completed"
    },
    "tags": []
   },
   "outputs": [],
   "source": [
    "model.compile(optimizer='adam',\n",
    "              loss=tf.keras.losses.CategoricalCrossentropy(),\n",
    "              metrics=['accuracy'])"
   ]
  },
  {
   "cell_type": "code",
   "execution_count": 15,
   "id": "f1ed1a1e",
   "metadata": {
    "execution": {
     "iopub.execute_input": "2024-02-13T19:29:48.389157Z",
     "iopub.status.busy": "2024-02-13T19:29:48.388637Z",
     "iopub.status.idle": "2024-02-13T19:30:18.905696Z",
     "shell.execute_reply": "2024-02-13T19:30:18.904814Z"
    },
    "papermill": {
     "duration": 30.533457,
     "end_time": "2024-02-13T19:30:18.907708",
     "exception": false,
     "start_time": "2024-02-13T19:29:48.374251",
     "status": "completed"
    },
    "tags": []
   },
   "outputs": [
    {
     "name": "stdout",
     "output_type": "stream",
     "text": [
      "Epoch 1/6\n"
     ]
    },
    {
     "name": "stderr",
     "output_type": "stream",
     "text": [
      "WARNING: All log messages before absl::InitializeLog() is called are written to STDERR\n",
      "I0000 00:00:1707852591.033286      68 device_compiler.h:186] Compiled cluster using XLA!  This line is logged at most once for the lifetime of the process.\n"
     ]
    },
    {
     "name": "stdout",
     "output_type": "stream",
     "text": [
      "1182/1182 [==============================] - 8s 4ms/step - loss: 0.2057 - accuracy: 0.9340 - val_loss: 0.0793 - val_accuracy: 0.9748\n",
      "Epoch 2/6\n",
      "1182/1182 [==============================] - 4s 4ms/step - loss: 0.0563 - accuracy: 0.9825 - val_loss: 0.0489 - val_accuracy: 0.9826\n",
      "Epoch 3/6\n",
      "1182/1182 [==============================] - 4s 4ms/step - loss: 0.0398 - accuracy: 0.9873 - val_loss: 0.0473 - val_accuracy: 0.9845\n",
      "Epoch 4/6\n",
      "1182/1182 [==============================] - 4s 4ms/step - loss: 0.0289 - accuracy: 0.9907 - val_loss: 0.0504 - val_accuracy: 0.9836\n",
      "Epoch 5/6\n",
      "1182/1182 [==============================] - 4s 4ms/step - loss: 0.0241 - accuracy: 0.9913 - val_loss: 0.0381 - val_accuracy: 0.9881\n",
      "Epoch 6/6\n",
      "1182/1182 [==============================] - 4s 4ms/step - loss: 0.0197 - accuracy: 0.9932 - val_loss: 0.0561 - val_accuracy: 0.9869\n"
     ]
    }
   ],
   "source": [
    "history = model.fit(\n",
    "    X_train, y_train,\n",
    "    validation_data=(X_val,y_val),\n",
    "    epochs=6)"
   ]
  },
  {
   "cell_type": "code",
   "execution_count": 16,
   "id": "90149398",
   "metadata": {
    "execution": {
     "iopub.execute_input": "2024-02-13T19:30:19.014511Z",
     "iopub.status.busy": "2024-02-13T19:30:19.014213Z",
     "iopub.status.idle": "2024-02-13T19:30:19.243666Z",
     "shell.execute_reply": "2024-02-13T19:30:19.242826Z"
    },
    "papermill": {
     "duration": 0.284589,
     "end_time": "2024-02-13T19:30:19.245580",
     "exception": false,
     "start_time": "2024-02-13T19:30:18.960991",
     "status": "completed"
    },
    "tags": []
   },
   "outputs": [
    {
     "name": "stdout",
     "output_type": "stream",
     "text": [
      "                  Minimum validation loss: 0.03807910531759262\n",
      "                   Ending validation loss: 0.05606791749596596\n"
     ]
    },
    {
     "data": {
      "image/png": "[encoded data removed]",
      "text/plain": [
       "<Figure size 640x480 with 1 Axes>"
      ]
     },
     "metadata": {},
     "output_type": "display_data"
    }
   ],
   "source": [
    "history_df = pd.DataFrame(history.history)\n",
    "history_df.loc[:, ['loss', 'val_loss']].plot();\n",
    "min_val_loss = history_df['val_loss'].min()\n",
    "ending_val_loss = history_df['val_loss'].iloc[-1]  # Fetching the last val_loss value\n",
    "print(\"                  Minimum validation loss: {}\".format(min_val_loss))\n",
    "print(\"                   Ending validation loss: {}\".format(ending_val_loss))"
   ]
  },
  {
   "cell_type": "markdown",
   "id": "837466b6",
   "metadata": {
    "papermill": {
     "duration": 0.051994,
     "end_time": "2024-02-13T19:30:19.350269",
     "exception": false,
     "start_time": "2024-02-13T19:30:19.298275",
     "status": "completed"
    },
    "tags": []
   },
   "source": [
    "# Making Predictions\n",
    "To make predictions we simply need to pass an array of data in the form we've specified in the input layer to ```.predict()``` method."
   ]
  },
  {
   "cell_type": "code",
   "execution_count": 17,
   "id": "97ccd999",
   "metadata": {
    "execution": {
     "iopub.execute_input": "2024-02-13T19:30:19.497504Z",
     "iopub.status.busy": "2024-02-13T19:30:19.496692Z",
     "iopub.status.idle": "2024-02-13T19:30:19.962203Z",
     "shell.execute_reply": "2024-02-13T19:30:19.961287Z"
    },
    "papermill": {
     "duration": 0.52105,
     "end_time": "2024-02-13T19:30:19.964193",
     "exception": false,
     "start_time": "2024-02-13T19:30:19.443143",
     "status": "completed"
    },
    "tags": []
   },
   "outputs": [
    {
     "name": "stdout",
     "output_type": "stream",
     "text": [
      "132/132 [==============================] - 0s 2ms/step\n"
     ]
    }
   ],
   "source": [
    "predictions = model.predict(X_val)"
   ]
  },
  {
   "cell_type": "markdown",
   "id": "2fefe8e1",
   "metadata": {
    "papermill": {
     "duration": 0.053179,
     "end_time": "2024-02-13T19:30:20.071109",
     "exception": false,
     "start_time": "2024-02-13T19:30:20.017930",
     "status": "completed"
    },
    "tags": []
   },
   "source": [
    "# Verifying predcitions\n",
    "\n",
    "The following script had to be commented out since no user input is permitted for Kaggle's submissions.\n",
    "Uncomment to input a item number and see an image of the data for that item , the model's prediction, and the actual value."
   ]
  },
  {
   "cell_type": "code",
   "execution_count": 18,
   "id": "1fb517f1",
   "metadata": {
    "collapsed": true,
    "execution": {
     "iopub.execute_input": "2024-02-13T19:30:20.178949Z",
     "iopub.status.busy": "2024-02-13T19:30:20.178628Z",
     "iopub.status.idle": "2024-02-13T19:30:20.182864Z",
     "shell.execute_reply": "2024-02-13T19:30:20.182020Z"
    },
    "jupyter": {
     "outputs_hidden": true,
     "source_hidden": true
    },
    "papermill": {
     "duration": 0.060754,
     "end_time": "2024-02-13T19:30:20.184688",
     "exception": false,
     "start_time": "2024-02-13T19:30:20.123934",
     "status": "completed"
    },
    "tags": []
   },
   "outputs": [],
   "source": [
    "# def show_image(img):\n",
    "#   plt.figure()\n",
    "#   plt.imshow(img, cmap=plt.cm.binary)\n",
    "#   plt.grid(False)\n",
    "#   plt.show()\n",
    "  \n",
    "# def get_number():\n",
    "#   while True:\n",
    "#     num = input(\"Pick a number: \")\n",
    "#     if num.isdigit():\n",
    "#       num = int(num)\n",
    "#       if 0 <= num < 4200:\n",
    "#         return int(num)\n",
    "#       else:\n",
    "#         print(\"Try again...\")\n",
    "#     else:\n",
    "#         print(\"Try again...\")\n",
    "\n",
    "# num = get_number()\n",
    "# show_image(X_val[num])\n",
    "# print('Predicated value: ', np.argmax(predictions[num]))\n",
    "# print('Actual number: ', list(y_val[num]).index(1))"
   ]
  },
  {
   "cell_type": "markdown",
   "id": "d457557b",
   "metadata": {
    "papermill": {
     "duration": 0.052755,
     "end_time": "2024-02-13T19:30:20.290359",
     "exception": false,
     "start_time": "2024-02-13T19:30:20.237604",
     "status": "completed"
    },
    "tags": []
   },
   "source": [
    "# A sample output of the previous script:"
   ]
  },
  {
   "attachments": {
    "14370fb3-0154-4a77-a5ff-d60a2ac156cb.png": {
     "image/png": "[encoded data removed]"
    }
   },
   "cell_type": "markdown",
   "id": "9b6ac2e2",
   "metadata": {
    "papermill": {
     "duration": 0.053061,
     "end_time": "2024-02-13T19:30:20.396875",
     "exception": false,
     "start_time": "2024-02-13T19:30:20.343814",
     "status": "completed"
    },
    "tags": []
   },
   "source": [
    "![Screenshot 2024-02-11 131832.png](attachment:14370fb3-0154-4a77-a5ff-d60a2ac156cb.png)"
   ]
  },
  {
   "cell_type": "code",
   "execution_count": 19,
   "id": "6f25d765",
   "metadata": {
    "execution": {
     "iopub.execute_input": "2024-02-13T19:30:20.503910Z",
     "iopub.status.busy": "2024-02-13T19:30:20.503182Z",
     "iopub.status.idle": "2024-02-13T19:30:22.671737Z",
     "shell.execute_reply": "2024-02-13T19:30:22.670812Z"
    },
    "papermill": {
     "duration": 2.22421,
     "end_time": "2024-02-13T19:30:22.673850",
     "exception": false,
     "start_time": "2024-02-13T19:30:20.449640",
     "status": "completed"
    },
    "tags": []
   },
   "outputs": [
    {
     "name": "stdout",
     "output_type": "stream",
     "text": [
      "875/875 [==============================] - 1s 2ms/step\n"
     ]
    },
    {
     "data": {
      "text/plain": [
       "(28000, 28, 28, 1)"
      ]
     },
     "execution_count": 19,
     "metadata": {},
     "output_type": "execute_result"
    }
   ],
   "source": [
    "predictions = model.predict(X_test)\n",
    "X_test.shape"
   ]
  },
  {
   "cell_type": "code",
   "execution_count": 20,
   "id": "663bc6d2",
   "metadata": {
    "execution": {
     "iopub.execute_input": "2024-02-13T19:30:22.788048Z",
     "iopub.status.busy": "2024-02-13T19:30:22.787304Z",
     "iopub.status.idle": "2024-02-13T19:30:22.792989Z",
     "shell.execute_reply": "2024-02-13T19:30:22.792106Z"
    },
    "papermill": {
     "duration": 0.063786,
     "end_time": "2024-02-13T19:30:22.794844",
     "exception": false,
     "start_time": "2024-02-13T19:30:22.731058",
     "status": "completed"
    },
    "tags": []
   },
   "outputs": [],
   "source": [
    "predictions = np.argmax(predictions, axis = 1)\n",
    "predictions = pd.Series(predictions,name = \"Label\")"
   ]
  },
  {
   "cell_type": "code",
   "execution_count": 21,
   "id": "83058499",
   "metadata": {
    "execution": {
     "iopub.execute_input": "2024-02-13T19:30:22.906753Z",
     "iopub.status.busy": "2024-02-13T19:30:22.906496Z",
     "iopub.status.idle": "2024-02-13T19:30:22.945270Z",
     "shell.execute_reply": "2024-02-13T19:30:22.944576Z"
    },
    "papermill": {
     "duration": 0.096567,
     "end_time": "2024-02-13T19:30:22.947097",
     "exception": false,
     "start_time": "2024-02-13T19:30:22.850530",
     "status": "completed"
    },
    "tags": []
   },
   "outputs": [],
   "source": [
    "submission = pd.concat([pd.Series(range(1,28001), name = \"ImageId\"),predictions],axis = 1)\n",
    "submission.to_csv(\"DR.csv\", index = False)"
   ]
  }
 ],
 "metadata": {
  "kaggle": {
   "accelerator": "gpu",
   "dataSources": [
    {
     "databundleVersionId": 861823,
     "sourceId": 3004,
     "sourceType": "competition"
    }
   ],
   "dockerImageVersionId": 30646,
   "isGpuEnabled": true,
   "isInternetEnabled": true,
   "language": "python",
   "sourceType": "notebook"
  },
  "kernelspec": {
   "display_name": "Python 3",
   "language": "python",
   "name": "python3"
  },
  "language_info": {
   "codemirror_mode": {
    "name": "ipython",
    "version": 3
   },
   "file_extension": ".py",
   "mimetype": "text/x-python",
   "name": "python",
   "nbconvert_exporter": "python",
   "pygments_lexer": "ipython3",
   "version": "3.10.13"
  },
  "papermill": {
   "default_parameters": {},
   "duration": 62.165885,
   "end_time": "2024-02-13T19:30:25.385121",
   "environment_variables": {},
   "exception": null,
   "input_path": "__notebook__.ipynb",
   "output_path": "__notebook__.ipynb",
   "parameters": {},
   "start_time": "2024-02-13T19:29:23.219236",
   "version": "2.5.0"
  }
 },
 "nbformat": 4,
 "nbformat_minor": 5
}
