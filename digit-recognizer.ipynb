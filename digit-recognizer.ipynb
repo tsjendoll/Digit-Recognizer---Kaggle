{
 "cells": [
  {
   "cell_type": "code",
   "execution_count": 1,
   "id": "e3824d20",
   "metadata": {
    "_cell_guid": "b1076dfc-b9ad-4769-8c92-a6c4dae69d19",
    "_uuid": "8f2839f25d086af736a60e9eeb907d3b93b6e0e5",
    "execution": {
     "iopub.execute_input": "2024-02-13T19:26:21.621154Z",
     "iopub.status.busy": "2024-02-13T19:26:21.620840Z",
     "iopub.status.idle": "2024-02-13T19:26:35.902863Z",
     "shell.execute_reply": "2024-02-13T19:26:35.901859Z"
    },
    "papermill": {
     "duration": 14.294936,
     "end_time": "2024-02-13T19:26:35.905091",
     "exception": false,
     "start_time": "2024-02-13T19:26:21.610155",
     "status": "completed"
    },
    "tags": []
   },
   "outputs": [
    {
     "name": "stderr",
     "output_type": "stream",
     "text": [
      "2024-02-13 19:26:24.153651: E external/local_xla/xla/stream_executor/cuda/cuda_dnn.cc:9261] Unable to register cuDNN factory: Attempting to register factory for plugin cuDNN when one has already been registered\n",
      "2024-02-13 19:26:24.153783: E external/local_xla/xla/stream_executor/cuda/cuda_fft.cc:607] Unable to register cuFFT factory: Attempting to register factory for plugin cuFFT when one has already been registered\n",
      "2024-02-13 19:26:24.295992: E external/local_xla/xla/stream_executor/cuda/cuda_blas.cc:1515] Unable to register cuBLAS factory: Attempting to register factory for plugin cuBLAS when one has already been registered\n"
     ]
    },
    {
     "name": "stdout",
     "output_type": "stream",
     "text": [
      "/kaggle/input/digit-recognizer/sample_submission.csv\n",
      "/kaggle/input/digit-recognizer/train.csv\n",
      "/kaggle/input/digit-recognizer/test.csv\n"
     ]
    }
   ],
   "source": [
    "# This Python 3 environment comes with many helpful analytics libraries installed\n",
    "# It is defined by the kaggle/python Docker image: https://github.com/kaggle/docker-python\n",
    "# For example, here's several helpful packages to load\n",
    "\n",
    "import numpy as np # linear algebra\n",
    "import pandas as pd # data processing, CSV file I/O (e.g. pd.read_csv)\n",
    "import tensorflow as tf\n",
    "from tensorflow import keras\n",
    "from sklearn.model_selection import train_test_split\n",
    "from tensorflow.keras import layers, Sequential\n",
    "import matplotlib.pyplot as plt\n",
    "\n",
    "# Input data files are available in the read-only \"../input/\" directory\n",
    "# For example, running this (by clicking run or pressing Shift+Enter) will list all files under the input directory\n",
    "\n",
    "import os\n",
    "for dirname, _, filenames in os.walk('/kaggle/input'):\n",
    "    for filename in filenames:\n",
    "        print(os.path.join(dirname, filename))\n",
    "    \n",
    "# You can write up to 20GB to the current directory (/kaggle/working/) that gets preserved as output when you create a version using \"Save & Run All\" \n",
    "# You can also write temporary files to /kaggle/temp/, but they won't be saved outside of the current session"
   ]
  },
  {
   "cell_type": "code",
   "execution_count": 2,
   "id": "6fc8f8ee",
   "metadata": {
    "execution": {
     "iopub.execute_input": "2024-02-13T19:26:35.925119Z",
     "iopub.status.busy": "2024-02-13T19:26:35.924589Z",
     "iopub.status.idle": "2024-02-13T19:26:39.520813Z",
     "shell.execute_reply": "2024-02-13T19:26:39.519878Z"
    },
    "papermill": {
     "duration": 3.608392,
     "end_time": "2024-02-13T19:26:39.523030",
     "exception": false,
     "start_time": "2024-02-13T19:26:35.914638",
     "status": "completed"
    },
    "tags": []
   },
   "outputs": [
    {
     "name": "stdout",
     "output_type": "stream",
     "text": [
      "(42000, 785)\n"
     ]
    },
    {
     "data": {
      "text/html": [
       "<div>\n",
       "<style scoped>\n",
       "    .dataframe tbody tr th:only-of-type {\n",
       "        vertical-align: middle;\n",
       "    }\n",
       "\n",
       "    .dataframe tbody tr th {\n",
       "        vertical-align: top;\n",
       "    }\n",
       "\n",
       "    .dataframe thead th {\n",
       "        text-align: right;\n",
       "    }\n",
       "</style>\n",
       "<table border=\"1\" class=\"dataframe\">\n",
       "  <thead>\n",
       "    <tr style=\"text-align: right;\">\n",
       "      <th></th>\n",
       "      <th>label</th>\n",
       "      <th>pixel0</th>\n",
       "      <th>pixel1</th>\n",
       "      <th>pixel2</th>\n",
       "      <th>pixel3</th>\n",
       "      <th>pixel4</th>\n",
       "      <th>pixel5</th>\n",
       "      <th>pixel6</th>\n",
       "      <th>pixel7</th>\n",
       "      <th>pixel8</th>\n",
       "      <th>...</th>\n",
       "      <th>pixel774</th>\n",
       "      <th>pixel775</th>\n",
       "      <th>pixel776</th>\n",
       "      <th>pixel777</th>\n",
       "      <th>pixel778</th>\n",
       "      <th>pixel779</th>\n",
       "      <th>pixel780</th>\n",
       "      <th>pixel781</th>\n",
       "      <th>pixel782</th>\n",
       "      <th>pixel783</th>\n",
       "    </tr>\n",
       "  </thead>\n",
       "  <tbody>\n",
       "    <tr>\n",
       "      <th>0</th>\n",
       "      <td>1</td>\n",
       "      <td>0</td>\n",
       "      <td>0</td>\n",
       "      <td>0</td>\n",
       "      <td>0</td>\n",
       "      <td>0</td>\n",
       "      <td>0</td>\n",
       "      <td>0</td>\n",
       "      <td>0</td>\n",
       "      <td>0</td>\n",
       "      <td>...</td>\n",
       "      <td>0</td>\n",
       "      <td>0</td>\n",
       "      <td>0</td>\n",
       "      <td>0</td>\n",
       "      <td>0</td>\n",
       "      <td>0</td>\n",
       "      <td>0</td>\n",
       "      <td>0</td>\n",
       "      <td>0</td>\n",
       "      <td>0</td>\n",
       "    </tr>\n",
       "    <tr>\n",
       "      <th>1</th>\n",
       "      <td>0</td>\n",
       "      <td>0</td>\n",
       "      <td>0</td>\n",
       "      <td>0</td>\n",
       "      <td>0</td>\n",
       "      <td>0</td>\n",
       "      <td>0</td>\n",
       "      <td>0</td>\n",
       "      <td>0</td>\n",
       "      <td>0</td>\n",
       "      <td>...</td>\n",
       "      <td>0</td>\n",
       "      <td>0</td>\n",
       "      <td>0</td>\n",
       "      <td>0</td>\n",
       "      <td>0</td>\n",
       "      <td>0</td>\n",
       "      <td>0</td>\n",
       "      <td>0</td>\n",
       "      <td>0</td>\n",
       "      <td>0</td>\n",
       "    </tr>\n",
       "    <tr>\n",
       "      <th>2</th>\n",
       "      <td>1</td>\n",
       "      <td>0</td>\n",
       "      <td>0</td>\n",
       "      <td>0</td>\n",
       "      <td>0</td>\n",
       "      <td>0</td>\n",
       "      <td>0</td>\n",
       "      <td>0</td>\n",
       "      <td>0</td>\n",
       "      <td>0</td>\n",
       "      <td>...</td>\n",
       "      <td>0</td>\n",
       "      <td>0</td>\n",
       "      <td>0</td>\n",
       "      <td>0</td>\n",
       "      <td>0</td>\n",
       "      <td>0</td>\n",
       "      <td>0</td>\n",
       "      <td>0</td>\n",
       "      <td>0</td>\n",
       "      <td>0</td>\n",
       "    </tr>\n",
       "    <tr>\n",
       "      <th>3</th>\n",
       "      <td>4</td>\n",
       "      <td>0</td>\n",
       "      <td>0</td>\n",
       "      <td>0</td>\n",
       "      <td>0</td>\n",
       "      <td>0</td>\n",
       "      <td>0</td>\n",
       "      <td>0</td>\n",
       "      <td>0</td>\n",
       "      <td>0</td>\n",
       "      <td>...</td>\n",
       "      <td>0</td>\n",
       "      <td>0</td>\n",
       "      <td>0</td>\n",
       "      <td>0</td>\n",
       "      <td>0</td>\n",
       "      <td>0</td>\n",
       "      <td>0</td>\n",
       "      <td>0</td>\n",
       "      <td>0</td>\n",
       "      <td>0</td>\n",
       "    </tr>\n",
       "    <tr>\n",
       "      <th>4</th>\n",
       "      <td>0</td>\n",
       "      <td>0</td>\n",
       "      <td>0</td>\n",
       "      <td>0</td>\n",
       "      <td>0</td>\n",
       "      <td>0</td>\n",
       "      <td>0</td>\n",
       "      <td>0</td>\n",
       "      <td>0</td>\n",
       "      <td>0</td>\n",
       "      <td>...</td>\n",
       "      <td>0</td>\n",
       "      <td>0</td>\n",
       "      <td>0</td>\n",
       "      <td>0</td>\n",
       "      <td>0</td>\n",
       "      <td>0</td>\n",
       "      <td>0</td>\n",
       "      <td>0</td>\n",
       "      <td>0</td>\n",
       "      <td>0</td>\n",
       "    </tr>\n",
       "  </tbody>\n",
       "</table>\n",
       "<p>5 rows × 785 columns</p>\n",
       "</div>"
      ],
      "text/plain": [
       "   label  pixel0  pixel1  pixel2  pixel3  pixel4  pixel5  pixel6  pixel7  \\\n",
       "0      1       0       0       0       0       0       0       0       0   \n",
       "1      0       0       0       0       0       0       0       0       0   \n",
       "2      1       0       0       0       0       0       0       0       0   \n",
       "3      4       0       0       0       0       0       0       0       0   \n",
       "4      0       0       0       0       0       0       0       0       0   \n",
       "\n",
       "   pixel8  ...  pixel774  pixel775  pixel776  pixel777  pixel778  pixel779  \\\n",
       "0       0  ...         0         0         0         0         0         0   \n",
       "1       0  ...         0         0         0         0         0         0   \n",
       "2       0  ...         0         0         0         0         0         0   \n",
       "3       0  ...         0         0         0         0         0         0   \n",
       "4       0  ...         0         0         0         0         0         0   \n",
       "\n",
       "   pixel780  pixel781  pixel782  pixel783  \n",
       "0         0         0         0         0  \n",
       "1         0         0         0         0  \n",
       "2         0         0         0         0  \n",
       "3         0         0         0         0  \n",
       "4         0         0         0         0  \n",
       "\n",
       "[5 rows x 785 columns]"
      ]
     },
     "execution_count": 2,
     "metadata": {},
     "output_type": "execute_result"
    }
   ],
   "source": [
    "train_data = pd.read_csv(\"/kaggle/input/digit-recognizer/train.csv\")\n",
    "print(train_data.shape)\n",
    "train_data.head()"
   ]
  },
  {
   "cell_type": "code",
   "execution_count": 3,
   "id": "845c81c1",
   "metadata": {
    "execution": {
     "iopub.execute_input": "2024-02-13T19:26:39.544173Z",
     "iopub.status.busy": "2024-02-13T19:26:39.543909Z",
     "iopub.status.idle": "2024-02-13T19:26:41.692223Z",
     "shell.execute_reply": "2024-02-13T19:26:41.691256Z"
    },
    "papermill": {
     "duration": 2.161793,
     "end_time": "2024-02-13T19:26:41.694740",
     "exception": false,
     "start_time": "2024-02-13T19:26:39.532947",
     "status": "completed"
    },
    "tags": []
   },
   "outputs": [
    {
     "name": "stdout",
     "output_type": "stream",
     "text": [
      "(28000, 784)\n"
     ]
    },
    {
     "data": {
      "text/html": [
       "<div>\n",
       "<style scoped>\n",
       "    .dataframe tbody tr th:only-of-type {\n",
       "        vertical-align: middle;\n",
       "    }\n",
       "\n",
       "    .dataframe tbody tr th {\n",
       "        vertical-align: top;\n",
       "    }\n",
       "\n",
       "    .dataframe thead th {\n",
       "        text-align: right;\n",
       "    }\n",
       "</style>\n",
       "<table border=\"1\" class=\"dataframe\">\n",
       "  <thead>\n",
       "    <tr style=\"text-align: right;\">\n",
       "      <th></th>\n",
       "      <th>pixel0</th>\n",
       "      <th>pixel1</th>\n",
       "      <th>pixel2</th>\n",
       "      <th>pixel3</th>\n",
       "      <th>pixel4</th>\n",
       "      <th>pixel5</th>\n",
       "      <th>pixel6</th>\n",
       "      <th>pixel7</th>\n",
       "      <th>pixel8</th>\n",
       "      <th>pixel9</th>\n",
       "      <th>...</th>\n",
       "      <th>pixel774</th>\n",
       "      <th>pixel775</th>\n",
       "      <th>pixel776</th>\n",
       "      <th>pixel777</th>\n",
       "      <th>pixel778</th>\n",
       "      <th>pixel779</th>\n",
       "      <th>pixel780</th>\n",
       "      <th>pixel781</th>\n",
       "      <th>pixel782</th>\n",
       "      <th>pixel783</th>\n",
       "    </tr>\n",
       "  </thead>\n",
       "  <tbody>\n",
       "    <tr>\n",
       "      <th>0</th>\n",
       "      <td>0</td>\n",
       "      <td>0</td>\n",
       "      <td>0</td>\n",
       "      <td>0</td>\n",
       "      <td>0</td>\n",
       "      <td>0</td>\n",
       "      <td>0</td>\n",
       "      <td>0</td>\n",
       "      <td>0</td>\n",
       "      <td>0</td>\n",
       "      <td>...</td>\n",
       "      <td>0</td>\n",
       "      <td>0</td>\n",
       "      <td>0</td>\n",
       "      <td>0</td>\n",
       "      <td>0</td>\n",
       "      <td>0</td>\n",
       "      <td>0</td>\n",
       "      <td>0</td>\n",
       "      <td>0</td>\n",
       "      <td>0</td>\n",
       "    </tr>\n",
       "    <tr>\n",
       "      <th>1</th>\n",
       "      <td>0</td>\n",
       "      <td>0</td>\n",
       "      <td>0</td>\n",
       "      <td>0</td>\n",
       "      <td>0</td>\n",
       "      <td>0</td>\n",
       "      <td>0</td>\n",
       "      <td>0</td>\n",
       "      <td>0</td>\n",
       "      <td>0</td>\n",
       "      <td>...</td>\n",
       "      <td>0</td>\n",
       "      <td>0</td>\n",
       "      <td>0</td>\n",
       "      <td>0</td>\n",
       "      <td>0</td>\n",
       "      <td>0</td>\n",
       "      <td>0</td>\n",
       "      <td>0</td>\n",
       "      <td>0</td>\n",
       "      <td>0</td>\n",
       "    </tr>\n",
       "    <tr>\n",
       "      <th>2</th>\n",
       "      <td>0</td>\n",
       "      <td>0</td>\n",
       "      <td>0</td>\n",
       "      <td>0</td>\n",
       "      <td>0</td>\n",
       "      <td>0</td>\n",
       "      <td>0</td>\n",
       "      <td>0</td>\n",
       "      <td>0</td>\n",
       "      <td>0</td>\n",
       "      <td>...</td>\n",
       "      <td>0</td>\n",
       "      <td>0</td>\n",
       "      <td>0</td>\n",
       "      <td>0</td>\n",
       "      <td>0</td>\n",
       "      <td>0</td>\n",
       "      <td>0</td>\n",
       "      <td>0</td>\n",
       "      <td>0</td>\n",
       "      <td>0</td>\n",
       "    </tr>\n",
       "    <tr>\n",
       "      <th>3</th>\n",
       "      <td>0</td>\n",
       "      <td>0</td>\n",
       "      <td>0</td>\n",
       "      <td>0</td>\n",
       "      <td>0</td>\n",
       "      <td>0</td>\n",
       "      <td>0</td>\n",
       "      <td>0</td>\n",
       "      <td>0</td>\n",
       "      <td>0</td>\n",
       "      <td>...</td>\n",
       "      <td>0</td>\n",
       "      <td>0</td>\n",
       "      <td>0</td>\n",
       "      <td>0</td>\n",
       "      <td>0</td>\n",
       "      <td>0</td>\n",
       "      <td>0</td>\n",
       "      <td>0</td>\n",
       "      <td>0</td>\n",
       "      <td>0</td>\n",
       "    </tr>\n",
       "    <tr>\n",
       "      <th>4</th>\n",
       "      <td>0</td>\n",
       "      <td>0</td>\n",
       "      <td>0</td>\n",
       "      <td>0</td>\n",
       "      <td>0</td>\n",
       "      <td>0</td>\n",
       "      <td>0</td>\n",
       "      <td>0</td>\n",
       "      <td>0</td>\n",
       "      <td>0</td>\n",
       "      <td>...</td>\n",
       "      <td>0</td>\n",
       "      <td>0</td>\n",
       "      <td>0</td>\n",
       "      <td>0</td>\n",
       "      <td>0</td>\n",
       "      <td>0</td>\n",
       "      <td>0</td>\n",
       "      <td>0</td>\n",
       "      <td>0</td>\n",
       "      <td>0</td>\n",
       "    </tr>\n",
       "  </tbody>\n",
       "</table>\n",
       "<p>5 rows × 784 columns</p>\n",
       "</div>"
      ],
      "text/plain": [
       "   pixel0  pixel1  pixel2  pixel3  pixel4  pixel5  pixel6  pixel7  pixel8  \\\n",
       "0       0       0       0       0       0       0       0       0       0   \n",
       "1       0       0       0       0       0       0       0       0       0   \n",
       "2       0       0       0       0       0       0       0       0       0   \n",
       "3       0       0       0       0       0       0       0       0       0   \n",
       "4       0       0       0       0       0       0       0       0       0   \n",
       "\n",
       "   pixel9  ...  pixel774  pixel775  pixel776  pixel777  pixel778  pixel779  \\\n",
       "0       0  ...         0         0         0         0         0         0   \n",
       "1       0  ...         0         0         0         0         0         0   \n",
       "2       0  ...         0         0         0         0         0         0   \n",
       "3       0  ...         0         0         0         0         0         0   \n",
       "4       0  ...         0         0         0         0         0         0   \n",
       "\n",
       "   pixel780  pixel781  pixel782  pixel783  \n",
       "0         0         0         0         0  \n",
       "1         0         0         0         0  \n",
       "2         0         0         0         0  \n",
       "3         0         0         0         0  \n",
       "4         0         0         0         0  \n",
       "\n",
       "[5 rows x 784 columns]"
      ]
     },
     "execution_count": 3,
     "metadata": {},
     "output_type": "execute_result"
    }
   ],
   "source": [
    "test_data = pd.read_csv(\"/kaggle/input/digit-recognizer/test.csv\")\n",
    "print(test_data.shape)\n",
    "test_data.head()"
   ]
  },
  {
   "cell_type": "markdown",
   "id": "ace50bb8",
   "metadata": {
    "papermill": {
     "duration": 0.010202,
     "end_time": "2024-02-13T19:26:41.715630",
     "exception": false,
     "start_time": "2024-02-13T19:26:41.705428",
     "status": "completed"
    },
    "tags": []
   },
   "source": [
    "Convert pixel values to floats."
   ]
  },
  {
   "cell_type": "code",
   "execution_count": 4,
   "id": "a9c83b74",
   "metadata": {
    "execution": {
     "iopub.execute_input": "2024-02-13T19:26:41.736862Z",
     "iopub.status.busy": "2024-02-13T19:26:41.736553Z",
     "iopub.status.idle": "2024-02-13T19:26:42.033895Z",
     "shell.execute_reply": "2024-02-13T19:26:42.032974Z"
    },
    "papermill": {
     "duration": 0.311057,
     "end_time": "2024-02-13T19:26:42.036576",
     "exception": false,
     "start_time": "2024-02-13T19:26:41.725519",
     "status": "completed"
    },
    "tags": []
   },
   "outputs": [],
   "source": [
    "X_train = pd.get_dummies(train_data.iloc[:,1:])\n",
    "X_train = X_train.values.astype('float32')\n",
    "\n",
    "y_train = pd.get_dummies(train_data.iloc[:,0])\n",
    "y_train = y_train.values.astype('int16')\n",
    "\n",
    "X_test = test_data.values.astype('float32')"
   ]
  },
  {
   "cell_type": "markdown",
   "id": "19bb8799",
   "metadata": {
    "papermill": {
     "duration": 0.009891,
     "end_time": "2024-02-13T19:26:42.056948",
     "exception": false,
     "start_time": "2024-02-13T19:26:42.047057",
     "status": "completed"
    },
    "tags": []
   },
   "source": [
    "# Reshaping the Data\n",
    "Since each image is 28x28 pixels and one color channel, reshape to these dimensions.  We use a -1 to signify we want the dimension to be calculated for us."
   ]
  },
  {
   "cell_type": "code",
   "execution_count": 5,
   "id": "f380e2d3",
   "metadata": {
    "execution": {
     "iopub.execute_input": "2024-02-13T19:26:42.079271Z",
     "iopub.status.busy": "2024-02-13T19:26:42.078935Z",
     "iopub.status.idle": "2024-02-13T19:26:42.083632Z",
     "shell.execute_reply": "2024-02-13T19:26:42.082749Z"
    },
    "papermill": {
     "duration": 0.017741,
     "end_time": "2024-02-13T19:26:42.085567",
     "exception": false,
     "start_time": "2024-02-13T19:26:42.067826",
     "status": "completed"
    },
    "tags": []
   },
   "outputs": [],
   "source": [
    "X_train = X_train.reshape(-1, 28, 28,1)\n",
    "X_test = X_test.reshape(-1,28,28,1)"
   ]
  },
  {
   "cell_type": "markdown",
   "id": "ecd32eb6",
   "metadata": {
    "papermill": {
     "duration": 0.009659,
     "end_time": "2024-02-13T19:26:42.105179",
     "exception": false,
     "start_time": "2024-02-13T19:26:42.095520",
     "status": "completed"
    },
    "tags": []
   },
   "source": [
    "Let's have a look at this data to see what we are working with."
   ]
  },
  {
   "cell_type": "code",
   "execution_count": 6,
   "id": "b4892c24",
   "metadata": {
    "execution": {
     "iopub.execute_input": "2024-02-13T19:26:42.126069Z",
     "iopub.status.busy": "2024-02-13T19:26:42.125790Z",
     "iopub.status.idle": "2024-02-13T19:26:42.130163Z",
     "shell.execute_reply": "2024-02-13T19:26:42.129360Z"
    },
    "papermill": {
     "duration": 0.017034,
     "end_time": "2024-02-13T19:26:42.132118",
     "exception": false,
     "start_time": "2024-02-13T19:26:42.115084",
     "status": "completed"
    },
    "tags": []
   },
   "outputs": [
    {
     "name": "stdout",
     "output_type": "stream",
     "text": [
      "X_train shape:  (42000, 28, 28, 1)\n"
     ]
    }
   ],
   "source": [
    "print('X_train shape: ', X_train.shape)"
   ]
  },
  {
   "cell_type": "markdown",
   "id": "3bf8280c",
   "metadata": {
    "papermill": {
     "duration": 0.009755,
     "end_time": "2024-02-13T19:26:42.151832",
     "exception": false,
     "start_time": "2024-02-13T19:26:42.142077",
     "status": "completed"
    },
    "tags": []
   },
   "source": [
    "The training data has 42,000 images that are made up of 28x28pixels(784 in total) with 1 color channel"
   ]
  },
  {
   "cell_type": "markdown",
   "id": "619ac987",
   "metadata": {
    "papermill": {
     "duration": 0.009831,
     "end_time": "2024-02-13T19:26:42.171785",
     "exception": false,
     "start_time": "2024-02-13T19:26:42.161954",
     "status": "completed"
    },
    "tags": []
   },
   "source": [
    "Let's see what some of the images look like."
   ]
  },
  {
   "cell_type": "code",
   "execution_count": 7,
   "id": "cf881c1a",
   "metadata": {
    "execution": {
     "iopub.execute_input": "2024-02-13T19:26:42.193873Z",
     "iopub.status.busy": "2024-02-13T19:26:42.193449Z",
     "iopub.status.idle": "2024-02-13T19:26:43.141753Z",
     "shell.execute_reply": "2024-02-13T19:26:43.140824Z"
    },
    "papermill": {
     "duration": 0.962326,
     "end_time": "2024-02-13T19:26:43.144218",
     "exception": false,
     "start_time": "2024-02-13T19:26:42.181892",
     "status": "completed"
    },
    "tags": []
   },
   "outputs": [
    {
     "data": {
      "image/png": "[encoded data removed]",
      "text/plain": [
       "<Figure size 640x480 with 9 Axes>"
      ]
     },
     "metadata": {},
     "output_type": "display_data"
    }
   ],
   "source": [
    "for i in range(0, 9):\n",
    "    plt.subplot(330 + (i+1))\n",
    "    plt.imshow(X_train[i], cmap=plt.get_cmap('gray'))"
   ]
  },
  {
   "cell_type": "markdown",
   "id": "467bfd91",
   "metadata": {
    "papermill": {
     "duration": 0.010168,
     "end_time": "2024-02-13T19:26:43.164927",
     "exception": false,
     "start_time": "2024-02-13T19:26:43.154759",
     "status": "completed"
    },
    "tags": []
   },
   "source": [
    "# Data Preprocessing\n",
    "\n",
    "In this case we will simply scale all our greyscale pixel values (0-255) to be between 0 and 1. We can do this by dividing each value in the training and testing sets by 255.0. We do this because smaller values will make it easier for the model to process our values."
   ]
  },
  {
   "cell_type": "code",
   "execution_count": 8,
   "id": "e250a8f0",
   "metadata": {
    "execution": {
     "iopub.execute_input": "2024-02-13T19:26:43.186552Z",
     "iopub.status.busy": "2024-02-13T19:26:43.186262Z",
     "iopub.status.idle": "2024-02-13T19:26:43.253925Z",
     "shell.execute_reply": "2024-02-13T19:26:43.252982Z"
    },
    "papermill": {
     "duration": 0.081268,
     "end_time": "2024-02-13T19:26:43.256352",
     "exception": false,
     "start_time": "2024-02-13T19:26:43.175084",
     "status": "completed"
    },
    "tags": []
   },
   "outputs": [],
   "source": [
    "X_train = X_train / 255.0\n",
    "X_test = X_test / 255.0"
   ]
  },
  {
   "cell_type": "markdown",
   "id": "e2315c6a",
   "metadata": {
    "papermill": {
     "duration": 0.010379,
     "end_time": "2024-02-13T19:26:43.277617",
     "exception": false,
     "start_time": "2024-02-13T19:26:43.267238",
     "status": "completed"
    },
    "tags": []
   },
   "source": [
    "# Split the data"
   ]
  },
  {
   "cell_type": "code",
   "execution_count": 9,
   "id": "3cf73641",
   "metadata": {
    "execution": {
     "iopub.execute_input": "2024-02-13T19:26:43.299438Z",
     "iopub.status.busy": "2024-02-13T19:26:43.299110Z",
     "iopub.status.idle": "2024-02-13T19:26:43.627070Z",
     "shell.execute_reply": "2024-02-13T19:26:43.626275Z"
    },
    "papermill": {
     "duration": 0.341601,
     "end_time": "2024-02-13T19:26:43.629442",
     "exception": false,
     "start_time": "2024-02-13T19:26:43.287841",
     "status": "completed"
    },
    "tags": []
   },
   "outputs": [],
   "source": [
    "X=X_train\n",
    "y=y_train\n",
    "X_train, X_val, y_train, y_val = train_test_split(X,y,test_size=0.10, random_state=0)"
   ]
  },
  {
   "cell_type": "markdown",
   "id": "d32ee2fb",
   "metadata": {
    "papermill": {
     "duration": 0.010072,
     "end_time": "2024-02-13T19:26:43.650129",
     "exception": false,
     "start_time": "2024-02-13T19:26:43.640057",
     "status": "completed"
    },
    "tags": []
   },
   "source": [
    "# CNN Architecture\n",
    "\n",
    "(This explanation is taken diretly from Machine Learning with Python course at https://www.freecodecamp.org/learn/machine-learning-with-python/tensorflow/)\n",
    "\n",
    "A common architecture for a CNN is a stack of Conv2D and MaxPooling2D layers followed by a few denesly connected layers. To idea is that the stack of convolutional and maxPooling layers extract the features from the image. Then these features are flattened and fed to densly connected layers that determine the class of an image based on the presence of features.\n",
    "\n",
    "We will start by building the **Convolutional Base**."
   ]
  },
  {
   "cell_type": "code",
   "execution_count": 10,
   "id": "2826e063",
   "metadata": {
    "execution": {
     "iopub.execute_input": "2024-02-13T19:26:43.671869Z",
     "iopub.status.busy": "2024-02-13T19:26:43.671575Z",
     "iopub.status.idle": "2024-02-13T19:26:44.436518Z",
     "shell.execute_reply": "2024-02-13T19:26:44.435703Z"
    },
    "papermill": {
     "duration": 0.778441,
     "end_time": "2024-02-13T19:26:44.438855",
     "exception": false,
     "start_time": "2024-02-13T19:26:43.660414",
     "status": "completed"
    },
    "tags": []
   },
   "outputs": [],
   "source": [
    "model = keras.models.Sequential()\n",
    "model.add(layers.Conv2D(32, (3, 3), activation='relu', input_shape=(28,28,1)))\n",
    "model.add(layers.MaxPooling2D((2, 2)))\n",
    "model.add(layers.Conv2D(64, (3, 3), activation='relu'))\n",
    "model.add(layers.MaxPooling2D((2, 2)))\n",
    "model.add(layers.Conv2D(64, (3, 3), activation='relu'))\n",
    "\n",
    "\n",
    "# # we'll use categorical xent for the loss, and RMSprop as the optimizer\n",
    "# model.compile(loss='categorical_crossentropy', optimizer='rmsprop', metrics=['accuracy'])"
   ]
  },
  {
   "cell_type": "markdown",
   "id": "f0ef1d88",
   "metadata": {
    "papermill": {
     "duration": 0.010523,
     "end_time": "2024-02-13T19:26:44.460192",
     "exception": false,
     "start_time": "2024-02-13T19:26:44.449669",
     "status": "completed"
    },
    "tags": []
   },
   "source": [
    "**Layer 1**\n",
    "\n",
    "The input shape of our data will be 28, 28 and we will process 32 filters of size 3x3 over our input data. We will also apply the activation function relu to the output of each convolution operation.\n",
    "\n",
    "**Layer 2**\n",
    "\n",
    "This layer will perform the max pooling operation using 2x2 samples and a stride of 2.\n",
    "\n",
    "**Other Layers**\n",
    "\n",
    "The next set of layers do very similar things but take as input the feature map from the previous layer. They also increase the frequency of filters from 32 to 64. We can do this as our data shrinks in spacial dimensions as it passed through the layers, meaning we can afford (computationally) to add more depth."
   ]
  },
  {
   "cell_type": "code",
   "execution_count": 11,
   "id": "a8da689b",
   "metadata": {
    "execution": {
     "iopub.execute_input": "2024-02-13T19:26:44.482379Z",
     "iopub.status.busy": "2024-02-13T19:26:44.482072Z",
     "iopub.status.idle": "2024-02-13T19:26:44.505799Z",
     "shell.execute_reply": "2024-02-13T19:26:44.504757Z"
    },
    "papermill": {
     "duration": 0.042266,
     "end_time": "2024-02-13T19:26:44.512800",
     "exception": false,
     "start_time": "2024-02-13T19:26:44.470534",
     "status": "completed"
    },
    "tags": []
   },
   "outputs": [
    {
     "name": "stdout",
     "output_type": "stream",
     "text": [
      "Model: \"sequential\"\n",
      "_________________________________________________________________\n",
      " Layer (type)                Output Shape              Param #   \n",
      "=================================================================\n",
      " conv2d (Conv2D)             (None, 26, 26, 32)        320       \n",
      "                                                                 \n",
      " max_pooling2d (MaxPooling2  (None, 13, 13, 32)        0         \n",
      " D)                                                              \n",
      "                                                                 \n",
      " conv2d_1 (Conv2D)           (None, 11, 11, 64)        18496     \n",
      "                                                                 \n",
      " max_pooling2d_1 (MaxPoolin  (None, 5, 5, 64)          0         \n",
      " g2D)                                                            \n",
      "                                                                 \n",
      " conv2d_2 (Conv2D)           (None, 3, 3, 64)          36928     \n",
      "                                                                 \n",
      "=================================================================\n",
      "Total params: 55744 (217.75 KB)\n",
      "Trainable params: 55744 (217.75 KB)\n",
      "Non-trainable params: 0 (0.00 Byte)\n",
      "_________________________________________________________________\n"
     ]
    }
   ],
   "source": [
    "model.summary() "
   ]
  },
  {
   "cell_type": "markdown",
   "id": "057bde17",
   "metadata": {
    "papermill": {
     "duration": 0.011673,
     "end_time": "2024-02-13T19:26:44.536544",
     "exception": false,
     "start_time": "2024-02-13T19:26:44.524871",
     "status": "completed"
    },
    "tags": []
   },
   "source": [
    "# Adding Dense Layers\n",
    "So far, we have just completed the **convolutional base**. Now we need to take these extracted features and add a way to classify them. This is why we add the following layers to our model.\n"
   ]
  },
  {
   "cell_type": "code",
   "execution_count": 12,
   "id": "70192935",
   "metadata": {
    "execution": {
     "iopub.execute_input": "2024-02-13T19:26:44.561406Z",
     "iopub.status.busy": "2024-02-13T19:26:44.561107Z",
     "iopub.status.idle": "2024-02-13T19:26:44.596904Z",
     "shell.execute_reply": "2024-02-13T19:26:44.596242Z"
    },
    "papermill": {
     "duration": 0.050396,
     "end_time": "2024-02-13T19:26:44.598802",
     "exception": false,
     "start_time": "2024-02-13T19:26:44.548406",
     "status": "completed"
    },
    "tags": []
   },
   "outputs": [],
   "source": [
    "model.add(layers.Flatten())\n",
    "model.add(layers.Dense(64, activation='relu'))\n",
    "model.add(layers.Dense(10, activation='softmax'))"
   ]
  },
  {
   "cell_type": "code",
   "execution_count": 13,
   "id": "57535046",
   "metadata": {
    "execution": {
     "iopub.execute_input": "2024-02-13T19:26:44.624096Z",
     "iopub.status.busy": "2024-02-13T19:26:44.623779Z",
     "iopub.status.idle": "2024-02-13T19:26:44.652183Z",
     "shell.execute_reply": "2024-02-13T19:26:44.651247Z"
    },
    "papermill": {
     "duration": 0.050066,
     "end_time": "2024-02-13T19:26:44.660761",
     "exception": false,
     "start_time": "2024-02-13T19:26:44.610695",
     "status": "completed"
    },
    "tags": []
   },
   "outputs": [
    {
     "name": "stdout",
     "output_type": "stream",
     "text": [
      "Model: \"sequential\"\n",
      "_________________________________________________________________\n",
      " Layer (type)                Output Shape              Param #   \n",
      "=================================================================\n",
      " conv2d (Conv2D)             (None, 26, 26, 32)        320       \n",
      "                                                                 \n",
      " max_pooling2d (MaxPooling2  (None, 13, 13, 32)        0         \n",
      " D)                                                              \n",
      "                                                                 \n",
      " conv2d_1 (Conv2D)           (None, 11, 11, 64)        18496     \n",
      "                                                                 \n",
      " max_pooling2d_1 (MaxPoolin  (None, 5, 5, 64)          0         \n",
      " g2D)                                                            \n",
      "                                                                 \n",
      " conv2d_2 (Conv2D)           (None, 3, 3, 64)          36928     \n",
      "                                                                 \n",
      " flatten (Flatten)           (None, 576)               0         \n",
      "                                                                 \n",
      " dense (Dense)               (None, 64)                36928     \n",
      "                                                                 \n",
      " dense_1 (Dense)             (None, 10)                650       \n",
      "                                                                 \n",
      "=================================================================\n",
      "Total params: 93322 (364.54 KB)\n",
      "Trainable params: 93322 (364.54 KB)\n",
      "Non-trainable params: 0 (0.00 Byte)\n",
      "_________________________________________________________________\n"
     ]
    }
   ],
   "source": [
    "model.summary()"
   ]
  },
  {
   "cell_type": "markdown",
   "id": "490d6790",
   "metadata": {
    "papermill": {
     "duration": 0.01363,
     "end_time": "2024-02-13T19:26:44.688513",
     "exception": false,
     "start_time": "2024-02-13T19:26:44.674883",
     "status": "completed"
    },
    "tags": []
   },
   "source": [
    "We can see that the flatten layer changes the shape of our data so that we can feed it to the 64-node dense layer, follwed by the final output layer of 10 neurons (one for each class).\n"
   ]
  },
  {
   "cell_type": "markdown",
   "id": "a3d9466c",
   "metadata": {
    "papermill": {
     "duration": 0.013758,
     "end_time": "2024-02-13T19:26:44.716358",
     "exception": false,
     "start_time": "2024-02-13T19:26:44.702600",
     "status": "completed"
    },
    "tags": []
   },
   "source": [
    "# Compiling the Model.  \n",
    "\n",
    "Here are some reasons why you might choose the given model configuration:\n",
    "\n",
    "**Adam Optimizer:**\n",
    "\n",
    "* Adam is an adaptive learning rate optimization algorithm that combines the advantages of both AdaGrad and RMSProp.\n",
    "* It is well-suited for a wide range of deep learning tasks and often converges faster than other optimization algorithms.\n",
    "* Adam adjusts the learning rates of each parameter dynamically during training, which can lead to more efficient convergence and better generalization.\n",
    "\n",
    "**Categorical Crossentropy Loss with logits:**\n",
    "\n",
    "* Categorical Crossentropy loss is suitable for multi-class classification tasks where each instance can belong to one class out of several mutually exclusive classes.\n",
    "* Using logits allows the model to output raw predictions before applying the softmax activation function. This can be useful if you want to apply additional customizations or if the model's output is already in the logit form.\n",
    "* Categorical Crossentropy loss is commonly used in conjunction with softmax activation for the output layer to measure the discrepancy between the predicted probability distribution and the true distribution of classes.\n",
    "\n",
    "**Accuracy Metric:**\n",
    "\n",
    "* Accuracy is a commonly used metric for classification tasks, providing the ratio of correctly predicted instances to the total number of instances.\n",
    "* It offers a straightforward interpretation of the model's performance in terms of correct classifications and is easy to understand and communicate.\n",
    "\n",
    "**Flexibility and Customization:**\n",
    "\n",
    "* By setting from_logits=True, you have the flexibility to work with raw logits instead of probabilities, allowing for more advanced customization or manipulation of model outputs.\n",
    "* This flexibility can be particularly useful in scenarios where post-processing steps are required or when integrating the model into more complex architectures.\n",
    "\n",
    "**Robustness and Stability:**\n",
    "\n",
    "* The Adam optimizer is known for its robustness and stability, making it less sensitive to the choice of hyperparameters compared to some other optimization algorithms.\n",
    "* It tends to perform well across a wide range of tasks and datasets, making it a popular choice for many deep learning practitioners.\n",
    "\n",
    "Overall, this model configuration offers a combination of optimization algorithm, loss function, and evaluation metric suitable for multi-class classification tasks, with considerations for efficiency, flexibility, and robustness in training deep neural networks.\n",
    "\n",
    "\"List reasons to use this model: model.compile(optimizer='adam', loss=tf.keras.losses.CategoricalCrossentropy(from_logits=True), metrics=['accuracy'])\" prompt. ChatGPT, 3.5, OpenAI, 13 Feb. 2024. https://chat.openai.com."
   ]
  },
  {
   "cell_type": "code",
   "execution_count": 14,
   "id": "e64f69fa",
   "metadata": {
    "execution": {
     "iopub.execute_input": "2024-02-13T19:26:44.745545Z",
     "iopub.status.busy": "2024-02-13T19:26:44.744864Z",
     "iopub.status.idle": "2024-02-13T19:26:44.763457Z",
     "shell.execute_reply": "2024-02-13T19:26:44.762685Z"
    },
    "papermill": {
     "duration": 0.035305,
     "end_time": "2024-02-13T19:26:44.765480",
     "exception": false,
     "start_time": "2024-02-13T19:26:44.730175",
     "status": "completed"
    },
    "tags": []
   },
   "outputs": [],
   "source": [
    "model.compile(optimizer='adam',\n",
    "              loss=tf.keras.losses.CategoricalCrossentropy(),\n",
    "              metrics=['accuracy'])"
   ]
  },
  {
   "cell_type": "code",
   "execution_count": 15,
   "id": "f751b0c5",
   "metadata": {
    "execution": {
     "iopub.execute_input": "2024-02-13T19:26:44.795088Z",
     "iopub.status.busy": "2024-02-13T19:26:44.794821Z",
     "iopub.status.idle": "2024-02-13T19:27:16.072326Z",
     "shell.execute_reply": "2024-02-13T19:27:16.071533Z"
    },
    "papermill": {
     "duration": 31.294758,
     "end_time": "2024-02-13T19:27:16.074303",
     "exception": false,
     "start_time": "2024-02-13T19:26:44.779545",
     "status": "completed"
    },
    "tags": []
   },
   "outputs": [
    {
     "name": "stdout",
     "output_type": "stream",
     "text": [
      "Epoch 1/6\n"
     ]
    },
    {
     "name": "stderr",
     "output_type": "stream",
     "text": [
      "WARNING: All log messages before absl::InitializeLog() is called are written to STDERR\n",
      "I0000 00:00:1707852407.617070      66 device_compiler.h:186] Compiled cluster using XLA!  This line is logged at most once for the lifetime of the process.\n"
     ]
    },
    {
     "name": "stdout",
     "output_type": "stream",
     "text": [
      "1182/1182 [==============================] - 9s 4ms/step - loss: 0.1813 - accuracy: 0.9440 - val_loss: 0.0683 - val_accuracy: 0.9790\n",
      "Epoch 2/6\n",
      "1182/1182 [==============================] - 5s 4ms/step - loss: 0.0565 - accuracy: 0.9826 - val_loss: 0.0594 - val_accuracy: 0.9805\n",
      "Epoch 3/6\n",
      "1182/1182 [==============================] - 4s 4ms/step - loss: 0.0385 - accuracy: 0.9879 - val_loss: 0.0390 - val_accuracy: 0.9871\n",
      "Epoch 4/6\n",
      "1182/1182 [==============================] - 4s 4ms/step - loss: 0.0303 - accuracy: 0.9901 - val_loss: 0.0384 - val_accuracy: 0.9881\n",
      "Epoch 5/6\n",
      "1182/1182 [==============================] - 4s 4ms/step - loss: 0.0244 - accuracy: 0.9915 - val_loss: 0.0384 - val_accuracy: 0.9881\n",
      "Epoch 6/6\n",
      "1182/1182 [==============================] - 4s 4ms/step - loss: 0.0181 - accuracy: 0.9940 - val_loss: 0.0362 - val_accuracy: 0.9886\n"
     ]
    }
   ],
   "source": [
    "history = model.fit(\n",
    "    X_train, y_train,\n",
    "    validation_data=(X_val,y_val),\n",
    "    epochs=6)"
   ]
  },
  {
   "cell_type": "code",
   "execution_count": 16,
   "id": "32c4db4f",
   "metadata": {
    "execution": {
     "iopub.execute_input": "2024-02-13T19:27:16.197085Z",
     "iopub.status.busy": "2024-02-13T19:27:16.196596Z",
     "iopub.status.idle": "2024-02-13T19:27:16.452063Z",
     "shell.execute_reply": "2024-02-13T19:27:16.451246Z"
    },
    "papermill": {
     "duration": 0.312021,
     "end_time": "2024-02-13T19:27:16.453956",
     "exception": false,
     "start_time": "2024-02-13T19:27:16.141935",
     "status": "completed"
    },
    "tags": []
   },
   "outputs": [
    {
     "name": "stdout",
     "output_type": "stream",
     "text": [
      "                  Minimum validation loss: 0.03620140254497528\n",
      "                   Ending validation loss: 0.03620140254497528\n"
     ]
    },
    {
     "data": {
      "image/png": "[encoded data removed]",
      "text/plain": [
       "<Figure size 640x480 with 1 Axes>"
      ]
     },
     "metadata": {},
     "output_type": "display_data"
    }
   ],
   "source": [
    "history_df = pd.DataFrame(history.history)\n",
    "history_df.loc[:, ['loss', 'val_loss']].plot();\n",
    "min_val_loss = history_df['val_loss'].min()\n",
    "ending_val_loss = history_df['val_loss'].iloc[-1]  # Fetching the last val_loss value\n",
    "print(\"                  Minimum validation loss: {}\".format(min_val_loss))\n",
    "print(\"                   Ending validation loss: {}\".format(ending_val_loss))"
   ]
  },
  {
   "cell_type": "markdown",
   "id": "8217a9b2",
   "metadata": {
    "papermill": {
     "duration": 0.052969,
     "end_time": "2024-02-13T19:27:16.560949",
     "exception": false,
     "start_time": "2024-02-13T19:27:16.507980",
     "status": "completed"
    },
    "tags": []
   },
   "source": [
    "# Making Predictions\n",
    "To make predictions we simply need to pass an array of data in the form we've specified in the input layer to ```.predict()``` method."
   ]
  },
  {
   "cell_type": "code",
   "execution_count": 17,
   "id": "ee853600",
   "metadata": {
    "execution": {
     "iopub.execute_input": "2024-02-13T19:27:16.709791Z",
     "iopub.status.busy": "2024-02-13T19:27:16.709146Z",
     "iopub.status.idle": "2024-02-13T19:27:17.166776Z",
     "shell.execute_reply": "2024-02-13T19:27:17.165895Z"
    },
    "papermill": {
     "duration": 0.514205,
     "end_time": "2024-02-13T19:27:17.168788",
     "exception": false,
     "start_time": "2024-02-13T19:27:16.654583",
     "status": "completed"
    },
    "tags": []
   },
   "outputs": [
    {
     "name": "stdout",
     "output_type": "stream",
     "text": [
      "132/132 [==============================] - 0s 2ms/step\n"
     ]
    }
   ],
   "source": [
    "predictions = model.predict(X_val)"
   ]
  },
  {
   "cell_type": "markdown",
   "id": "eb9d23ae",
   "metadata": {
    "papermill": {
     "duration": 0.053859,
     "end_time": "2024-02-13T19:27:17.277011",
     "exception": false,
     "start_time": "2024-02-13T19:27:17.223152",
     "status": "completed"
    },
    "tags": []
   },
   "source": [
    "# Verifying predcitions\n",
    "\n",
    "The following script had to be commented out since no user input is permitted for Kaggle's submissions.\n",
    "Uncomment to input a item number and see an image of the data for that item , the model's prediction, and the actual value."
   ]
  },
  {
   "cell_type": "code",
   "execution_count": 18,
   "id": "57a4d2dc",
   "metadata": {
    "collapsed": true,
    "execution": {
     "iopub.execute_input": "2024-02-13T19:27:17.387298Z",
     "iopub.status.busy": "2024-02-13T19:27:17.386872Z",
     "iopub.status.idle": "2024-02-13T19:27:17.391537Z",
     "shell.execute_reply": "2024-02-13T19:27:17.390669Z"
    },
    "jupyter": {
     "outputs_hidden": true,
     "source_hidden": true
    },
    "papermill": {
     "duration": 0.061453,
     "end_time": "2024-02-13T19:27:17.393391",
     "exception": false,
     "start_time": "2024-02-13T19:27:17.331938",
     "status": "completed"
    },
    "tags": []
   },
   "outputs": [],
   "source": [
    "# def show_image(img):\n",
    "#   plt.figure()\n",
    "#   plt.imshow(img, cmap=plt.cm.binary)\n",
    "#   plt.grid(False)\n",
    "#   plt.show()\n",
    "  \n",
    "# def get_number():\n",
    "#   while True:\n",
    "#     num = input(\"Pick a number: \")\n",
    "#     if num.isdigit():\n",
    "#       num = int(num)\n",
    "#       if 0 <= num < 4200:\n",
    "#         return int(num)\n",
    "#       else:\n",
    "#         print(\"Try again...\")\n",
    "#     else:\n",
    "#         print(\"Try again...\")\n",
    "\n",
    "# num = get_number()\n",
    "# show_image(X_val[num])\n",
    "# print('Predicated value: ', np.argmax(predictions[num]))\n",
    "# print('Actual number: ', list(y_val[num]).index(1))"
   ]
  },
  {
   "cell_type": "markdown",
   "id": "5f7dc95c",
   "metadata": {
    "papermill": {
     "duration": 0.053469,
     "end_time": "2024-02-13T19:27:17.500576",
     "exception": false,
     "start_time": "2024-02-13T19:27:17.447107",
     "status": "completed"
    },
    "tags": []
   },
   "source": [
    "# A sample output of the previous script:"
   ]
  },
  {
   "attachments": {
    "14370fb3-0154-4a77-a5ff-d60a2ac156cb.png": {
     "image/png": "[encoded data removed]"
    }
   },
   "cell_type": "markdown",
   "id": "be8a53a5",
   "metadata": {
    "papermill": {
     "duration": 0.054338,
     "end_time": "2024-02-13T19:27:17.608300",
     "exception": false,
     "start_time": "2024-02-13T19:27:17.553962",
     "status": "completed"
    },
    "tags": []
   },
   "source": [
    "![Screenshot 2024-02-11 131832.png](attachment:14370fb3-0154-4a77-a5ff-d60a2ac156cb.png)"
   ]
  },
  {
   "cell_type": "code",
   "execution_count": 19,
   "id": "d7d3e316",
   "metadata": {
    "execution": {
     "iopub.execute_input": "2024-02-13T19:27:17.717701Z",
     "iopub.status.busy": "2024-02-13T19:27:17.717072Z",
     "iopub.status.idle": "2024-02-13T19:27:19.865970Z",
     "shell.execute_reply": "2024-02-13T19:27:19.865013Z"
    },
    "papermill": {
     "duration": 2.206651,
     "end_time": "2024-02-13T19:27:19.868388",
     "exception": false,
     "start_time": "2024-02-13T19:27:17.661737",
     "status": "completed"
    },
    "tags": []
   },
   "outputs": [
    {
     "name": "stdout",
     "output_type": "stream",
     "text": [
      "875/875 [==============================] - 1s 2ms/step\n"
     ]
    },
    {
     "data": {
      "text/plain": [
       "(28000, 28, 28, 1)"
      ]
     },
     "execution_count": 19,
     "metadata": {},
     "output_type": "execute_result"
    }
   ],
   "source": [
    "predictions = model.predict(X_test)\n",
    "X_test.shape"
   ]
  },
  {
   "cell_type": "code",
   "execution_count": 20,
   "id": "0b53f4ac",
   "metadata": {
    "execution": {
     "iopub.execute_input": "2024-02-13T19:27:19.983930Z",
     "iopub.status.busy": "2024-02-13T19:27:19.983144Z",
     "iopub.status.idle": "2024-02-13T19:27:19.988773Z",
     "shell.execute_reply": "2024-02-13T19:27:19.988058Z"
    },
    "papermill": {
     "duration": 0.06511,
     "end_time": "2024-02-13T19:27:19.990723",
     "exception": false,
     "start_time": "2024-02-13T19:27:19.925613",
     "status": "completed"
    },
    "tags": []
   },
   "outputs": [],
   "source": [
    "predictions = np.argmax(predictions, axis = 1)\n",
    "predictions = pd.Series(predictions,name = \"Label\")"
   ]
  },
  {
   "cell_type": "code",
   "execution_count": 21,
   "id": "881b1604",
   "metadata": {
    "execution": {
     "iopub.execute_input": "2024-02-13T19:27:20.106437Z",
     "iopub.status.busy": "2024-02-13T19:27:20.105842Z",
     "iopub.status.idle": "2024-02-13T19:27:20.145437Z",
     "shell.execute_reply": "2024-02-13T19:27:20.144739Z"
    },
    "papermill": {
     "duration": 0.099238,
     "end_time": "2024-02-13T19:27:20.147387",
     "exception": false,
     "start_time": "2024-02-13T19:27:20.048149",
     "status": "completed"
    },
    "tags": []
   },
   "outputs": [],
   "source": [
    "submission = pd.concat([pd.Series(range(1,28001), name = \"ImageId\"),predictions],axis = 1)\n",
    "submission.to_csv(\"DR.csv\", index = False)"
   ]
  }
 ],
 "metadata": {
  "kaggle": {
   "accelerator": "gpu",
   "dataSources": [
    {
     "databundleVersionId": 861823,
     "sourceId": 3004,
     "sourceType": "competition"
    }
   ],
   "dockerImageVersionId": 30646,
   "isGpuEnabled": true,
   "isInternetEnabled": true,
   "language": "python",
   "sourceType": "notebook"
  },
  "kernelspec": {
   "display_name": "Python 3",
   "language": "python",
   "name": "python3"
  },
  "language_info": {
   "codemirror_mode": {
    "name": "ipython",
    "version": 3
   },
   "file_extension": ".py",
   "mimetype": "text/x-python",
   "name": "python",
   "nbconvert_exporter": "python",
   "pygments_lexer": "ipython3",
   "version": "3.10.13"
  },
  "papermill": {
   "default_parameters": {},
   "duration": 64.207877,
   "end_time": "2024-02-13T19:27:23.066864",
   "environment_variables": {},
   "exception": null,
   "input_path": "__notebook__.ipynb",
   "output_path": "__notebook__.ipynb",
   "parameters": {},
   "start_time": "2024-02-13T19:26:18.858987",
   "version": "2.5.0"
  }
 },
 "nbformat": 4,
 "nbformat_minor": 5
}
