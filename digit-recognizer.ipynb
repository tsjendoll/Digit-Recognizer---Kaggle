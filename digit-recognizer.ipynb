{
 "cells": [
  {
   "cell_type": "code",
   "execution_count": 1,
   "id": "8418d0fb",
   "metadata": {
    "_cell_guid": "b1076dfc-b9ad-4769-8c92-a6c4dae69d19",
    "_uuid": "8f2839f25d086af736a60e9eeb907d3b93b6e0e5",
    "execution": {
     "iopub.execute_input": "2024-02-11T19:49:56.851135Z",
     "iopub.status.busy": "2024-02-11T19:49:56.850706Z",
     "iopub.status.idle": "2024-02-11T19:50:13.190933Z",
     "shell.execute_reply": "2024-02-11T19:50:13.189691Z"
    },
    "papermill": {
     "duration": 16.349716,
     "end_time": "2024-02-11T19:50:13.193507",
     "exception": false,
     "start_time": "2024-02-11T19:49:56.843791",
     "status": "completed"
    },
    "tags": []
   },
   "outputs": [
    {
     "name": "stderr",
     "output_type": "stream",
     "text": [
      "2024-02-11 19:49:59.699013: E external/local_xla/xla/stream_executor/cuda/cuda_dnn.cc:9261] Unable to register cuDNN factory: Attempting to register factory for plugin cuDNN when one has already been registered\n",
      "2024-02-11 19:49:59.699145: E external/local_xla/xla/stream_executor/cuda/cuda_fft.cc:607] Unable to register cuFFT factory: Attempting to register factory for plugin cuFFT when one has already been registered\n",
      "2024-02-11 19:49:59.857532: E external/local_xla/xla/stream_executor/cuda/cuda_blas.cc:1515] Unable to register cuBLAS factory: Attempting to register factory for plugin cuBLAS when one has already been registered\n"
     ]
    },
    {
     "name": "stdout",
     "output_type": "stream",
     "text": [
      "/kaggle/input/digit-recognizer/sample_submission.csv\n",
      "/kaggle/input/digit-recognizer/train.csv\n",
      "/kaggle/input/digit-recognizer/test.csv\n"
     ]
    }
   ],
   "source": [
    "# This Python 3 environment comes with many helpful analytics libraries installed\n",
    "# It is defined by the kaggle/python Docker image: https://github.com/kaggle/docker-python\n",
    "# For example, here's several helpful packages to load\n",
    "\n",
    "import numpy as np # linear algebra\n",
    "import pandas as pd # data processing, CSV file I/O (e.g. pd.read_csv)\n",
    "import tensorflow as tf\n",
    "from tensorflow import keras\n",
    "from sklearn.preprocessing import StandardScaler, OneHotEncoder\n",
    "from sklearn.compose import make_column_transformer\n",
    "from sklearn.model_selection import train_test_split\n",
    "from tensorflow.keras import layers\n",
    "import matplotlib.pyplot as plt\n",
    "\n",
    "# Input data files are available in the read-only \"../input/\" directory\n",
    "# For example, running this (by clicking run or pressing Shift+Enter) will list all files under the input directory\n",
    "\n",
    "import os\n",
    "for dirname, _, filenames in os.walk('/kaggle/input'):\n",
    "    for filename in filenames:\n",
    "        print(os.path.join(dirname, filename))\n",
    "    \n",
    "# You can write up to 20GB to the current directory (/kaggle/working/) that gets preserved as output when you create a version using \"Save & Run All\" \n",
    "# You can also write temporary files to /kaggle/temp/, but they won't be saved outside of the current session"
   ]
  },
  {
   "cell_type": "code",
   "execution_count": 2,
   "id": "3814b408",
   "metadata": {
    "execution": {
     "iopub.execute_input": "2024-02-11T19:50:13.204869Z",
     "iopub.status.busy": "2024-02-11T19:50:13.204173Z",
     "iopub.status.idle": "2024-02-11T19:50:16.626772Z",
     "shell.execute_reply": "2024-02-11T19:50:16.625666Z"
    },
    "papermill": {
     "duration": 3.431104,
     "end_time": "2024-02-11T19:50:16.629438",
     "exception": false,
     "start_time": "2024-02-11T19:50:13.198334",
     "status": "completed"
    },
    "tags": []
   },
   "outputs": [
    {
     "name": "stdout",
     "output_type": "stream",
     "text": [
      "(42000, 785)\n"
     ]
    },
    {
     "data": {
      "text/html": [
       "<div>\n",
       "<style scoped>\n",
       "    .dataframe tbody tr th:only-of-type {\n",
       "        vertical-align: middle;\n",
       "    }\n",
       "\n",
       "    .dataframe tbody tr th {\n",
       "        vertical-align: top;\n",
       "    }\n",
       "\n",
       "    .dataframe thead th {\n",
       "        text-align: right;\n",
       "    }\n",
       "</style>\n",
       "<table border=\"1\" class=\"dataframe\">\n",
       "  <thead>\n",
       "    <tr style=\"text-align: right;\">\n",
       "      <th></th>\n",
       "      <th>label</th>\n",
       "      <th>pixel0</th>\n",
       "      <th>pixel1</th>\n",
       "      <th>pixel2</th>\n",
       "      <th>pixel3</th>\n",
       "      <th>pixel4</th>\n",
       "      <th>pixel5</th>\n",
       "      <th>pixel6</th>\n",
       "      <th>pixel7</th>\n",
       "      <th>pixel8</th>\n",
       "      <th>...</th>\n",
       "      <th>pixel774</th>\n",
       "      <th>pixel775</th>\n",
       "      <th>pixel776</th>\n",
       "      <th>pixel777</th>\n",
       "      <th>pixel778</th>\n",
       "      <th>pixel779</th>\n",
       "      <th>pixel780</th>\n",
       "      <th>pixel781</th>\n",
       "      <th>pixel782</th>\n",
       "      <th>pixel783</th>\n",
       "    </tr>\n",
       "  </thead>\n",
       "  <tbody>\n",
       "    <tr>\n",
       "      <th>0</th>\n",
       "      <td>1</td>\n",
       "      <td>0</td>\n",
       "      <td>0</td>\n",
       "      <td>0</td>\n",
       "      <td>0</td>\n",
       "      <td>0</td>\n",
       "      <td>0</td>\n",
       "      <td>0</td>\n",
       "      <td>0</td>\n",
       "      <td>0</td>\n",
       "      <td>...</td>\n",
       "      <td>0</td>\n",
       "      <td>0</td>\n",
       "      <td>0</td>\n",
       "      <td>0</td>\n",
       "      <td>0</td>\n",
       "      <td>0</td>\n",
       "      <td>0</td>\n",
       "      <td>0</td>\n",
       "      <td>0</td>\n",
       "      <td>0</td>\n",
       "    </tr>\n",
       "    <tr>\n",
       "      <th>1</th>\n",
       "      <td>0</td>\n",
       "      <td>0</td>\n",
       "      <td>0</td>\n",
       "      <td>0</td>\n",
       "      <td>0</td>\n",
       "      <td>0</td>\n",
       "      <td>0</td>\n",
       "      <td>0</td>\n",
       "      <td>0</td>\n",
       "      <td>0</td>\n",
       "      <td>...</td>\n",
       "      <td>0</td>\n",
       "      <td>0</td>\n",
       "      <td>0</td>\n",
       "      <td>0</td>\n",
       "      <td>0</td>\n",
       "      <td>0</td>\n",
       "      <td>0</td>\n",
       "      <td>0</td>\n",
       "      <td>0</td>\n",
       "      <td>0</td>\n",
       "    </tr>\n",
       "    <tr>\n",
       "      <th>2</th>\n",
       "      <td>1</td>\n",
       "      <td>0</td>\n",
       "      <td>0</td>\n",
       "      <td>0</td>\n",
       "      <td>0</td>\n",
       "      <td>0</td>\n",
       "      <td>0</td>\n",
       "      <td>0</td>\n",
       "      <td>0</td>\n",
       "      <td>0</td>\n",
       "      <td>...</td>\n",
       "      <td>0</td>\n",
       "      <td>0</td>\n",
       "      <td>0</td>\n",
       "      <td>0</td>\n",
       "      <td>0</td>\n",
       "      <td>0</td>\n",
       "      <td>0</td>\n",
       "      <td>0</td>\n",
       "      <td>0</td>\n",
       "      <td>0</td>\n",
       "    </tr>\n",
       "    <tr>\n",
       "      <th>3</th>\n",
       "      <td>4</td>\n",
       "      <td>0</td>\n",
       "      <td>0</td>\n",
       "      <td>0</td>\n",
       "      <td>0</td>\n",
       "      <td>0</td>\n",
       "      <td>0</td>\n",
       "      <td>0</td>\n",
       "      <td>0</td>\n",
       "      <td>0</td>\n",
       "      <td>...</td>\n",
       "      <td>0</td>\n",
       "      <td>0</td>\n",
       "      <td>0</td>\n",
       "      <td>0</td>\n",
       "      <td>0</td>\n",
       "      <td>0</td>\n",
       "      <td>0</td>\n",
       "      <td>0</td>\n",
       "      <td>0</td>\n",
       "      <td>0</td>\n",
       "    </tr>\n",
       "    <tr>\n",
       "      <th>4</th>\n",
       "      <td>0</td>\n",
       "      <td>0</td>\n",
       "      <td>0</td>\n",
       "      <td>0</td>\n",
       "      <td>0</td>\n",
       "      <td>0</td>\n",
       "      <td>0</td>\n",
       "      <td>0</td>\n",
       "      <td>0</td>\n",
       "      <td>0</td>\n",
       "      <td>...</td>\n",
       "      <td>0</td>\n",
       "      <td>0</td>\n",
       "      <td>0</td>\n",
       "      <td>0</td>\n",
       "      <td>0</td>\n",
       "      <td>0</td>\n",
       "      <td>0</td>\n",
       "      <td>0</td>\n",
       "      <td>0</td>\n",
       "      <td>0</td>\n",
       "    </tr>\n",
       "  </tbody>\n",
       "</table>\n",
       "<p>5 rows × 785 columns</p>\n",
       "</div>"
      ],
      "text/plain": [
       "   label  pixel0  pixel1  pixel2  pixel3  pixel4  pixel5  pixel6  pixel7  \\\n",
       "0      1       0       0       0       0       0       0       0       0   \n",
       "1      0       0       0       0       0       0       0       0       0   \n",
       "2      1       0       0       0       0       0       0       0       0   \n",
       "3      4       0       0       0       0       0       0       0       0   \n",
       "4      0       0       0       0       0       0       0       0       0   \n",
       "\n",
       "   pixel8  ...  pixel774  pixel775  pixel776  pixel777  pixel778  pixel779  \\\n",
       "0       0  ...         0         0         0         0         0         0   \n",
       "1       0  ...         0         0         0         0         0         0   \n",
       "2       0  ...         0         0         0         0         0         0   \n",
       "3       0  ...         0         0         0         0         0         0   \n",
       "4       0  ...         0         0         0         0         0         0   \n",
       "\n",
       "   pixel780  pixel781  pixel782  pixel783  \n",
       "0         0         0         0         0  \n",
       "1         0         0         0         0  \n",
       "2         0         0         0         0  \n",
       "3         0         0         0         0  \n",
       "4         0         0         0         0  \n",
       "\n",
       "[5 rows x 785 columns]"
      ]
     },
     "execution_count": 2,
     "metadata": {},
     "output_type": "execute_result"
    }
   ],
   "source": [
    "train_data = pd.read_csv(\"/kaggle/input/digit-recognizer/train.csv\")\n",
    "print(train_data.shape)\n",
    "train_data.head()"
   ]
  },
  {
   "cell_type": "code",
   "execution_count": 3,
   "id": "96c8b088",
   "metadata": {
    "execution": {
     "iopub.execute_input": "2024-02-11T19:50:16.643184Z",
     "iopub.status.busy": "2024-02-11T19:50:16.642539Z",
     "iopub.status.idle": "2024-02-11T19:50:18.659166Z",
     "shell.execute_reply": "2024-02-11T19:50:18.658030Z"
    },
    "papermill": {
     "duration": 2.027178,
     "end_time": "2024-02-11T19:50:18.661793",
     "exception": false,
     "start_time": "2024-02-11T19:50:16.634615",
     "status": "completed"
    },
    "tags": []
   },
   "outputs": [
    {
     "name": "stdout",
     "output_type": "stream",
     "text": [
      "(28000, 784)\n"
     ]
    },
    {
     "data": {
      "text/html": [
       "<div>\n",
       "<style scoped>\n",
       "    .dataframe tbody tr th:only-of-type {\n",
       "        vertical-align: middle;\n",
       "    }\n",
       "\n",
       "    .dataframe tbody tr th {\n",
       "        vertical-align: top;\n",
       "    }\n",
       "\n",
       "    .dataframe thead th {\n",
       "        text-align: right;\n",
       "    }\n",
       "</style>\n",
       "<table border=\"1\" class=\"dataframe\">\n",
       "  <thead>\n",
       "    <tr style=\"text-align: right;\">\n",
       "      <th></th>\n",
       "      <th>pixel0</th>\n",
       "      <th>pixel1</th>\n",
       "      <th>pixel2</th>\n",
       "      <th>pixel3</th>\n",
       "      <th>pixel4</th>\n",
       "      <th>pixel5</th>\n",
       "      <th>pixel6</th>\n",
       "      <th>pixel7</th>\n",
       "      <th>pixel8</th>\n",
       "      <th>pixel9</th>\n",
       "      <th>...</th>\n",
       "      <th>pixel774</th>\n",
       "      <th>pixel775</th>\n",
       "      <th>pixel776</th>\n",
       "      <th>pixel777</th>\n",
       "      <th>pixel778</th>\n",
       "      <th>pixel779</th>\n",
       "      <th>pixel780</th>\n",
       "      <th>pixel781</th>\n",
       "      <th>pixel782</th>\n",
       "      <th>pixel783</th>\n",
       "    </tr>\n",
       "  </thead>\n",
       "  <tbody>\n",
       "    <tr>\n",
       "      <th>0</th>\n",
       "      <td>0</td>\n",
       "      <td>0</td>\n",
       "      <td>0</td>\n",
       "      <td>0</td>\n",
       "      <td>0</td>\n",
       "      <td>0</td>\n",
       "      <td>0</td>\n",
       "      <td>0</td>\n",
       "      <td>0</td>\n",
       "      <td>0</td>\n",
       "      <td>...</td>\n",
       "      <td>0</td>\n",
       "      <td>0</td>\n",
       "      <td>0</td>\n",
       "      <td>0</td>\n",
       "      <td>0</td>\n",
       "      <td>0</td>\n",
       "      <td>0</td>\n",
       "      <td>0</td>\n",
       "      <td>0</td>\n",
       "      <td>0</td>\n",
       "    </tr>\n",
       "    <tr>\n",
       "      <th>1</th>\n",
       "      <td>0</td>\n",
       "      <td>0</td>\n",
       "      <td>0</td>\n",
       "      <td>0</td>\n",
       "      <td>0</td>\n",
       "      <td>0</td>\n",
       "      <td>0</td>\n",
       "      <td>0</td>\n",
       "      <td>0</td>\n",
       "      <td>0</td>\n",
       "      <td>...</td>\n",
       "      <td>0</td>\n",
       "      <td>0</td>\n",
       "      <td>0</td>\n",
       "      <td>0</td>\n",
       "      <td>0</td>\n",
       "      <td>0</td>\n",
       "      <td>0</td>\n",
       "      <td>0</td>\n",
       "      <td>0</td>\n",
       "      <td>0</td>\n",
       "    </tr>\n",
       "    <tr>\n",
       "      <th>2</th>\n",
       "      <td>0</td>\n",
       "      <td>0</td>\n",
       "      <td>0</td>\n",
       "      <td>0</td>\n",
       "      <td>0</td>\n",
       "      <td>0</td>\n",
       "      <td>0</td>\n",
       "      <td>0</td>\n",
       "      <td>0</td>\n",
       "      <td>0</td>\n",
       "      <td>...</td>\n",
       "      <td>0</td>\n",
       "      <td>0</td>\n",
       "      <td>0</td>\n",
       "      <td>0</td>\n",
       "      <td>0</td>\n",
       "      <td>0</td>\n",
       "      <td>0</td>\n",
       "      <td>0</td>\n",
       "      <td>0</td>\n",
       "      <td>0</td>\n",
       "    </tr>\n",
       "    <tr>\n",
       "      <th>3</th>\n",
       "      <td>0</td>\n",
       "      <td>0</td>\n",
       "      <td>0</td>\n",
       "      <td>0</td>\n",
       "      <td>0</td>\n",
       "      <td>0</td>\n",
       "      <td>0</td>\n",
       "      <td>0</td>\n",
       "      <td>0</td>\n",
       "      <td>0</td>\n",
       "      <td>...</td>\n",
       "      <td>0</td>\n",
       "      <td>0</td>\n",
       "      <td>0</td>\n",
       "      <td>0</td>\n",
       "      <td>0</td>\n",
       "      <td>0</td>\n",
       "      <td>0</td>\n",
       "      <td>0</td>\n",
       "      <td>0</td>\n",
       "      <td>0</td>\n",
       "    </tr>\n",
       "    <tr>\n",
       "      <th>4</th>\n",
       "      <td>0</td>\n",
       "      <td>0</td>\n",
       "      <td>0</td>\n",
       "      <td>0</td>\n",
       "      <td>0</td>\n",
       "      <td>0</td>\n",
       "      <td>0</td>\n",
       "      <td>0</td>\n",
       "      <td>0</td>\n",
       "      <td>0</td>\n",
       "      <td>...</td>\n",
       "      <td>0</td>\n",
       "      <td>0</td>\n",
       "      <td>0</td>\n",
       "      <td>0</td>\n",
       "      <td>0</td>\n",
       "      <td>0</td>\n",
       "      <td>0</td>\n",
       "      <td>0</td>\n",
       "      <td>0</td>\n",
       "      <td>0</td>\n",
       "    </tr>\n",
       "  </tbody>\n",
       "</table>\n",
       "<p>5 rows × 784 columns</p>\n",
       "</div>"
      ],
      "text/plain": [
       "   pixel0  pixel1  pixel2  pixel3  pixel4  pixel5  pixel6  pixel7  pixel8  \\\n",
       "0       0       0       0       0       0       0       0       0       0   \n",
       "1       0       0       0       0       0       0       0       0       0   \n",
       "2       0       0       0       0       0       0       0       0       0   \n",
       "3       0       0       0       0       0       0       0       0       0   \n",
       "4       0       0       0       0       0       0       0       0       0   \n",
       "\n",
       "   pixel9  ...  pixel774  pixel775  pixel776  pixel777  pixel778  pixel779  \\\n",
       "0       0  ...         0         0         0         0         0         0   \n",
       "1       0  ...         0         0         0         0         0         0   \n",
       "2       0  ...         0         0         0         0         0         0   \n",
       "3       0  ...         0         0         0         0         0         0   \n",
       "4       0  ...         0         0         0         0         0         0   \n",
       "\n",
       "   pixel780  pixel781  pixel782  pixel783  \n",
       "0         0         0         0         0  \n",
       "1         0         0         0         0  \n",
       "2         0         0         0         0  \n",
       "3         0         0         0         0  \n",
       "4         0         0         0         0  \n",
       "\n",
       "[5 rows x 784 columns]"
      ]
     },
     "execution_count": 3,
     "metadata": {},
     "output_type": "execute_result"
    }
   ],
   "source": [
    "test_data = pd.read_csv(\"/kaggle/input/digit-recognizer/test.csv\")\n",
    "print(test_data.shape)\n",
    "test_data.head()"
   ]
  },
  {
   "cell_type": "code",
   "execution_count": 4,
   "id": "7ea02c9b",
   "metadata": {
    "execution": {
     "iopub.execute_input": "2024-02-11T19:50:18.674211Z",
     "iopub.status.busy": "2024-02-11T19:50:18.673840Z",
     "iopub.status.idle": "2024-02-11T19:50:18.765406Z",
     "shell.execute_reply": "2024-02-11T19:50:18.764322Z"
    },
    "papermill": {
     "duration": 0.101021,
     "end_time": "2024-02-11T19:50:18.768393",
     "exception": false,
     "start_time": "2024-02-11T19:50:18.667372",
     "status": "completed"
    },
    "tags": []
   },
   "outputs": [
    {
     "name": "stdout",
     "output_type": "stream",
     "text": [
      "(42000, 784)\n",
      "(42000,)\n"
     ]
    },
    {
     "data": {
      "text/plain": [
       "array([1, 0, 1, ..., 7, 6, 9], dtype=int16)"
      ]
     },
     "execution_count": 4,
     "metadata": {},
     "output_type": "execute_result"
    }
   ],
   "source": [
    "X_train = (train_data.iloc[:,1:].values).astype('float32') # all pixel values\n",
    "y_train = train_data.iloc[:,0].values.astype('int16')\n",
    "\n",
    "print(X_train.shape)\n",
    "print(y_train.shape)\n",
    "y_train"
   ]
  },
  {
   "cell_type": "code",
   "execution_count": 5,
   "id": "dd26c2f7",
   "metadata": {
    "execution": {
     "iopub.execute_input": "2024-02-11T19:50:18.781327Z",
     "iopub.status.busy": "2024-02-11T19:50:18.780948Z",
     "iopub.status.idle": "2024-02-11T19:50:20.064322Z",
     "shell.execute_reply": "2024-02-11T19:50:20.063138Z"
    },
    "papermill": {
     "duration": 1.292975,
     "end_time": "2024-02-11T19:50:20.066998",
     "exception": false,
     "start_time": "2024-02-11T19:50:18.774023",
     "status": "completed"
    },
    "tags": []
   },
   "outputs": [
    {
     "name": "stdout",
     "output_type": "stream",
     "text": [
      "(42000, 28, 28)\n"
     ]
    },
    {
     "data": {
      "image/png": "[encoded data removed]",
      "text/plain": [
       "<Figure size 640x480 with 9 Axes>"
      ]
     },
     "metadata": {},
     "output_type": "display_data"
    }
   ],
   "source": [
    "X_train = X_train.reshape(-1, 28, 28)\n",
    "print(X_train.shape)\n",
    "\n",
    "for i in range(0, 9):\n",
    "    plt.subplot(330 + (i+1))\n",
    "    plt.imshow(X_train[i], cmap=plt.get_cmap('gray'))\n",
    "    plt.title(y_train[i])"
   ]
  },
  {
   "cell_type": "code",
   "execution_count": 6,
   "id": "b7f1dbc2",
   "metadata": {
    "execution": {
     "iopub.execute_input": "2024-02-11T19:50:20.080690Z",
     "iopub.status.busy": "2024-02-11T19:50:20.080303Z",
     "iopub.status.idle": "2024-02-11T19:50:20.139361Z",
     "shell.execute_reply": "2024-02-11T19:50:20.138459Z"
    },
    "papermill": {
     "duration": 0.069191,
     "end_time": "2024-02-11T19:50:20.142088",
     "exception": false,
     "start_time": "2024-02-11T19:50:20.072897",
     "status": "completed"
    },
    "tags": []
   },
   "outputs": [],
   "source": [
    "X_test = test_data.values.astype('float32')\n",
    "X_test = X_test.reshape(-1,28,28)"
   ]
  },
  {
   "cell_type": "code",
   "execution_count": 7,
   "id": "3d9e8cfd",
   "metadata": {
    "execution": {
     "iopub.execute_input": "2024-02-11T19:50:20.156403Z",
     "iopub.status.busy": "2024-02-11T19:50:20.156036Z",
     "iopub.status.idle": "2024-02-11T19:50:20.162473Z",
     "shell.execute_reply": "2024-02-11T19:50:20.161342Z"
    },
    "papermill": {
     "duration": 0.016375,
     "end_time": "2024-02-11T19:50:20.164917",
     "exception": false,
     "start_time": "2024-02-11T19:50:20.148542",
     "status": "completed"
    },
    "tags": []
   },
   "outputs": [
    {
     "data": {
      "text/plain": [
       "(28000, 28, 28)"
      ]
     },
     "execution_count": 7,
     "metadata": {},
     "output_type": "execute_result"
    }
   ],
   "source": [
    "X_test.shape"
   ]
  },
  {
   "cell_type": "code",
   "execution_count": 8,
   "id": "a319a0d6",
   "metadata": {
    "execution": {
     "iopub.execute_input": "2024-02-11T19:50:20.178527Z",
     "iopub.status.busy": "2024-02-11T19:50:20.178173Z",
     "iopub.status.idle": "2024-02-11T19:50:20.273141Z",
     "shell.execute_reply": "2024-02-11T19:50:20.271860Z"
    },
    "papermill": {
     "duration": 0.104768,
     "end_time": "2024-02-11T19:50:20.275681",
     "exception": false,
     "start_time": "2024-02-11T19:50:20.170913",
     "status": "completed"
    },
    "tags": []
   },
   "outputs": [],
   "source": [
    "X_train = X_train / 255.0\n",
    "X_test = X_test / 255.0"
   ]
  },
  {
   "cell_type": "code",
   "execution_count": 9,
   "id": "9f5b046a",
   "metadata": {
    "execution": {
     "iopub.execute_input": "2024-02-11T19:50:20.289931Z",
     "iopub.status.busy": "2024-02-11T19:50:20.288906Z",
     "iopub.status.idle": "2024-02-11T19:50:20.671085Z",
     "shell.execute_reply": "2024-02-11T19:50:20.670236Z"
    },
    "papermill": {
     "duration": 0.391926,
     "end_time": "2024-02-11T19:50:20.673644",
     "exception": false,
     "start_time": "2024-02-11T19:50:20.281718",
     "status": "completed"
    },
    "tags": []
   },
   "outputs": [],
   "source": [
    "X=X_train\n",
    "y=y_train\n",
    "X_train, X_val, y_train, y_val = train_test_split(X,y,test_size=0.10, random_state=0)"
   ]
  },
  {
   "cell_type": "code",
   "execution_count": 10,
   "id": "abfe2a1c",
   "metadata": {
    "execution": {
     "iopub.execute_input": "2024-02-11T19:50:20.687829Z",
     "iopub.status.busy": "2024-02-11T19:50:20.687166Z",
     "iopub.status.idle": "2024-02-11T19:50:20.806428Z",
     "shell.execute_reply": "2024-02-11T19:50:20.805422Z"
    },
    "papermill": {
     "duration": 0.129524,
     "end_time": "2024-02-11T19:50:20.809179",
     "exception": false,
     "start_time": "2024-02-11T19:50:20.679655",
     "status": "completed"
    },
    "tags": []
   },
   "outputs": [],
   "source": [
    "model = keras.Sequential([\n",
    "    keras.layers.Flatten(input_shape=(28, 28)),  # input layer (1)\n",
    "    keras.layers.Dense(128, activation='relu'),  # hidden layer (2)\n",
    "    keras.layers.Dense(10, activation='softmax') # output layer (3)\n",
    "])"
   ]
  },
  {
   "cell_type": "code",
   "execution_count": 11,
   "id": "2d9b7aa6",
   "metadata": {
    "execution": {
     "iopub.execute_input": "2024-02-11T19:50:20.823112Z",
     "iopub.status.busy": "2024-02-11T19:50:20.822702Z",
     "iopub.status.idle": "2024-02-11T19:50:37.677181Z",
     "shell.execute_reply": "2024-02-11T19:50:37.676220Z"
    },
    "papermill": {
     "duration": 16.86429,
     "end_time": "2024-02-11T19:50:37.679557",
     "exception": false,
     "start_time": "2024-02-11T19:50:20.815267",
     "status": "completed"
    },
    "tags": []
   },
   "outputs": [
    {
     "name": "stdout",
     "output_type": "stream",
     "text": [
      "Epoch 1/1000\n",
      "74/74 [==============================] - 1s 10ms/step - loss: 0.7517 - accuracy: 0.7986 - val_loss: 0.3508 - val_accuracy: 0.9021\n",
      "Epoch 2/1000\n",
      "74/74 [==============================] - 1s 7ms/step - loss: 0.3015 - accuracy: 0.9158 - val_loss: 0.2848 - val_accuracy: 0.9210\n",
      "Epoch 3/1000\n",
      "74/74 [==============================] - 1s 7ms/step - loss: 0.2435 - accuracy: 0.9311 - val_loss: 0.2415 - val_accuracy: 0.9348\n",
      "Epoch 4/1000\n",
      "74/74 [==============================] - 0s 6ms/step - loss: 0.2053 - accuracy: 0.9434 - val_loss: 0.2187 - val_accuracy: 0.9426\n",
      "Epoch 5/1000\n",
      "74/74 [==============================] - 1s 7ms/step - loss: 0.1767 - accuracy: 0.9497 - val_loss: 0.1952 - val_accuracy: 0.9455\n",
      "Epoch 6/1000\n",
      "74/74 [==============================] - 0s 6ms/step - loss: 0.1533 - accuracy: 0.9568 - val_loss: 0.1791 - val_accuracy: 0.9514\n",
      "Epoch 7/1000\n",
      "74/74 [==============================] - 0s 7ms/step - loss: 0.1357 - accuracy: 0.9618 - val_loss: 0.1675 - val_accuracy: 0.9538\n",
      "Epoch 8/1000\n",
      "74/74 [==============================] - 1s 8ms/step - loss: 0.1214 - accuracy: 0.9666 - val_loss: 0.1571 - val_accuracy: 0.9571\n",
      "Epoch 9/1000\n",
      "74/74 [==============================] - 1s 8ms/step - loss: 0.1091 - accuracy: 0.9697 - val_loss: 0.1492 - val_accuracy: 0.9564\n",
      "Epoch 10/1000\n",
      "74/74 [==============================] - 1s 7ms/step - loss: 0.0983 - accuracy: 0.9735 - val_loss: 0.1398 - val_accuracy: 0.9588\n",
      "Epoch 11/1000\n",
      "74/74 [==============================] - 1s 7ms/step - loss: 0.0897 - accuracy: 0.9756 - val_loss: 0.1339 - val_accuracy: 0.9614\n",
      "Epoch 12/1000\n",
      "74/74 [==============================] - 0s 7ms/step - loss: 0.0821 - accuracy: 0.9781 - val_loss: 0.1318 - val_accuracy: 0.9617\n",
      "Epoch 13/1000\n",
      "74/74 [==============================] - 0s 7ms/step - loss: 0.0755 - accuracy: 0.9795 - val_loss: 0.1278 - val_accuracy: 0.9624\n",
      "Epoch 14/1000\n",
      "74/74 [==============================] - 0s 6ms/step - loss: 0.0692 - accuracy: 0.9814 - val_loss: 0.1249 - val_accuracy: 0.9640\n",
      "Epoch 15/1000\n",
      "74/74 [==============================] - 1s 7ms/step - loss: 0.0636 - accuracy: 0.9834 - val_loss: 0.1223 - val_accuracy: 0.9648\n",
      "Epoch 16/1000\n",
      "74/74 [==============================] - 0s 7ms/step - loss: 0.0590 - accuracy: 0.9840 - val_loss: 0.1193 - val_accuracy: 0.9648\n",
      "Epoch 17/1000\n",
      "74/74 [==============================] - 0s 6ms/step - loss: 0.0542 - accuracy: 0.9859 - val_loss: 0.1166 - val_accuracy: 0.9650\n",
      "Epoch 18/1000\n",
      "74/74 [==============================] - 1s 7ms/step - loss: 0.0503 - accuracy: 0.9869 - val_loss: 0.1149 - val_accuracy: 0.9662\n",
      "Epoch 19/1000\n",
      "74/74 [==============================] - 0s 6ms/step - loss: 0.0468 - accuracy: 0.9881 - val_loss: 0.1120 - val_accuracy: 0.9676\n",
      "Epoch 20/1000\n",
      "74/74 [==============================] - 1s 7ms/step - loss: 0.0429 - accuracy: 0.9897 - val_loss: 0.1123 - val_accuracy: 0.9683\n",
      "Epoch 21/1000\n",
      "74/74 [==============================] - 1s 7ms/step - loss: 0.0400 - accuracy: 0.9902 - val_loss: 0.1083 - val_accuracy: 0.9683\n",
      "Epoch 22/1000\n",
      "74/74 [==============================] - 1s 7ms/step - loss: 0.0371 - accuracy: 0.9912 - val_loss: 0.1104 - val_accuracy: 0.9688\n",
      "Epoch 23/1000\n",
      "74/74 [==============================] - 0s 6ms/step - loss: 0.0349 - accuracy: 0.9920 - val_loss: 0.1105 - val_accuracy: 0.9683\n",
      "Epoch 24/1000\n",
      "74/74 [==============================] - 0s 6ms/step - loss: 0.0319 - accuracy: 0.9931 - val_loss: 0.1134 - val_accuracy: 0.9676\n",
      "Epoch 25/1000\n",
      "74/74 [==============================] - 0s 7ms/step - loss: 0.0297 - accuracy: 0.9939 - val_loss: 0.1084 - val_accuracy: 0.9679\n",
      "Epoch 26/1000\n",
      "74/74 [==============================] - 0s 7ms/step - loss: 0.0275 - accuracy: 0.9942 - val_loss: 0.1108 - val_accuracy: 0.9686\n",
      "Epoch 27/1000\n",
      "74/74 [==============================] - 0s 7ms/step - loss: 0.0252 - accuracy: 0.9949 - val_loss: 0.1082 - val_accuracy: 0.9690\n",
      "Epoch 28/1000\n",
      "74/74 [==============================] - 0s 7ms/step - loss: 0.0235 - accuracy: 0.9956 - val_loss: 0.1101 - val_accuracy: 0.9688\n",
      "Epoch 29/1000\n",
      "74/74 [==============================] - 1s 7ms/step - loss: 0.0218 - accuracy: 0.9960 - val_loss: 0.1105 - val_accuracy: 0.9702\n",
      "Epoch 30/1000\n",
      "74/74 [==============================] - 0s 7ms/step - loss: 0.0209 - accuracy: 0.9964 - val_loss: 0.1075 - val_accuracy: 0.9698\n",
      "Epoch 31/1000\n",
      "74/74 [==============================] - 0s 7ms/step - loss: 0.0189 - accuracy: 0.9973 - val_loss: 0.1084 - val_accuracy: 0.9693\n"
     ]
    }
   ],
   "source": [
    "model.compile(\n",
    "    optimizer='adam',\n",
    "    loss='sparse_categorical_crossentropy',\n",
    "    metrics=['accuracy'])\n",
    "\n",
    "early_stopping = keras.callbacks.EarlyStopping(\n",
    "    patience=10,\n",
    "    min_delta=0.001,\n",
    "    restore_best_weights=True)\n",
    "\n",
    "history = model.fit(\n",
    "    X_train, y_train,\n",
    "    validation_data=(X_val,y_val),\n",
    "    batch_size=512,\n",
    "    epochs=1000,\n",
    "    callbacks=[early_stopping])"
   ]
  },
  {
   "cell_type": "code",
   "execution_count": 12,
   "id": "a43c4ed7",
   "metadata": {
    "execution": {
     "iopub.execute_input": "2024-02-11T19:50:37.743195Z",
     "iopub.status.busy": "2024-02-11T19:50:37.742805Z",
     "iopub.status.idle": "2024-02-11T19:50:42.621067Z",
     "shell.execute_reply": "2024-02-11T19:50:42.619254Z"
    },
    "papermill": {
     "duration": 4.91605,
     "end_time": "2024-02-11T19:50:42.624665",
     "exception": false,
     "start_time": "2024-02-11T19:50:37.708615",
     "status": "completed"
    },
    "tags": []
   },
   "outputs": [
    {
     "name": "stdout",
     "output_type": "stream",
     "text": [
      "132/132 [==============================] - 0s 2ms/step\n"
     ]
    }
   ],
   "source": [
    "predictions = model.predict(X_val)"
   ]
  },
  {
   "cell_type": "code",
   "execution_count": 13,
   "id": "c37d1da9",
   "metadata": {
    "execution": {
     "iopub.execute_input": "2024-02-11T19:50:42.710237Z",
     "iopub.status.busy": "2024-02-11T19:50:42.709505Z",
     "iopub.status.idle": "2024-02-11T19:50:42.715491Z",
     "shell.execute_reply": "2024-02-11T19:50:42.714282Z"
    },
    "papermill": {
     "duration": 0.054267,
     "end_time": "2024-02-11T19:50:42.718006",
     "exception": false,
     "start_time": "2024-02-11T19:50:42.663739",
     "status": "completed"
    },
    "tags": []
   },
   "outputs": [],
   "source": [
    "# def show_image(img):\n",
    "#   plt.figure()\n",
    "#   plt.imshow(img, cmap=plt.cm.binary)\n",
    "#   plt.grid(False)\n",
    "#   plt.show()\n",
    "  \n",
    "# def get_number():\n",
    "#   while True:\n",
    "#     num = input(\"Pick a number: \")\n",
    "#     if num.isdigit():\n",
    "#       num = int(num)\n",
    "#       if 0 <= num < 4200:\n",
    "#         return int(num)\n",
    "#       else:\n",
    "#         print(\"Try again...\")\n",
    "#     else:\n",
    "#         print(\"Try again...\")\n",
    "\n",
    "# num = get_number()\n",
    "# show_image(X_val[num])\n",
    "# print(np.argmax(predictions[num]))\n",
    "# print(y_val[num])"
   ]
  },
  {
   "cell_type": "code",
   "execution_count": 14,
   "id": "35f9575d",
   "metadata": {
    "execution": {
     "iopub.execute_input": "2024-02-11T19:50:42.777550Z",
     "iopub.status.busy": "2024-02-11T19:50:42.777157Z",
     "iopub.status.idle": "2024-02-11T19:50:42.783449Z",
     "shell.execute_reply": "2024-02-11T19:50:42.782332Z"
    },
    "papermill": {
     "duration": 0.038504,
     "end_time": "2024-02-11T19:50:42.786042",
     "exception": false,
     "start_time": "2024-02-11T19:50:42.747538",
     "status": "completed"
    },
    "tags": []
   },
   "outputs": [],
   "source": [
    "predictions = np.argmax(predictions, axis = 1)\n",
    "predictions = pd.Series(predictions,name = \"Label\")"
   ]
  },
  {
   "cell_type": "code",
   "execution_count": 15,
   "id": "36ed43cd",
   "metadata": {
    "execution": {
     "iopub.execute_input": "2024-02-11T19:50:42.844574Z",
     "iopub.status.busy": "2024-02-11T19:50:42.844179Z",
     "iopub.status.idle": "2024-02-11T19:50:42.884411Z",
     "shell.execute_reply": "2024-02-11T19:50:42.883195Z"
    },
    "papermill": {
     "duration": 0.072963,
     "end_time": "2024-02-11T19:50:42.887354",
     "exception": false,
     "start_time": "2024-02-11T19:50:42.814391",
     "status": "completed"
    },
    "tags": []
   },
   "outputs": [],
   "source": [
    "submission = pd.concat([pd.Series(range(1,28001), name = \"ImageId\"),predictions],axis = 1)\n",
    "submission.to_csv(\"DR.csv\", index = False)"
   ]
  }
 ],
 "metadata": {
  "kaggle": {
   "accelerator": "none",
   "dataSources": [
    {
     "databundleVersionId": 861823,
     "sourceId": 3004,
     "sourceType": "competition"
    }
   ],
   "dockerImageVersionId": 30646,
   "isGpuEnabled": false,
   "isInternetEnabled": true,
   "language": "python",
   "sourceType": "notebook"
  },
  "kernelspec": {
   "display_name": "Python 3",
   "language": "python",
   "name": "python3"
  },
  "language_info": {
   "codemirror_mode": {
    "name": "ipython",
    "version": 3
   },
   "file_extension": ".py",
   "mimetype": "text/x-python",
   "name": "python",
   "nbconvert_exporter": "python",
   "pygments_lexer": "ipython3",
   "version": "3.10.13"
  },
  "papermill": {
   "default_parameters": {},
   "duration": 50.632227,
   "end_time": "2024-02-11T19:50:44.641000",
   "environment_variables": {},
   "exception": null,
   "input_path": "__notebook__.ipynb",
   "output_path": "__notebook__.ipynb",
   "parameters": {},
   "start_time": "2024-02-11T19:49:54.008773",
   "version": "2.5.0"
  }
 },
 "nbformat": 4,
 "nbformat_minor": 5
}
